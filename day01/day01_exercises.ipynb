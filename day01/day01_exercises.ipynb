{
 "cells": [
  {
   "cell_type": "markdown",
   "metadata": {},
   "source": [
    "# Day 1 Exercises (Core Python)\n",
    "\n",
    "## Part 1: Spike Counts\n",
    "\n",
    "Imagine you've just finished recording from a V1 neuron. Across 60 experimental trials, you presented either a vertical or horizontal Gabor patch (30 each) and recorded the corresponding number of spikes (counts below). Now you want to ask some questions of your data."
   ]
  },
  {
   "cell_type": "code",
   "execution_count": 1,
   "metadata": {},
   "outputs": [],
   "source": [
    "## Spike counts: vertical Gabor patch.\n",
    "spikes_v = [39, 36, 38, 32, 28, 33, 28, 29, 30, 31, 22, 37, 26, 22, 37, \n",
    "            34, 26, 30, 32, 34, 30, 26, 30, 26, 32, 30, 28, 21, 35, 41]\n",
    "\n",
    "## Spike counts: horizontal Gabor patch.\n",
    "spikes_h = [28, 19, 15, 19, 25, 27, 19, 19, 28, 18, 19, 24, 14, 24, 16, \n",
    "            11, 24, 16, 21, 22, 18, 24, 24, 20, 15, 26, 20, 17, 21, 26]"
   ]
  },
  {
   "cell_type": "markdown",
   "metadata": {},
   "source": [
    "### Exercise 1: Indexing\n",
    "\n",
    "a) Return the spike count corresponding to the 17th presentation of the vertical stimulus."
   ]
  },
  {
   "cell_type": "code",
   "execution_count": null,
   "metadata": {},
   "outputs": [],
   "source": []
  },
  {
   "cell_type": "markdown",
   "metadata": {},
   "source": [
    "b) Return the spike count corresponding to the fifth-from-last presentation of the horizontal stimulus."
   ]
  },
  {
   "cell_type": "code",
   "execution_count": null,
   "metadata": {},
   "outputs": [],
   "source": []
  },
  {
   "cell_type": "markdown",
   "metadata": {},
   "source": [
    "c) Return the spike counts from every fourth presentation of the horizontal stimulus. "
   ]
  },
  {
   "cell_type": "code",
   "execution_count": null,
   "metadata": {},
   "outputs": [],
   "source": []
  },
  {
   "cell_type": "markdown",
   "metadata": {},
   "source": [
    "d) Return spike count corresponding to the 3rd, 8th, and 10th-from-last presentaiton of the vertical stimulus. (Hint: use list comprehensions.)"
   ]
  },
  {
   "cell_type": "code",
   "execution_count": null,
   "metadata": {},
   "outputs": [],
   "source": []
  },
  {
   "cell_type": "markdown",
   "metadata": {},
   "source": [
    "e) Return the 2nd largest recorded spike count in response to the vertical stimulus. (Hint: use the `sort` function.)"
   ]
  },
  {
   "cell_type": "code",
   "execution_count": null,
   "metadata": {},
   "outputs": [],
   "source": []
  },
  {
   "cell_type": "markdown",
   "metadata": {},
   "source": [
    "### Exercise 2: Built-in Functions\n",
    "\n",
    "a) Compute and store in separate variables the max spike count from each stimulus condition. Then, using an `if/else` statement, write some code which prints out which condition had the larger max count."
   ]
  },
  {
   "cell_type": "code",
   "execution_count": null,
   "metadata": {},
   "outputs": [],
   "source": []
  },
  {
   "cell_type": "markdown",
   "metadata": {},
   "source": [
    "b) Compute and store in separate variables the total spike counts from each stimulus condition. Then, using an `if/else` statement, write some code which prints out which condition had the smaller total count."
   ]
  },
  {
   "cell_type": "code",
   "execution_count": null,
   "metadata": {},
   "outputs": [],
   "source": []
  },
  {
   "cell_type": "markdown",
   "metadata": {},
   "source": [
    "### Exercise 3: Basic Scripting\n",
    "a) Create a new copy of each list that now contains spikes counts greater than or equal to 25. How many counts are now in each list?"
   ]
  },
  {
   "cell_type": "code",
   "execution_count": null,
   "metadata": {},
   "outputs": [],
   "source": []
  },
  {
   "cell_type": "markdown",
   "metadata": {},
   "source": [
    "b) Using a for loop, create new list containing only the intersection of the two lists (i.e. containing only spike counts present in both lists."
   ]
  },
  {
   "cell_type": "code",
   "execution_count": null,
   "metadata": {},
   "outputs": [],
   "source": []
  },
  {
   "cell_type": "markdown",
   "metadata": {},
   "source": [
    "c) Do the same as above, now only using list comprehensions."
   ]
  },
  {
   "cell_type": "code",
   "execution_count": null,
   "metadata": {},
   "outputs": [],
   "source": []
  },
  {
   "cell_type": "markdown",
   "metadata": {},
   "source": [
    "### Exercise 4: Custom Functions\n",
    "a) Copy the **mean** function from today's lecture. Which condition shows the greater number of spikes on average? "
   ]
  },
  {
   "cell_type": "code",
   "execution_count": null,
   "metadata": {},
   "outputs": [],
   "source": []
  },
  {
   "cell_type": "markdown",
   "metadata": {},
   "source": [
    "b) Write a function that computes the **median** of a list. Which condition shows the greater median number of spikes?"
   ]
  },
  {
   "cell_type": "code",
   "execution_count": null,
   "metadata": {},
   "outputs": [],
   "source": []
  },
  {
   "cell_type": "markdown",
   "metadata": {},
   "source": [
    "c) Write a function that computes the **standard deviation** of a list. Which condition shows the greater standard deviation in the number of spikes? As a reminder, the formula for the standard deviation is:\n",
    "\n",
    "$$ s = \\sqrt{\\frac{1}{N-1} \\sum_{i=1}^N (x_i - \\bar{x})^2 }$$ "
   ]
  },
  {
   "cell_type": "code",
   "execution_count": null,
   "metadata": {},
   "outputs": [],
   "source": []
  },
  {
   "cell_type": "markdown",
   "metadata": {},
   "source": [
    "## Part 2: Challenges\n",
    "\n",
    "Below are some programming challenges to test out your python muster!"
   ]
  },
  {
   "cell_type": "markdown",
   "metadata": {},
   "source": [
    "### Exercise 1\n",
    "\n",
    "Write a function that checks if the inputted argument is even, odd, a float, or not a number (NaN)."
   ]
  },
  {
   "cell_type": "code",
   "execution_count": null,
   "metadata": {},
   "outputs": [],
   "source": []
  },
  {
   "cell_type": "markdown",
   "metadata": {},
   "source": [
    "### Exercise 2\n",
    "Starting with the list below, construct a `while` loop that returns the [Fibonacci numbers](https://en.wikipedia.org/wiki/Fibonacci_number) and terminates only when the most recent number is greater than 5000."
   ]
  },
  {
   "cell_type": "code",
   "execution_count": null,
   "metadata": {
    "collapsed": true
   },
   "outputs": [],
   "source": []
  },
  {
   "cell_type": "markdown",
   "metadata": {},
   "source": [
    "### Exercise 3\n",
    "Define a function that checks if an inputted integer is prime. Test your function on the following numbers: \n",
    ">1411, 1147, 2327, 2683, 33233\n",
    "\n",
    "Only one number above is not prime. \n",
    "\n",
    "As an added challenge, if the tested integer is not prime, have the function return a number the integer is divisible by."
   ]
  },
  {
   "cell_type": "markdown",
   "metadata": {},
   "source": [
    "### Exercise 4\n",
    "\n",
    "Write a function that converts a binary string into an integer. Test it on the following binary strings:\n",
    "\n",
    "- 00000111\n",
    "- 00110111\n",
    "- 01011011\n",
    "\n",
    "(Remember that binary is read from right-to-left.)"
   ]
  },
  {
   "cell_type": "code",
   "execution_count": null,
   "metadata": {},
   "outputs": [],
   "source": []
  }
 ],
 "metadata": {
  "kernelspec": {
   "display_name": "Python 3",
   "language": "python",
   "name": "python3"
  },
  "language_info": {
   "codemirror_mode": {
    "name": "ipython",
    "version": 3
   },
   "file_extension": ".py",
   "mimetype": "text/x-python",
   "name": "python",
   "nbconvert_exporter": "python",
   "pygments_lexer": "ipython3",
   "version": "3.7.1"
  },
  "toc": {
   "colors": {
    "hover_highlight": "#DAA520",
    "navigate_num": "#000000",
    "navigate_text": "#333333",
    "running_highlight": "#FF0000",
    "selected_highlight": "#FFD700",
    "sidebar_border": "#EEEEEE",
    "wrapper_background": "#FFFFFF"
   },
   "moveMenuLeft": true,
   "nav_menu": {
    "height": "315px",
    "width": "252px"
   },
   "navigate_menu": true,
   "number_sections": false,
   "sideBar": true,
   "threshold": 4,
   "toc_cell": false,
   "toc_section_display": "block",
   "toc_window_display": false,
   "widenNotebook": false
  }
 },
 "nbformat": 4,
 "nbformat_minor": 2
}
