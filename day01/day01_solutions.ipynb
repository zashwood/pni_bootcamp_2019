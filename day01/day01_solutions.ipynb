{
 "cells": [
  {
   "cell_type": "markdown",
   "metadata": {},
   "source": [
    "# Day 1 Exercises (Core Python)\n",
    "\n",
    "## Part 1: Spike Counts\n",
    "\n",
    "Imagine you've just finished recording from a V1 neuron. Across 60 experimental trials, you presented either a vertical or horizontal Gabor patch (30 each) and recorded the corresponding number of spikes (counts below). Now you want to ask some questions of your data."
   ]
  },
  {
   "cell_type": "code",
   "execution_count": 1,
   "metadata": {},
   "outputs": [],
   "source": [
    "## Spike counts: vertical Gabor patch.\n",
    "spikes_v = [39, 36, 38, 32, 28, 33, 28, 29, 30, 31, 22, 37, 26, 22, 37, \n",
    "            34, 26, 30, 32, 34, 30, 26, 30, 26, 32, 30, 28, 21, 35, 41]\n",
    "\n",
    "## Spike counts: horizontal Gabor patch.\n",
    "spikes_h = [28, 19, 15, 19, 25, 27, 19, 19, 28, 18, 19, 24, 14, 24, 16, \n",
    "            11, 24, 16, 21, 22, 18, 24, 24, 20, 15, 26, 20, 17, 21, 26]"
   ]
  },
  {
   "cell_type": "markdown",
   "metadata": {},
   "source": [
    "### Exercise 1: Indexing\n",
    "\n",
    "a) Return the spike count corresponding to the 17th presentation of the vertical stimulus."
   ]
  },
  {
   "cell_type": "code",
   "execution_count": 2,
   "metadata": {},
   "outputs": [
    {
     "data": {
      "text/plain": [
       "32"
      ]
     },
     "execution_count": 2,
     "metadata": {},
     "output_type": "execute_result"
    }
   ],
   "source": [
    "spikes_v[18]"
   ]
  },
  {
   "cell_type": "markdown",
   "metadata": {},
   "source": [
    "b) Return the spike count corresponding to the fifth-from-last presentation of the horizontal stimulus."
   ]
  },
  {
   "cell_type": "code",
   "execution_count": 3,
   "metadata": {},
   "outputs": [
    {
     "data": {
      "text/plain": [
       "26"
      ]
     },
     "execution_count": 3,
     "metadata": {},
     "output_type": "execute_result"
    }
   ],
   "source": [
    "spikes_h[-5]"
   ]
  },
  {
   "cell_type": "markdown",
   "metadata": {},
   "source": [
    "c) Return the spike counts from every fourth presentation of the horizontal stimulus. "
   ]
  },
  {
   "cell_type": "code",
   "execution_count": 4,
   "metadata": {},
   "outputs": [
    {
     "data": {
      "text/plain": [
       "[28, 25, 28, 14, 24, 18, 15, 21]"
      ]
     },
     "execution_count": 4,
     "metadata": {},
     "output_type": "execute_result"
    }
   ],
   "source": [
    "spikes_h[::4]"
   ]
  },
  {
   "cell_type": "markdown",
   "metadata": {},
   "source": [
    "d) Return spike count corresponding to the 3rd, 8th, and 10th-from-last presentaiton of the vertical stimulus. (Hint: use list comprehensions.)"
   ]
  },
  {
   "cell_type": "code",
   "execution_count": 5,
   "metadata": {},
   "outputs": [
    {
     "data": {
      "text/plain": [
       "[28, 31, 30]"
      ]
     },
     "execution_count": 5,
     "metadata": {},
     "output_type": "execute_result"
    }
   ],
   "source": [
    "[spikes_v[i] for i in [4, 9, -10]]"
   ]
  },
  {
   "cell_type": "markdown",
   "metadata": {},
   "source": [
    "e) Return the 2nd largest recorded spike count in response to the vertical stimulus. (Hint: use the `sort` function.)"
   ]
  },
  {
   "cell_type": "code",
   "execution_count": 6,
   "metadata": {},
   "outputs": [
    {
     "data": {
      "text/plain": [
       "39"
      ]
     },
     "execution_count": 6,
     "metadata": {},
     "output_type": "execute_result"
    }
   ],
   "source": [
    "sorted(spikes_v)[-2]"
   ]
  },
  {
   "cell_type": "markdown",
   "metadata": {},
   "source": [
    "### Exercise 2: Built-in Functions\n",
    "\n",
    "a) Compute and store in separate variables the max spike count from each stimulus condition. Then, using an `if/else` statement, write some code which prints out which condition had the larger max count."
   ]
  },
  {
   "cell_type": "code",
   "execution_count": 7,
   "metadata": {},
   "outputs": [
    {
     "name": "stdout",
     "output_type": "stream",
     "text": [
      "V > H\n"
     ]
    }
   ],
   "source": [
    "max_v = max(spikes_v)    # Max spike (vertical)\n",
    "max_h = max(spikes_h)    # Max spike (horizontal)\n",
    "\n",
    "if max_v > max_h:\n",
    "    print('V > H')\n",
    "else:\n",
    "    print('V < H')"
   ]
  },
  {
   "cell_type": "markdown",
   "metadata": {},
   "source": [
    "b) Compute and store in separate variables the total spike counts from each stimulus condition. Then, using an `if/else` statement, write some code which prints out which condition had the smaller total count."
   ]
  },
  {
   "cell_type": "code",
   "execution_count": 8,
   "metadata": {},
   "outputs": [
    {
     "name": "stdout",
     "output_type": "stream",
     "text": [
      "V > H\n"
     ]
    }
   ],
   "source": [
    "sum_v = sum(spikes_v)    # Total spikes (vertical)\n",
    "sum_h = sum(spikes_h)    # Total spikes (horizontal)\n",
    "\n",
    "if sum_v > sum_h:\n",
    "    print('V > H')\n",
    "else:\n",
    "    print('V < H')"
   ]
  },
  {
   "cell_type": "markdown",
   "metadata": {},
   "source": [
    "### Exercise 3: Basic Scripting\n",
    "a) Create a new copy of each list that now contains spikes counts greater than or equal to 25. How many counts are now in each list?"
   ]
  },
  {
   "cell_type": "code",
   "execution_count": 9,
   "metadata": {},
   "outputs": [
    {
     "name": "stdout",
     "output_type": "stream",
     "text": [
      "Vertical: 27\n",
      "Horizontal: 6\n"
     ]
    }
   ],
   "source": [
    "big_bois_v = [c for c in spikes_v if c >= 25]\n",
    "big_bois_h = [c for c in spikes_h if c >= 25]\n",
    "\n",
    "print(f'Vertical: {len(big_bois_v)}')\n",
    "print(f'Horizontal: {len(big_bois_h)}')"
   ]
  },
  {
   "cell_type": "markdown",
   "metadata": {},
   "source": [
    "b) Using a for loop, create new list containing only the intersection of the two lists (i.e. containing only spike counts present in both lists)."
   ]
  },
  {
   "cell_type": "code",
   "execution_count": 10,
   "metadata": {},
   "outputs": [
    {
     "name": "stdout",
     "output_type": "stream",
     "text": [
      "[21, 22, 26, 28]\n"
     ]
    }
   ],
   "source": [
    "## Initalize new list.\n",
    "intersection = []\n",
    "\n",
    "## Iterate over both lists.\n",
    "for v, h in zip(spikes_v, spikes_h):\n",
    "    \n",
    "    ## Check if v-spike in horizontal.\n",
    "    if v in spikes_h and v not in intersection: \n",
    "        intersection.append(v)\n",
    "        \n",
    "    ## Check if h-spike in horizontal.\n",
    "    if h in spikes_v and h not in intersection: \n",
    "        intersection.append(h)\n",
    "        \n",
    "## Sort for good measure.\n",
    "intersection = sorted(intersection)\n",
    "    \n",
    "print(intersection)"
   ]
  },
  {
   "cell_type": "markdown",
   "metadata": {},
   "source": [
    "c) Do the same as above, now only using list comprehensions."
   ]
  },
  {
   "cell_type": "code",
   "execution_count": 11,
   "metadata": {},
   "outputs": [
    {
     "name": "stdout",
     "output_type": "stream",
     "text": [
      "[21, 22, 26, 28]\n"
     ]
    }
   ],
   "source": [
    "## Find v in horizontal.\n",
    "h_in_v = [h for h in spikes_h if h in spikes_v]\n",
    "v_in_h = [v for v in spikes_v if v in spikes_h]\n",
    "\n",
    "## Use sets to find intersection.\n",
    "intersection = list(set(h_in_v + v_in_h))\n",
    "\n",
    "## Sort for good measure.\n",
    "intersection = sorted(intersection)\n",
    "    \n",
    "print(intersection)"
   ]
  },
  {
   "cell_type": "markdown",
   "metadata": {},
   "source": [
    "### Exercise 4: Custom Functions\n",
    "a) Copy the **mean** function from today's lecture. Which condition shows the greater number of spikes on average? "
   ]
  },
  {
   "cell_type": "code",
   "execution_count": 12,
   "metadata": {},
   "outputs": [
    {
     "name": "stdout",
     "output_type": "stream",
     "text": [
      "Mean(vertical)   = 30.767\n",
      "Mean(horizontal) = 20.633\n"
     ]
    }
   ],
   "source": [
    "def mean(X):\n",
    "    \"Compute arithmetic average.\"\n",
    "    return sum(X) / len(X)\n",
    "\n",
    "print('Mean(vertical)   = %0.3f' %mean(spikes_v))\n",
    "print('Mean(horizontal) = %0.3f' %mean(spikes_h))"
   ]
  },
  {
   "cell_type": "markdown",
   "metadata": {},
   "source": [
    "b) Write a function that computes the **median** of a list. Which condition shows the greater median number of spikes?"
   ]
  },
  {
   "cell_type": "code",
   "execution_count": 13,
   "metadata": {},
   "outputs": [
    {
     "name": "stdout",
     "output_type": "stream",
     "text": [
      "Median(vertical)   = 35.5\n",
      "Median(horizontal) = 13.5\n"
     ]
    }
   ],
   "source": [
    "def median(X):\n",
    "    \"Find median of list.\"\n",
    "    \n",
    "    ## Check if odd or even.\n",
    "    odd = len(X) % 2\n",
    "    \n",
    "    ## If odd, return middle index.\n",
    "    if odd:\n",
    "        return X[len(X) // 2]\n",
    "    \n",
    "    ## If even, take average of middle indexes.\n",
    "    else:\n",
    "        lb = X[len(X) // 2 - 1]    # Lower-bound\n",
    "        ub = X[len(X) // 2]        # Upper-bound\n",
    "        return (lb + ub) / 2\n",
    "    \n",
    "print('Median(vertical)   = %0.1f' %median(spikes_v))\n",
    "print('Median(horizontal) = %0.1f' %median(spikes_h))"
   ]
  },
  {
   "cell_type": "markdown",
   "metadata": {},
   "source": [
    "c) Write a function that computes the **standard deviation** of a list. Which condition shows the greater standard deviation in the number of spikes? As a reminder, the formula for the standard deviation is:\n",
    "\n",
    "$$ s = \\sqrt{\\frac{1}{N-1} \\sum_{i=1}^N (x_i - \\bar{x})^2 }$$ "
   ]
  },
  {
   "cell_type": "code",
   "execution_count": 14,
   "metadata": {},
   "outputs": [
    {
     "name": "stdout",
     "output_type": "stream",
     "text": [
      "SD(vertical)   = 5.077\n",
      "SD(horizontal) = 4.429\n"
     ]
    }
   ],
   "source": [
    "def mean(x):\n",
    "    \"Compute arithmetic average.\"\n",
    "    return sum(x) / len(x)\n",
    "\n",
    "def std(X):\n",
    "    \"Compute empirical standard deviation.\"\n",
    "    \n",
    "    ## Calculate empirical mean.\n",
    "    mu = mean(X)\n",
    "    \n",
    "    ## Compute sum of squared error.\n",
    "    sse = sum( [ (x - mu)**2 for x in X ] )\n",
    "    \n",
    "    ## Normalize.\n",
    "    var = sse / (len(X) - 1)\n",
    "    \n",
    "    return var ** 0.5\n",
    "\n",
    "print('SD(vertical)   = %0.3f' %std(spikes_v))\n",
    "print('SD(horizontal) = %0.3f' %std(spikes_h))"
   ]
  },
  {
   "cell_type": "markdown",
   "metadata": {},
   "source": [
    "## Part 2: Challenges\n",
    "\n",
    "Below are some programming challenges to test out your python muster!"
   ]
  },
  {
   "cell_type": "markdown",
   "metadata": {},
   "source": [
    "### Exercise 1\n",
    "\n",
    "Write a function that checks if the inputted argument is even, odd, a float, or not a number (NaN)."
   ]
  },
  {
   "cell_type": "code",
   "execution_count": 15,
   "metadata": {},
   "outputs": [
    {
     "name": "stdout",
     "output_type": "stream",
     "text": [
      "1 is odd.\n",
      "2 is even.\n",
      "2.5 is a float.\n",
      "\"yay\" is not a number.\n"
     ]
    }
   ],
   "source": [
    "def number_checker(x):\n",
    "    \"\"\"A silly number checker.\"\"\"\n",
    "    \n",
    "    if isinstance(x, int) and x % 2: \n",
    "        print(f'{x} is odd.')\n",
    "    elif isinstance(x, int):\n",
    "        print(f'{x} is even.')\n",
    "    elif isinstance(x, float):\n",
    "        print(f'{x} is a float.')\n",
    "    else:\n",
    "        print(f'\"{x}\" is not a number.')\n",
    "        \n",
    "number_checker(1)\n",
    "number_checker(2)\n",
    "number_checker(2.5)\n",
    "number_checker(\"yay\")"
   ]
  },
  {
   "cell_type": "markdown",
   "metadata": {},
   "source": [
    "### Exercise 2\n",
    "Starting with the list below, construct a `while` loop that returns the [Fibonacci numbers](https://en.wikipedia.org/wiki/Fibonacci_number) and terminates only when the most recent number is greater than 5000."
   ]
  },
  {
   "cell_type": "code",
   "execution_count": 16,
   "metadata": {
    "collapsed": true
   },
   "outputs": [
    {
     "name": "stdout",
     "output_type": "stream",
     "text": [
      "[0, 1, 1, 2, 3, 5, 8, 13, 21, 34, 55, 89, 144, 233, 377, 610, 987, 1597, 2584, 4181, 6765]\n"
     ]
    }
   ],
   "source": [
    "## Initialize list.\n",
    "vals = [0,1]\n",
    "\n",
    "while vals[-1] <= 5000:\n",
    "    \n",
    "    ## Iteratively append sum of two most recent entries.\n",
    "    vals.append( vals[-2] + vals[-1] )\n",
    "    \n",
    "print(vals)"
   ]
  },
  {
   "cell_type": "markdown",
   "metadata": {},
   "source": [
    "### Exercise 3\n",
    "Define a function that checks if an inputted integer is prime. Test your function on the following numbers: \n",
    ">1411, 1147, 2327, 2683, 33233\n",
    "\n",
    "Only one number above is not prime. \n",
    "\n",
    "As an added challenge, if the tested integer is not prime, have the function return a number the integer is divisible by."
   ]
  },
  {
   "cell_type": "markdown",
   "metadata": {},
   "source": [
    "#### Version 1"
   ]
  },
  {
   "cell_type": "code",
   "execution_count": 17,
   "metadata": {},
   "outputs": [
    {
     "name": "stdout",
     "output_type": "stream",
     "text": [
      "1411 is divisible by 17.\n",
      "1147 is divisible by 31.\n",
      "2327 is divisible by 13.\n",
      "2683 is prime!\n",
      "33233 is divisible by 167.\n"
     ]
    }
   ],
   "source": [
    "def is_prime(i):\n",
    "    \"\"\"Check if integer is prime.\"\"\"\n",
    "    \n",
    "    ## Error-catching.\n",
    "    assert isinstance(i, int)\n",
    "    \n",
    "    ## Define range of divisors. \n",
    "    divisors = range(2,i)\n",
    "    \n",
    "    ## Iterately compute remainders from division.\n",
    "    remainders = [True if i % d == 0 else False for d in divisors]\n",
    "    \n",
    "    ## Check for no remainder.\n",
    "    if any(remainders):\n",
    "        print('%s is divisible by %s.' %(i,divisors[remainders.index(True)]))\n",
    "    else:\n",
    "        print('%s is prime!' %i)\n",
    "\n",
    "## Test function.\n",
    "for i in [1411, 1147, 2327, 2683, 33233]:\n",
    "    is_prime(i)"
   ]
  },
  {
   "cell_type": "markdown",
   "metadata": {},
   "source": [
    "#### Version 2"
   ]
  },
  {
   "cell_type": "code",
   "execution_count": 18,
   "metadata": {},
   "outputs": [
    {
     "name": "stdout",
     "output_type": "stream",
     "text": [
      "1411 is divisible by 17.\n",
      "1147 is divisible by 31.\n",
      "2327 is divisible by 13.\n",
      "2683 is divisible by None.\n",
      "33233 is divisible by 167.\n"
     ]
    }
   ],
   "source": [
    "def is_prime(i):\n",
    "    \"\"\"Check if integer is prime.\"\"\"\n",
    "    \n",
    "    ## Error-catching.\n",
    "    assert isinstance(i, int)\n",
    "    \n",
    "    ## Initialize divisor.\n",
    "    d = 2\n",
    "    \n",
    "    ## Iteratively check for no remainder.\n",
    "    while d < i:\n",
    "        if i % d == 0:\n",
    "            return(d)\n",
    "        else:\n",
    "            d += 1\n",
    "    \n",
    "    return(None)\n",
    "\n",
    "## Test function.\n",
    "for i in [1411, 1147, 2327, 2683, 33233]:\n",
    "    print('%s is divisible by %s.' %(i,is_prime(i)))"
   ]
  },
  {
   "cell_type": "markdown",
   "metadata": {},
   "source": [
    "### Exercise 4\n",
    "\n",
    "Write a function that converts a binary string into an integer. Test it on the following binary strings:\n",
    "\n",
    "- 00000111\n",
    "- 00110111\n",
    "- 01011011\n",
    "\n",
    "(Remember that binary is read from right-to-left.)"
   ]
  },
  {
   "cell_type": "code",
   "execution_count": 19,
   "metadata": {},
   "outputs": [
    {
     "name": "stdout",
     "output_type": "stream",
     "text": [
      "00000111 is equal to 7.\n",
      "00110111 is equal to 55.\n",
      "01011011 is equal to 91.\n"
     ]
    }
   ],
   "source": [
    "def binary_to_int(binary):\n",
    "    \"\"\"Binary to integer converter.\"\"\"\n",
    "    \n",
    "    ## Convert (reversed) string to ints.\n",
    "    switch = [int(s) for s in binary[::-1]]\n",
    "    \n",
    "    ## Define base values.\n",
    "    bases = [2 ** k for k in range(len(switch))]\n",
    "    \n",
    "    ## Multiple switches & bases. Sum.\n",
    "    return sum([b*s for b, s in zip(bases,switch)])\n",
    "       \n",
    "## Test function.\n",
    "for binary in [\"00000111\", \"00110111\", \"01011011\"]:\n",
    "    print(f'{binary} is equal to {binary_to_int(binary)}.')"
   ]
  }
 ],
 "metadata": {
  "kernelspec": {
   "display_name": "Python 3",
   "language": "python",
   "name": "python3"
  },
  "language_info": {
   "codemirror_mode": {
    "name": "ipython",
    "version": 3
   },
   "file_extension": ".py",
   "mimetype": "text/x-python",
   "name": "python",
   "nbconvert_exporter": "python",
   "pygments_lexer": "ipython3",
   "version": "3.7.1"
  },
  "toc": {
   "colors": {
    "hover_highlight": "#DAA520",
    "navigate_num": "#000000",
    "navigate_text": "#333333",
    "running_highlight": "#FF0000",
    "selected_highlight": "#FFD700",
    "sidebar_border": "#EEEEEE",
    "wrapper_background": "#FFFFFF"
   },
   "moveMenuLeft": true,
   "nav_menu": {
    "height": "315px",
    "width": "252px"
   },
   "navigate_menu": true,
   "number_sections": false,
   "sideBar": true,
   "threshold": 4,
   "toc_cell": false,
   "toc_section_display": "block",
   "toc_window_display": false,
   "widenNotebook": false
  }
 },
 "nbformat": 4,
 "nbformat_minor": 2
}
