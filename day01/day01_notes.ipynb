{
 "cells": [
  {
   "cell_type": "markdown",
   "metadata": {},
   "source": [
    "# Section 1: Introduction to Jupyter-Notebooks\n",
    "## Cell Types\n",
    "In Jupyter-Notebooks there are two main types of cells: \n",
    "* **Code:** where python (or other languages) code will be written and executed\n",
    "* **Markdown:** where documentation and organizational details can be written. Interprets the Markdown language. \n",
    "\n",
    "This cell is a Markdown cell. Click on this cell to expose the underlying Markdown code. \n",
    "\n",
    "In addition, in the toolbar directly above, cells can be toggled between *code* and *Markdown*. Additional buttons in the toolbar above allow for cutting, copying, pasting, executing, and stopping cells. Keyboard shortcuts also allow for running these commands without needing to click on the toolbar."
   ]
  },
  {
   "cell_type": "markdown",
   "metadata": {},
   "source": [
    "## Printing and Getting Help\n",
    "Use the **print** command to print variables."
   ]
  },
  {
   "cell_type": "code",
   "execution_count": 1,
   "metadata": {},
   "outputs": [
    {
     "name": "stdout",
     "output_type": "stream",
     "text": [
      "Hello, World!\n"
     ]
    }
   ],
   "source": [
    "print('Hello, World!')"
   ]
  },
  {
   "cell_type": "markdown",
   "metadata": {},
   "source": [
    "With Jupyter notebooks, calling the variable itself acts as a print statement."
   ]
  },
  {
   "cell_type": "code",
   "execution_count": 2,
   "metadata": {},
   "outputs": [
    {
     "data": {
      "text/plain": [
       "'Hello, World!'"
      ]
     },
     "execution_count": 2,
     "metadata": {},
     "output_type": "execute_result"
    }
   ],
   "source": [
    "'Hello, World!'"
   ]
  },
  {
   "cell_type": "markdown",
   "metadata": {},
   "source": [
    "In python, variable assignment is denoted with the equal sign (=). "
   ]
  },
  {
   "cell_type": "code",
   "execution_count": 3,
   "metadata": {
    "collapsed": true
   },
   "outputs": [
    {
     "name": "stdout",
     "output_type": "stream",
     "text": [
      "Hello, World!\n"
     ]
    }
   ],
   "source": [
    "msg = 'Hello, World!'\n",
    "print(msg)"
   ]
  },
  {
   "cell_type": "markdown",
   "metadata": {},
   "source": [
    "Getting help is easy in Notebooks: append a '?' to the end of a function/variable."
   ]
  },
  {
   "cell_type": "code",
   "execution_count": 4,
   "metadata": {
    "collapsed": true
   },
   "outputs": [
    {
     "data": {
      "text/plain": [
       "\u001b[0;31mDocstring:\u001b[0m\n",
       "print(value, ..., sep=' ', end='\\n', file=sys.stdout, flush=False)\n",
       "\n",
       "Prints the values to a stream, or to sys.stdout by default.\n",
       "Optional keyword arguments:\n",
       "file:  a file-like object (stream); defaults to the current sys.stdout.\n",
       "sep:   string inserted between values, default a space.\n",
       "end:   string appended after the last value, default a newline.\n",
       "flush: whether to forcibly flush the stream.\n",
       "\u001b[0;31mType:\u001b[0m      builtin_function_or_method\n"
      ]
     },
     "metadata": {},
     "output_type": "display_data"
    }
   ],
   "source": [
    "print?"
   ]
  },
  {
   "cell_type": "markdown",
   "metadata": {},
   "source": [
    "Jupyter-Notebooks also allow for tab-completion. This can be tremendously helpful in seeing what functions are available. Move the cursor to the function below and hit the tab key."
   ]
  },
  {
   "cell_type": "code",
   "execution_count": null,
   "metadata": {
    "collapsed": true
   },
   "outputs": [],
   "source": [
    "str."
   ]
  },
  {
   "cell_type": "markdown",
   "metadata": {},
   "source": [
    "# Section 2: Introduction to Python\n",
    "\n",
    "## Basic Data Types in Python\n",
    "\n",
    "### Integers, Floats, and Mathematic Operations\n",
    "Integers are numbers without a decimal point."
   ]
  },
  {
   "cell_type": "code",
   "execution_count": 5,
   "metadata": {},
   "outputs": [
    {
     "name": "stdout",
     "output_type": "stream",
     "text": [
      "1 <class 'int'>\n"
     ]
    }
   ],
   "source": [
    "print(1, type(1))"
   ]
  },
  {
   "cell_type": "markdown",
   "metadata": {},
   "source": [
    "Floats are numbers with a decimal point."
   ]
  },
  {
   "cell_type": "code",
   "execution_count": 6,
   "metadata": {},
   "outputs": [
    {
     "name": "stdout",
     "output_type": "stream",
     "text": [
      "1.3 <class 'float'>\n"
     ]
    }
   ],
   "source": [
    "print(1.3, type(1.3))"
   ]
  },
  {
   "cell_type": "markdown",
   "metadata": {},
   "source": [
    "Adding a decimal point will convert an integer to a float."
   ]
  },
  {
   "cell_type": "code",
   "execution_count": 7,
   "metadata": {},
   "outputs": [
    {
     "name": "stdout",
     "output_type": "stream",
     "text": [
      "1.0 <class 'float'>\n"
     ]
    }
   ],
   "source": [
    "print(1., type(1.0))"
   ]
  },
  {
   "cell_type": "markdown",
   "metadata": {},
   "source": [
    "These are the basic operators in python:"
   ]
  },
  {
   "cell_type": "code",
   "execution_count": 8,
   "metadata": {},
   "outputs": [
    {
     "name": "stdout",
     "output_type": "stream",
     "text": [
      "6\n",
      "2\n",
      "8\n",
      "2.0\n",
      "0\n",
      "16\n"
     ]
    }
   ],
   "source": [
    "print(4 + 2)   # Addition\n",
    "print(4 - 2)   # Substraction\n",
    "print(4 * 2)   # Multiplication\n",
    "print(4 / 2)   # Division\n",
    "print(4 % 2)   # Remainder (modulo)\n",
    "print(4 ** 2)  # Exponent"
   ]
  },
  {
   "cell_type": "markdown",
   "metadata": {},
   "source": [
    "Floats dominate integers in operations:"
   ]
  },
  {
   "cell_type": "code",
   "execution_count": 9,
   "metadata": {},
   "outputs": [
    {
     "name": "stdout",
     "output_type": "stream",
     "text": [
      "6.0\n",
      "2.0\n",
      "16.0\n",
      "2\n"
     ]
    }
   ],
   "source": [
    "print(4 + 2.)\n",
    "print(4 / 2.)\n",
    "print(4 ** 2.)\n",
    "print(4 // 2)  # Except for integer division!"
   ]
  },
  {
   "cell_type": "code",
   "execution_count": 10,
   "metadata": {},
   "outputs": [
    {
     "data": {
      "text/plain": [
       "2"
      ]
     },
     "execution_count": 10,
     "metadata": {},
     "output_type": "execute_result"
    }
   ],
   "source": [
    "5 // 2"
   ]
  },
  {
   "cell_type": "markdown",
   "metadata": {},
   "source": [
    "Python also supports scientific notation and complex numbers:"
   ]
  },
  {
   "cell_type": "code",
   "execution_count": 11,
   "metadata": {},
   "outputs": [
    {
     "name": "stdout",
     "output_type": "stream",
     "text": [
      "1000.0\n",
      "(2+3j)\n"
     ]
    }
   ],
   "source": [
    "print(1e3)\n",
    "print(2+3j)"
   ]
  },
  {
   "cell_type": "markdown",
   "metadata": {},
   "source": [
    "The numeric classes are special in that they allow in-place assignment for convenience. "
   ]
  },
  {
   "cell_type": "code",
   "execution_count": 12,
   "metadata": {},
   "outputs": [
    {
     "name": "stdout",
     "output_type": "stream",
     "text": [
      "2.0\n",
      "4.0\n",
      "16.0\n"
     ]
    }
   ],
   "source": [
    "## Make new variable.\n",
    "x = 1.\n",
    "\n",
    "## In-place addition\n",
    "x += 1.\n",
    "print(x)\n",
    "\n",
    "## In-place multiplcation.\n",
    "x *= 2.\n",
    "print(x)\n",
    "\n",
    "## In-place exponentiation.\n",
    "x **= 2.\n",
    "print(x)"
   ]
  },
  {
   "cell_type": "markdown",
   "metadata": {},
   "source": [
    "### Checkpoint: In-place operations.\n",
    "How would you do in-place subtraction? Division?"
   ]
  },
  {
   "cell_type": "code",
   "execution_count": null,
   "metadata": {},
   "outputs": [],
   "source": []
  },
  {
   "cell_type": "markdown",
   "metadata": {},
   "source": [
    "### Booleans\n",
    "The Boolean objects in Python are the **True** and **False** objects."
   ]
  },
  {
   "cell_type": "code",
   "execution_count": 13,
   "metadata": {},
   "outputs": [
    {
     "name": "stdout",
     "output_type": "stream",
     "text": [
      "True False\n"
     ]
    }
   ],
   "source": [
    "print(True, False) "
   ]
  },
  {
   "cell_type": "markdown",
   "metadata": {},
   "source": [
    "These are the comparison operators in python:"
   ]
  },
  {
   "cell_type": "code",
   "execution_count": 14,
   "metadata": {},
   "outputs": [
    {
     "name": "stdout",
     "output_type": "stream",
     "text": [
      "4 > 2:  True\n",
      "4 < 2:  False\n",
      "4 == 2: False\n",
      "4 >= 2: True\n",
      "4 <= 2: False\n",
      "4 != 2: True\n"
     ]
    }
   ],
   "source": [
    "print('4 > 2:  %s' %(4 > 2))    # Greater than\n",
    "print('4 < 2:  %s' %(4 < 2))    # Less than\n",
    "print('4 == 2: %s' %(4 == 2))   # Equal to\n",
    "print('4 >= 2: %s' %(4 >= 2))   # Greater than or equal to\n",
    "print('4 <= 2: %s' %(4 <= 2))   # Less than or equal to\n",
    "print('4 != 2: %s' %(4 != 2))   # Not equal to"
   ]
  },
  {
   "cell_type": "markdown",
   "metadata": {},
   "source": [
    "In Python, True and False are equvalent to the integers 1 and 0, respectively."
   ]
  },
  {
   "cell_type": "code",
   "execution_count": 15,
   "metadata": {},
   "outputs": [
    {
     "name": "stdout",
     "output_type": "stream",
     "text": [
      "True\n",
      "True\n"
     ]
    }
   ],
   "source": [
    "print(True == 1)   # True is equivalent to 1.\n",
    "print(False == 0)  # False is equivalent to 0."
   ]
  },
  {
   "cell_type": "markdown",
   "metadata": {},
   "source": [
    "Another way to demonstrate this point is to convert booleans to integers."
   ]
  },
  {
   "cell_type": "code",
   "execution_count": 16,
   "metadata": {},
   "outputs": [
    {
     "name": "stdout",
     "output_type": "stream",
     "text": [
      "1\n",
      "0\n"
     ]
    }
   ],
   "source": [
    "print( int(True) )\n",
    "print( int(False) )"
   ]
  },
  {
   "cell_type": "markdown",
   "metadata": {},
   "source": [
    "Python also uses **is** and **not** operators as another means of checking for equality."
   ]
  },
  {
   "cell_type": "code",
   "execution_count": 17,
   "metadata": {},
   "outputs": [
    {
     "name": "stdout",
     "output_type": "stream",
     "text": [
      "False\n",
      "True\n"
     ]
    }
   ],
   "source": [
    "print(4 is 2)\n",
    "print(4 is not 2)"
   ]
  },
  {
   "cell_type": "markdown",
   "metadata": {},
   "source": [
    "### Checkpoint: Comparisons\n",
    "Digital computers have memory limitations and cannot represent arbitrarily large and small numbers. Using Scientific notation (e.g. 1e-10) and the *equals to* operator (==), find an arbitrarily small number that is equal to zero."
   ]
  },
  {
   "cell_type": "code",
   "execution_count": null,
   "metadata": {},
   "outputs": [],
   "source": []
  },
  {
   "cell_type": "markdown",
   "metadata": {},
   "source": [
    "### Text and Strings "
   ]
  },
  {
   "cell_type": "markdown",
   "metadata": {},
   "source": [
    "Strings are demarcated by single or double quotation marks."
   ]
  },
  {
   "cell_type": "code",
   "execution_count": 18,
   "metadata": {},
   "outputs": [
    {
     "data": {
      "text/plain": [
       "'a run-of-the-mill string'"
      ]
     },
     "execution_count": 18,
     "metadata": {},
     "output_type": "execute_result"
    }
   ],
   "source": [
    "string = 'a run-of-the-mill string'\n",
    "string"
   ]
  },
  {
   "cell_type": "markdown",
   "metadata": {},
   "source": [
    "Paragraphs (e.g. docstrings) can be written with triple quotes:"
   ]
  },
  {
   "cell_type": "code",
   "execution_count": 19,
   "metadata": {},
   "outputs": [
    {
     "data": {
      "text/plain": [
       "'You can use the triple quotes to write paragraphs\\nof text. Note that any line-break is maintained. Triple quotes are\\nused to define function docstrings.'"
      ]
     },
     "execution_count": 19,
     "metadata": {},
     "output_type": "execute_result"
    }
   ],
   "source": [
    "paragraph = \"\"\"You can use the triple quotes to write paragraphs\n",
    "of text. Note that any line-break is maintained. Triple quotes are\n",
    "used to define function docstrings.\"\"\"\n",
    "\n",
    "paragraph"
   ]
  },
  {
   "cell_type": "markdown",
   "metadata": {},
   "source": [
    "One very useful feature is string substition, where text or numbers can be inserted into a string. String substitution is denoted by the by the percent operator. Different substitutions types exist.  "
   ]
  },
  {
   "cell_type": "code",
   "execution_count": 20,
   "metadata": {},
   "outputs": [
    {
     "name": "stdout",
     "output_type": "stream",
     "text": [
      "Hi, my name is Sam!\n"
     ]
    }
   ],
   "source": [
    "# %s: Insert as string (no modification).\n",
    "name = \"Sam\"\n",
    "print('Hi, my name is %s!' %name)   "
   ]
  },
  {
   "cell_type": "code",
   "execution_count": 21,
   "metadata": {},
   "outputs": [
    {
     "name": "stdout",
     "output_type": "stream",
     "text": [
      "Pi to the 2nd digit is 3.14.\n"
     ]
    }
   ],
   "source": [
    "# %0._f: Insert a number rounded to the _th digit.\n",
    "pi = 3.14159\n",
    "print('Pi to the 2nd digit is %0.2f.' %pi)"
   ]
  },
  {
   "cell_type": "code",
   "execution_count": 22,
   "metadata": {},
   "outputs": [
    {
     "name": "stdout",
     "output_type": "stream",
     "text": [
      "Prepend two zeros: 001\n"
     ]
    }
   ],
   "source": [
    "# %0._d: Insert a number prepended with _ zeros.\n",
    "num = 1\n",
    "print('Prepend two zeros: %0.3d' %num)"
   ]
  },
  {
   "cell_type": "markdown",
   "metadata": {},
   "source": [
    "A new method for string substitution is f-strings."
   ]
  },
  {
   "cell_type": "code",
   "execution_count": 23,
   "metadata": {},
   "outputs": [
    {
     "name": "stdout",
     "output_type": "stream",
     "text": [
      "When you think about it, aren't we all just a run-of-the-mill string?\n"
     ]
    }
   ],
   "source": [
    "print( f\"When you think about it, aren't we all just {string}?\" )"
   ]
  },
  {
   "cell_type": "markdown",
   "metadata": {},
   "source": [
    "The string object has many associated functions that can be used to modify the string."
   ]
  },
  {
   "cell_type": "code",
   "execution_count": 24,
   "metadata": {},
   "outputs": [
    {
     "name": "stdout",
     "output_type": "stream",
     "text": [
      "Capitalize:    A run-of-the-mill string\n",
      "Uppercase:     A RUN-OF-THE-MILL STRING\n",
      "Count \"i\"s:    2\n",
      "Replace (i,o): a run-of-the-moll strong\n"
     ]
    }
   ],
   "source": [
    "## Capitalize string.\n",
    "capitalized = string.capitalize()\n",
    "print('Capitalize:    %s' %capitalized)\n",
    "\n",
    "## Uppercase string.\n",
    "upper = string.upper()\n",
    "print('Uppercase:     %s' %upper)\n",
    "\n",
    "## Count \"i\"s.\n",
    "num_is = string.count('i')\n",
    "print('Count \"i\"s:    %s' %num_is) \n",
    "\n",
    "## Replace \"i\" for \"o\"s.\n",
    "io = string.replace('i','o')\n",
    "print( 'Replace (i,o): %s' %io)"
   ]
  },
  {
   "cell_type": "markdown",
   "metadata": {},
   "source": [
    "Strings are easily combined, through with the \n",
    "addition operator or the join attribute."
   ]
  },
  {
   "cell_type": "code",
   "execution_count": 25,
   "metadata": {},
   "outputs": [
    {
     "name": "stdout",
     "output_type": "stream",
     "text": [
      "This is the first half. This is the second half.\n",
      "This is the first half. This is the second half.\n"
     ]
    }
   ],
   "source": [
    "## Strings joined with addition operator.\n",
    "joined = 'This is the first half.' + ' ' + 'This is the second half.'\n",
    "print(joined)\n",
    "\n",
    "## Strings joined with the join function.\n",
    "joined = ' '.join(['This is the first half.', 'This is the second half.'])\n",
    "print(joined)"
   ]
  },
  {
   "cell_type": "markdown",
   "metadata": {},
   "source": [
    "Python has incredibly powerful natural language processing packages, including NLTK and Scrapy."
   ]
  },
  {
   "cell_type": "markdown",
   "metadata": {},
   "source": [
    "## Containers\n",
    "### Lists\n",
    "Lists are the most basic container and are denoted by brackets. Lists can store any pythonic type, and elements of a list do not need to be of the same type."
   ]
  },
  {
   "cell_type": "code",
   "execution_count": 26,
   "metadata": {},
   "outputs": [
    {
     "name": "stdout",
     "output_type": "stream",
     "text": [
      "[1, 1.0, 1000.0, (2+3j), True]\n"
     ]
    }
   ],
   "source": [
    "example_list = [1, 1., 1e3, 2+3j, True]\n",
    "print(example_list)"
   ]
  },
  {
   "cell_type": "markdown",
   "metadata": {},
   "source": [
    "Brackets are used again to index into lists. **NOTE:** Python is a 0-indexed language. The first element of a list \n",
    "is the 0th position of the list! "
   ]
  },
  {
   "cell_type": "code",
   "execution_count": 27,
   "metadata": {},
   "outputs": [
    {
     "name": "stdout",
     "output_type": "stream",
     "text": [
      "The first element of the list is 1.\n",
      "The third element of the list is 1000.0.\n",
      "The last element of the list is True.\n"
     ]
    }
   ],
   "source": [
    "elem_first = example_list[0]\n",
    "print('The first element of the list is %s.' %elem_first)\n",
    "\n",
    "elem_third = example_list[2]\n",
    "print('The third element of the list is %s.' %elem_third)\n",
    "\n",
    "elem_last = example_list[-1]\n",
    "print('The last element of the list is %s.' %elem_last)"
   ]
  },
  {
   "cell_type": "markdown",
   "metadata": {},
   "source": [
    "Mutliple elements from a list can be retrieved through slicing, which uses the colon operator."
   ]
  },
  {
   "cell_type": "code",
   "execution_count": 28,
   "metadata": {},
   "outputs": [
    {
     "name": "stdout",
     "output_type": "stream",
     "text": [
      "[1.0, 1000.0]\n",
      "[1.0, 1000.0, (2+3j), True]\n",
      "[1, 1.0]\n"
     ]
    }
   ],
   "source": [
    "print(example_list[1:3])    # Second-through-third elements (up-to-not-include)\n",
    "print(example_list[1:])     # Second element onwards.\n",
    "print(example_list[:2])     # Up to (but not including) the third element element."
   ]
  },
  {
   "cell_type": "markdown",
   "metadata": {},
   "source": [
    "Slicing also allows for the following operations:"
   ]
  },
  {
   "cell_type": "code",
   "execution_count": 29,
   "metadata": {},
   "outputs": [
    {
     "name": "stdout",
     "output_type": "stream",
     "text": [
      "list       = [1, 1.0, 1000.0, (2+3j), True]\n",
      "list[-2:]  = [(2+3j), True]\n",
      "list[:-2]  = [1, 1.0, 1000.0]\n",
      "list[::2]  = [1, 1000.0, True]\n",
      "list[::-1] = [True, (2+3j), 1000.0, 1.0, 1]\n"
     ]
    }
   ],
   "source": [
    "## Original list.\n",
    "print('list       = %s' %example_list)\n",
    "\n",
    "## Second-to-last element onwards\n",
    "print('list[-2:]  = %s' %example_list[-2:])  \n",
    "\n",
    "## Up to second-to-last element\n",
    "print('list[:-2]  = %s' %example_list[:-2])    \n",
    "\n",
    "## Every other element \n",
    "print('list[::2]  = %s' %example_list[::2])\n",
    "\n",
    "## Reverse elements.\n",
    "print('list[::-1] = %s' %example_list[::-1]) "
   ]
  },
  {
   "cell_type": "markdown",
   "metadata": {},
   "source": [
    "Slicing operators can be combined. Here we extract every other element, starting from the second through the second-to-last."
   ]
  },
  {
   "cell_type": "code",
   "execution_count": 30,
   "metadata": {},
   "outputs": [
    {
     "name": "stdout",
     "output_type": "stream",
     "text": [
      "[1.0, (2+3j)]\n"
     ]
    }
   ],
   "source": [
    "print(example_list[1:-1:2])"
   ]
  },
  {
   "cell_type": "markdown",
   "metadata": {},
   "source": [
    "### Checkpoint: Manipulating Lists\n",
    "The goal of this exercise is to get used to making and manipulating lists. The elements of the to-be list are: "
   ]
  },
  {
   "cell_type": "code",
   "execution_count": null,
   "metadata": {
    "collapsed": true
   },
   "outputs": [],
   "source": [
    "3 'Yankee' 7.6 None False 2.5e-2 'Foxtrot'"
   ]
  },
  {
   "cell_type": "markdown",
   "metadata": {},
   "source": [
    "Store the elements above in a new list."
   ]
  },
  {
   "cell_type": "code",
   "execution_count": null,
   "metadata": {
    "collapsed": true
   },
   "outputs": [],
   "source": []
  },
  {
   "cell_type": "markdown",
   "metadata": {},
   "source": [
    "Return the 3rd element of the list."
   ]
  },
  {
   "cell_type": "code",
   "execution_count": null,
   "metadata": {
    "collapsed": true
   },
   "outputs": [],
   "source": []
  },
  {
   "cell_type": "markdown",
   "metadata": {},
   "source": [
    "Return the 2nd-to-last element of the list."
   ]
  },
  {
   "cell_type": "code",
   "execution_count": null,
   "metadata": {
    "collapsed": true
   },
   "outputs": [],
   "source": []
  },
  {
   "cell_type": "markdown",
   "metadata": {},
   "source": [
    "Return every third element, starting from the 2nd element."
   ]
  },
  {
   "cell_type": "code",
   "execution_count": null,
   "metadata": {
    "collapsed": true
   },
   "outputs": [],
   "source": []
  },
  {
   "cell_type": "markdown",
   "metadata": {},
   "source": [
    "#### Back to lists\n",
    "Indexing and slicing can also be used to update elements in the list."
   ]
  },
  {
   "cell_type": "code",
   "execution_count": 31,
   "metadata": {},
   "outputs": [
    {
     "data": {
      "text/plain": [
       "[1, 1.0, 1000.0, (2+3j), False]"
      ]
     },
     "execution_count": 31,
     "metadata": {},
     "output_type": "execute_result"
    }
   ],
   "source": [
    "example_list = [1, 1., 1e3, 2+3j, True]\n",
    "example_list[-1] = False\n",
    "example_list"
   ]
  },
  {
   "cell_type": "markdown",
   "metadata": {},
   "source": [
    "We can add new elements to the list using **append**. Note that this occurs **in-place.**"
   ]
  },
  {
   "cell_type": "code",
   "execution_count": 32,
   "metadata": {},
   "outputs": [
    {
     "data": {
      "text/plain": [
       "[1, 1.0, 1000.0, (2+3j), False, 111]"
      ]
     },
     "execution_count": 32,
     "metadata": {},
     "output_type": "execute_result"
    }
   ],
   "source": [
    "example_list.append( 111 )\n",
    "example_list"
   ]
  },
  {
   "cell_type": "markdown",
   "metadata": {},
   "source": [
    "**Insert** allows for adding new elements to specified positions."
   ]
  },
  {
   "cell_type": "code",
   "execution_count": 33,
   "metadata": {},
   "outputs": [
    {
     "data": {
      "text/plain": [
       "[222, 1, 1.0, 1000.0, (2+3j), False, 111]"
      ]
     },
     "execution_count": 33,
     "metadata": {},
     "output_type": "execute_result"
    }
   ],
   "source": [
    "## (Index, Value)\n",
    "example_list.insert(0, 222)\n",
    "example_list"
   ]
  },
  {
   "cell_type": "markdown",
   "metadata": {},
   "source": [
    "Elements can be removed from a list using the **pop** or **remove** function. **Pop** deletes an element by its index, **remove** deletes an element by its value."
   ]
  },
  {
   "cell_type": "code",
   "execution_count": 34,
   "metadata": {},
   "outputs": [
    {
     "name": "stdout",
     "output_type": "stream",
     "text": [
      "Before: [222, 1, 1.0, 1000.0, (2+3j), False, 111]\n",
      "After: [222, 1, 1000.0, (2+3j), False]\n"
     ]
    }
   ],
   "source": [
    "print('Before: %s' %example_list)\n",
    "\n",
    "## Pop the third element\n",
    "example_list.pop(2)\n",
    "\n",
    "## Remove the value 111.\n",
    "example_list.remove(111)\n",
    "\n",
    "print('After: %s' %example_list)"
   ]
  },
  {
   "cell_type": "markdown",
   "metadata": {},
   "source": [
    "The contents of a list can also be tested with the **in** operator."
   ]
  },
  {
   "cell_type": "code",
   "execution_count": 35,
   "metadata": {},
   "outputs": [
    {
     "name": "stdout",
     "output_type": "stream",
     "text": [
      "True\n",
      "False\n"
     ]
    }
   ],
   "source": [
    "print( 222 in example_list )\n",
    "print( 999 in example_list )"
   ]
  },
  {
   "cell_type": "markdown",
   "metadata": {},
   "source": [
    "As an aside, strings are essentially lists with characters."
   ]
  },
  {
   "cell_type": "code",
   "execution_count": 36,
   "metadata": {},
   "outputs": [
    {
     "name": "stdout",
     "output_type": "stream",
     "text": [
      "string       = a run-of-the-mill string\n",
      "string[4:]   = n-of-the-mill string\n",
      "string[::-1] = gnirts llim-eht-fo-nur a\n",
      "string[::2]  = arno-h-ilsrn\n"
     ]
    }
   ],
   "source": [
    "print('string       = %s' %string)\n",
    "\n",
    "## 4th character onwards.\n",
    "print('string[4:]   = %s' %string[4:])   \n",
    "\n",
    "## Reversed string.\n",
    "print('string[::-1] = %s' %string[::-1]) \n",
    "\n",
    "## Every other character.\n",
    "print('string[::2]  = %s' %string[::2])"
   ]
  },
  {
   "cell_type": "markdown",
   "metadata": {},
   "source": [
    "### Tuples\n",
    "Tuples are denoted by parantheses. Tuples are like lists except that they are **immutable.** Tuples cannot be modified once they are created. "
   ]
  },
  {
   "cell_type": "code",
   "execution_count": 37,
   "metadata": {
    "collapsed": true
   },
   "outputs": [],
   "source": [
    "example_list = [1, 2, 3, 4]\n",
    "example_tuple = (1, 2, 3, 4)"
   ]
  },
  {
   "cell_type": "code",
   "execution_count": 38,
   "metadata": {},
   "outputs": [
    {
     "name": "stdout",
     "output_type": "stream",
     "text": [
      "[1, 9, 3, 4]\n"
     ]
    }
   ],
   "source": [
    "## Change the second element of the list.\n",
    "example_list[1] = 9\n",
    "print(example_list)"
   ]
  },
  {
   "cell_type": "code",
   "execution_count": 39,
   "metadata": {},
   "outputs": [
    {
     "ename": "TypeError",
     "evalue": "'tuple' object does not support item assignment",
     "output_type": "error",
     "traceback": [
      "\u001b[0;31m---------------------------------------------------------------------------\u001b[0m",
      "\u001b[0;31mTypeError\u001b[0m                                 Traceback (most recent call last)",
      "\u001b[0;32m<ipython-input-39-4bf1074bb7a4>\u001b[0m in \u001b[0;36m<module>\u001b[0;34m\u001b[0m\n\u001b[1;32m      1\u001b[0m \u001b[0;31m## Change the second element of the tuple.\u001b[0m\u001b[0;34m\u001b[0m\u001b[0;34m\u001b[0m\u001b[0;34m\u001b[0m\u001b[0m\n\u001b[0;32m----> 2\u001b[0;31m \u001b[0mexample_tuple\u001b[0m\u001b[0;34m[\u001b[0m\u001b[0;36m1\u001b[0m\u001b[0;34m]\u001b[0m \u001b[0;34m=\u001b[0m \u001b[0;36m9\u001b[0m\u001b[0;34m\u001b[0m\u001b[0;34m\u001b[0m\u001b[0m\n\u001b[0m\u001b[1;32m      3\u001b[0m \u001b[0mprint\u001b[0m\u001b[0;34m(\u001b[0m\u001b[0mexample_tuple\u001b[0m\u001b[0;34m)\u001b[0m\u001b[0;34m\u001b[0m\u001b[0;34m\u001b[0m\u001b[0m\n",
      "\u001b[0;31mTypeError\u001b[0m: 'tuple' object does not support item assignment"
     ]
    }
   ],
   "source": [
    "## Change the second element of the tuple.\n",
    "example_tuple[1] = 9\n",
    "print(example_tuple)"
   ]
  },
  {
   "cell_type": "markdown",
   "metadata": {},
   "source": [
    "### Dictionaries\n",
    "Dictionaries are simple lookup tables. They are denoted by curly brackets."
   ]
  },
  {
   "cell_type": "code",
   "execution_count": 40,
   "metadata": {},
   "outputs": [
    {
     "name": "stdout",
     "output_type": "stream",
     "text": [
      "{'a': 1, 'b': 2, 'c': 3}\n",
      "3\n"
     ]
    }
   ],
   "source": [
    "example_dict = {'a':1, 'b':2, 'c':3}\n",
    "print(example_dict)\n",
    "print(example_dict['c'])"
   ]
  },
  {
   "cell_type": "markdown",
   "metadata": {},
   "source": [
    "Dictionaries can also be generated using the **dict()** command. Notice the slightly different syntax."
   ]
  },
  {
   "cell_type": "code",
   "execution_count": 41,
   "metadata": {},
   "outputs": [
    {
     "name": "stdout",
     "output_type": "stream",
     "text": [
      "{'a': 1, 'b': 2, 'c': 3}\n",
      "3\n"
     ]
    }
   ],
   "source": [
    "example_dict = dict(a=1, b=2, c=3)\n",
    "print(example_dict)\n",
    "print(example_dict['c'])"
   ]
  },
  {
   "cell_type": "markdown",
   "metadata": {},
   "source": [
    "Dictionaries are comprised of \"keys\" and \"values\"."
   ]
  },
  {
   "cell_type": "code",
   "execution_count": 42,
   "metadata": {},
   "outputs": [
    {
     "name": "stdout",
     "output_type": "stream",
     "text": [
      "dict_keys(['a', 'b', 'c'])\n",
      "dict_values([1, 2, 3])\n"
     ]
    }
   ],
   "source": [
    "print(example_dict.keys())\n",
    "print(example_dict.values())"
   ]
  },
  {
   "cell_type": "markdown",
   "metadata": {},
   "source": [
    "Once initialized, new key/value pairs can be stored in a dictionary."
   ]
  },
  {
   "cell_type": "code",
   "execution_count": 43,
   "metadata": {},
   "outputs": [
    {
     "name": "stdout",
     "output_type": "stream",
     "text": [
      "{'a': 1, 'b': 2, 'c': 3, 'd': 4}\n"
     ]
    }
   ],
   "source": [
    "example_dict['d'] = 4\n",
    "print(example_dict)"
   ]
  },
  {
   "cell_type": "markdown",
   "metadata": {},
   "source": [
    "One nice feature of dictionaries is the **get** operator. This allows us to safely check for and return items in a dictionary."
   ]
  },
  {
   "cell_type": "code",
   "execution_count": 44,
   "metadata": {},
   "outputs": [
    {
     "data": {
      "text/plain": [
       "False"
      ]
     },
     "execution_count": 44,
     "metadata": {},
     "output_type": "execute_result"
    }
   ],
   "source": [
    "example_dict.get('not_here', False)"
   ]
  },
  {
   "cell_type": "markdown",
   "metadata": {},
   "source": [
    "## Control Flow in Python"
   ]
  },
  {
   "cell_type": "markdown",
   "metadata": {},
   "source": [
    "### For and While Loops\n",
    "For loops have a very simple syntax. "
   ]
  },
  {
   "cell_type": "code",
   "execution_count": 45,
   "metadata": {},
   "outputs": [
    {
     "name": "stdout",
     "output_type": "stream",
     "text": [
      "0\n",
      "1\n",
      "2\n",
      "3\n",
      "4\n"
     ]
    }
   ],
   "source": [
    "for x in [0, 1, 2, 3, 4]:\n",
    "    print(x)"
   ]
  },
  {
   "cell_type": "markdown",
   "metadata": {},
   "source": [
    "The same can be accomplished with **range**."
   ]
  },
  {
   "cell_type": "code",
   "execution_count": 46,
   "metadata": {},
   "outputs": [
    {
     "name": "stdout",
     "output_type": "stream",
     "text": [
      "0\n",
      "1\n",
      "2\n",
      "3\n",
      "4\n"
     ]
    }
   ],
   "source": [
    "for x in range(5):\n",
    "    print(x)"
   ]
  },
  {
   "cell_type": "markdown",
   "metadata": {},
   "source": [
    "Elements of a list can be directly iterated over in python."
   ]
  },
  {
   "cell_type": "code",
   "execution_count": 47,
   "metadata": {},
   "outputs": [
    {
     "name": "stdout",
     "output_type": "stream",
     "text": [
      "how\n",
      "now\n",
      "brown\n",
      "cow\n"
     ]
    }
   ],
   "source": [
    "for x in ['how', 'now', 'brown', 'cow']:\n",
    "    print(x)"
   ]
  },
  {
   "cell_type": "markdown",
   "metadata": {},
   "source": [
    "For loops can be paired with the **enumerate** command for indexing."
   ]
  },
  {
   "cell_type": "code",
   "execution_count": 48,
   "metadata": {},
   "outputs": [
    {
     "name": "stdout",
     "output_type": "stream",
     "text": [
      "0 2\n",
      "1 4\n",
      "2 1\n",
      "3 2\n"
     ]
    }
   ],
   "source": [
    "for i, x in enumerate([2,4,1,2]):\n",
    "    print(i,x)"
   ]
  },
  {
   "cell_type": "markdown",
   "metadata": {},
   "source": [
    "The **zip** command can be used to iterate over multiple lists at once."
   ]
  },
  {
   "cell_type": "code",
   "execution_count": 49,
   "metadata": {},
   "outputs": [
    {
     "name": "stdout",
     "output_type": "stream",
     "text": [
      "0 zero\n",
      "2 two\n",
      "4 four\n",
      "6 six\n",
      "8 eight\n"
     ]
    }
   ],
   "source": [
    "list1 = [0, 2, 4, 6, 8]\n",
    "list2 = ['zero', 'two', 'four', 'six', 'eight']\n",
    "\n",
    "for a,b in zip(list1,list2):\n",
    "    print(a,b)"
   ]
  },
  {
   "cell_type": "markdown",
   "metadata": {},
   "source": [
    "A fun notation is to combine **zip** and **enumerate**."
   ]
  },
  {
   "cell_type": "code",
   "execution_count": 50,
   "metadata": {},
   "outputs": [
    {
     "name": "stdout",
     "output_type": "stream",
     "text": [
      "0 0 zero\n",
      "1 2 two\n",
      "2 4 four\n",
      "3 6 six\n",
      "4 8 eight\n"
     ]
    }
   ],
   "source": [
    "for i, (a, b) in enumerate(zip(list1, list2)):\n",
    "    print(i, a, b)"
   ]
  },
  {
   "cell_type": "markdown",
   "metadata": {},
   "source": [
    "**While** loops are similarly simple. While loops are initialized with a boolean statement. While True, the while loop will continue executing. Once False, the while loop terminates."
   ]
  },
  {
   "cell_type": "code",
   "execution_count": 51,
   "metadata": {},
   "outputs": [
    {
     "name": "stdout",
     "output_type": "stream",
     "text": [
      "0\n",
      "1\n",
      "2\n",
      "3\n",
      "4\n"
     ]
    }
   ],
   "source": [
    "i = 0\n",
    "while i < 5:\n",
    "    print(i)\n",
    "    i += 1  "
   ]
  },
  {
   "cell_type": "markdown",
   "metadata": {},
   "source": [
    "### Conditional logic with if, elif, else"
   ]
  },
  {
   "cell_type": "markdown",
   "metadata": {},
   "source": [
    "In python, the three conditional statements are if, elif, and else.\n",
    "Here we will construct a simple for-loop testing parity."
   ]
  },
  {
   "cell_type": "code",
   "execution_count": 52,
   "metadata": {},
   "outputs": [
    {
     "name": "stdout",
     "output_type": "stream",
     "text": [
      "4 is even.\n",
      "7 is odd.\n",
      "9.4 is not an integer.\n"
     ]
    }
   ],
   "source": [
    "example_list = [4, 7, 9.4]\n",
    "\n",
    "for x in example_list:\n",
    "    \n",
    "    if x % 2 == 0: \n",
    "        print('%s is even.' %x)\n",
    "        \n",
    "    elif x % 2 == 1:\n",
    "        print('%s is odd.' %x)\n",
    "        \n",
    "    else: \n",
    "        print('%s is not an integer.' %x)"
   ]
  },
  {
   "cell_type": "markdown",
   "metadata": {},
   "source": [
    "### Contiue and Break statements\n",
    "Conditional logic statements can be paired with the \"continue\" and \"break\" \n",
    "statments for additional control flow in For and While loops. The \"continue\"\n",
    "statement skips the current iteration of a For/While loop, whereas the\n",
    "\"break\" statement terminates the For/While loop.\n",
    "\n",
    "Below is an example of the continue statement. The for loop skips at the odd numbers."
   ]
  },
  {
   "cell_type": "code",
   "execution_count": 53,
   "metadata": {},
   "outputs": [
    {
     "name": "stdout",
     "output_type": "stream",
     "text": [
      "4 is even.\n",
      "9.4 is not an integer.\n"
     ]
    }
   ],
   "source": [
    "example_list = [4, 7, 9.4]\n",
    "\n",
    "for x in example_list:\n",
    "    \n",
    "    if x % 2 == 0: \n",
    "        print('%s is even.' %x)\n",
    "        \n",
    "    elif x % 2 == 1:\n",
    "        continue\n",
    "        print('%s is odd.' %x)\n",
    "        \n",
    "    else: \n",
    "        print('%s is not an integer.' %x)"
   ]
  },
  {
   "cell_type": "markdown",
   "metadata": {},
   "source": [
    "An example of the **break** statement. The for loop terminates at the first odd number."
   ]
  },
  {
   "cell_type": "code",
   "execution_count": 54,
   "metadata": {},
   "outputs": [
    {
     "name": "stdout",
     "output_type": "stream",
     "text": [
      "4 is even.\n"
     ]
    }
   ],
   "source": [
    "example_list = [4, 7, 9.4]\n",
    "\n",
    "for x in example_list:\n",
    "    \n",
    "    if x % 2 == 0: \n",
    "        print('%s is even.' %x)\n",
    "        \n",
    "    elif x % 2 == 1:\n",
    "        break\n",
    "        print('%s is odd.' %x)\n",
    "        \n",
    "    else: \n",
    "        print('%s is not an integer.' %x)"
   ]
  },
  {
   "cell_type": "markdown",
   "metadata": {},
   "source": [
    "### Checkpoint: For/While Loops\n",
    "Using a **for** or **while** loop, iterate over all integers in the range [0,250] and print every integer divisible by 11."
   ]
  },
  {
   "cell_type": "code",
   "execution_count": null,
   "metadata": {},
   "outputs": [],
   "source": []
  },
  {
   "cell_type": "markdown",
   "metadata": {},
   "source": [
    "### List comprehensions\n",
    "Python also allows for embedding For loops within lists as a nifty way of constructing/modifying lists. List comprehensions are very powerful (though sometimes memory intensive) and can be constructed with a few different syntaxes."
   ]
  },
  {
   "cell_type": "code",
   "execution_count": 55,
   "metadata": {},
   "outputs": [
    {
     "data": {
      "text/plain": [
       "[0, 1, 2, 3, 4]"
      ]
     },
     "execution_count": 55,
     "metadata": {},
     "output_type": "execute_result"
    }
   ],
   "source": [
    "example_list = [0,1,2,3,4]\n",
    "\n",
    "[x for x in example_list]"
   ]
  },
  {
   "cell_type": "markdown",
   "metadata": {},
   "source": [
    "Inclusive/exclusive list comprehension: here we exclude variables from the list if they do not meet a certain criterion."
   ]
  },
  {
   "cell_type": "code",
   "execution_count": 56,
   "metadata": {},
   "outputs": [
    {
     "data": {
      "text/plain": [
       "[3, 4]"
      ]
     },
     "execution_count": 56,
     "metadata": {},
     "output_type": "execute_result"
    }
   ],
   "source": [
    "[x for x in example_list if x > 2]"
   ]
  },
  {
   "cell_type": "markdown",
   "metadata": {},
   "source": [
    "Conditional list comprehension: here we transform variables from the list based on whether they meet a certain criterion."
   ]
  },
  {
   "cell_type": "code",
   "execution_count": 57,
   "metadata": {},
   "outputs": [
    {
     "data": {
      "text/plain": [
       "['even', 'odd', 'even', 'odd', 'even']"
      ]
     },
     "execution_count": 57,
     "metadata": {},
     "output_type": "execute_result"
    }
   ],
   "source": [
    "['odd' if x % 2 == 1 else 'even' for x in example_list]"
   ]
  },
  {
   "cell_type": "markdown",
   "metadata": {},
   "source": [
    "Note that else statements can be chained in list comprehensions."
   ]
  },
  {
   "cell_type": "code",
   "execution_count": 58,
   "metadata": {},
   "outputs": [
    {
     "data": {
      "text/plain": [
       "['even', 'odd', 'non-integer']"
      ]
     },
     "execution_count": 58,
     "metadata": {},
     "output_type": "execute_result"
    }
   ],
   "source": [
    "example_list = [4, 7, 9.4]\n",
    "\n",
    "['odd' if x % 2 == 1 else 'even' if x % 2 == 0 else 'non-integer' for x in example_list]"
   ]
  },
  {
   "cell_type": "markdown",
   "metadata": {},
   "source": [
    "### Error handling with try/except logic.\n",
    "Python allows for intelligent error handling with the \"try\" and \"except\" logics. Code nested under a \"try\" command will be evaluated. If an error arises under a try block, the code in the except block will be evaluated instead. This is useful for handling exceptions and preventing scripts from breaking. Use with caution though if you cannot predict error corner cases!\n",
    "\n",
    "Here we will test try/except logic with a division-by-zero error. Note that I am specifying the error class, i.e. ZeroDivisionError. Python has a number of built-in error types, and it is better to specify the exact type of error you expect to ensure that only those types of errors are passed to the except block. Multiple excepts are permissible in try/except workflows."
   ]
  },
  {
   "cell_type": "code",
   "execution_count": 59,
   "metadata": {},
   "outputs": [
    {
     "name": "stdout",
     "output_type": "stream",
     "text": [
      "10.0\n",
      "2.0\n"
     ]
    },
    {
     "ename": "ZeroDivisionError",
     "evalue": "division by zero",
     "output_type": "error",
     "traceback": [
      "\u001b[0;31m---------------------------------------------------------------------------\u001b[0m",
      "\u001b[0;31mZeroDivisionError\u001b[0m                         Traceback (most recent call last)",
      "\u001b[0;32m<ipython-input-59-5054b230d1a0>\u001b[0m in \u001b[0;36m<module>\u001b[0;34m\u001b[0m\n\u001b[1;32m      3\u001b[0m \u001b[0;34m\u001b[0m\u001b[0m\n\u001b[1;32m      4\u001b[0m \u001b[0;32mfor\u001b[0m \u001b[0mx\u001b[0m \u001b[0;32min\u001b[0m \u001b[0mexample_list\u001b[0m\u001b[0;34m:\u001b[0m\u001b[0;34m\u001b[0m\u001b[0;34m\u001b[0m\u001b[0m\n\u001b[0;32m----> 5\u001b[0;31m     \u001b[0mprint\u001b[0m\u001b[0;34m(\u001b[0m\u001b[0;36m20\u001b[0m \u001b[0;34m/\u001b[0m \u001b[0mx\u001b[0m\u001b[0;34m)\u001b[0m\u001b[0;34m\u001b[0m\u001b[0;34m\u001b[0m\u001b[0m\n\u001b[0m",
      "\u001b[0;31mZeroDivisionError\u001b[0m: division by zero"
     ]
    }
   ],
   "source": [
    "## An example divide by zero error.\n",
    "example_list = [2, 10, 0]\n",
    "\n",
    "for x in example_list:\n",
    "    print(20 / x)"
   ]
  },
  {
   "cell_type": "code",
   "execution_count": 60,
   "metadata": {},
   "outputs": [
    {
     "name": "stdout",
     "output_type": "stream",
     "text": [
      "10.0\n",
      "2.0\n",
      "You cannot divide 0, silly!\n"
     ]
    }
   ],
   "source": [
    "## An example try/catch handling divide by zero errors.\n",
    "example_list = [2, 10, 0]\n",
    "\n",
    "for x in example_list:\n",
    "    try:\n",
    "        print(20 / x)\n",
    "    except ZeroDivisionError: \n",
    "        print('You cannot divide 0, silly!')"
   ]
  },
  {
   "cell_type": "markdown",
   "metadata": {},
   "source": [
    "## Basic Commands in Python"
   ]
  },
  {
   "cell_type": "markdown",
   "metadata": {},
   "source": [
    "https://docs.python.org/3/library/functions.html"
   ]
  },
  {
   "cell_type": "markdown",
   "metadata": {},
   "source": [
    "The most important command is the **range** command. "
   ]
  },
  {
   "cell_type": "code",
   "execution_count": 61,
   "metadata": {},
   "outputs": [
    {
     "name": "stdout",
     "output_type": "stream",
     "text": [
      "range(5)     = range(0, 5)\n",
      "range(0,5)   = range(1, 5)\n",
      "range(0,5,2) = range(0, 5, 2)\n",
      "0\n",
      "2\n",
      "4\n"
     ]
    }
   ],
   "source": [
    "print('range(5)     = %s' %range(5))     # Specify stop position.\n",
    "print('range(0,5)   = %s' %range(1,5))   # Specify start & stop position\n",
    "print('range(0,5,2) = %s' %range(0,5,2)) # Specify start, stop, and by.\n",
    "\n",
    "for x in range(0,5,2):\n",
    "    print(x)"
   ]
  },
  {
   "cell_type": "markdown",
   "metadata": {},
   "source": [
    "Each python type has its own function for the purpose of converting variables to different types. "
   ]
  },
  {
   "cell_type": "code",
   "execution_count": 62,
   "metadata": {},
   "outputs": [
    {
     "name": "stdout",
     "output_type": "stream",
     "text": [
      "7\n",
      "7.0\n",
      "[0, 1, 2, 3, 4]\n",
      "(0, 1, 2, 3, 4)\n",
      "[1, 12, 4]\n"
     ]
    }
   ],
   "source": [
    "X = range(5)\n",
    "\n",
    "print( int(7.4) )            # To integer.\n",
    "print ( float(7) )           # To float.\n",
    "print( list(X) )             # Range as list.\n",
    "print( tuple(X) )            # Range as tuple.\n",
    "print( str([1, 12, 4]) )     # Range as string (converts to string literally)."
   ]
  },
  {
   "cell_type": "markdown",
   "metadata": {},
   "source": [
    "The **type** and **isinstance** commands can be used to check the type of variables."
   ]
  },
  {
   "cell_type": "code",
   "execution_count": 63,
   "metadata": {},
   "outputs": [
    {
     "name": "stdout",
     "output_type": "stream",
     "text": [
      "<class 'list'>\n",
      "False\n",
      "True\n"
     ]
    }
   ],
   "source": [
    "X = [1, 4, 5, 2]\n",
    "\n",
    "print( type(X) )\n",
    "print( type(X) == str )\n",
    "print( isinstance(X, list) )"
   ]
  },
  {
   "cell_type": "markdown",
   "metadata": {},
   "source": [
    "There are commands to modify lists."
   ]
  },
  {
   "cell_type": "code",
   "execution_count": 64,
   "metadata": {},
   "outputs": [
    {
     "name": "stdout",
     "output_type": "stream",
     "text": [
      "[1, 1, 2, 2, 3, 4, 5, 7]\n",
      "{1, 2, 3, 4, 5, 7}\n"
     ]
    }
   ],
   "source": [
    "example_list = [4, 1, 5, 2, 7, 1, 2, 3]\n",
    "\n",
    "print(sorted(example_list))    # Sort list.\n",
    "print(set(example_list))       # Get unique elements of list. Returns set."
   ]
  },
  {
   "cell_type": "code",
   "execution_count": 65,
   "metadata": {},
   "outputs": [
    {
     "name": "stdout",
     "output_type": "stream",
     "text": [
      "8\n",
      "25\n",
      "1\n",
      "7\n"
     ]
    }
   ],
   "source": [
    "## There are also commands to summarize lists.\n",
    "print(len(example_list))    # Count element in list.\n",
    "print(sum(example_list))    # Sum across list.\n",
    "print(min(example_list))    # Min across list.\n",
    "print(max(example_list))    # Max across list."
   ]
  },
  {
   "cell_type": "code",
   "execution_count": 66,
   "metadata": {},
   "outputs": [
    {
     "name": "stdout",
     "output_type": "stream",
     "text": [
      "[False, False, False, True, True]\n",
      "True\n",
      "False\n"
     ]
    }
   ],
   "source": [
    "## The any/all commands are very useful for testing if any \n",
    "## conditionals are met in a list.\n",
    "example_list = [True if x > 2 else False for x in range(5)]\n",
    "print(example_list)\n",
    "print(any(example_list))\n",
    "print(all(example_list))"
   ]
  },
  {
   "cell_type": "markdown",
   "metadata": {},
   "source": [
    "## Defining Functions\n",
    "Define new functions with **def** and **return** functions. Any arguments specified in the **def** statement are necessary arguments for the newly defined function. "
   ]
  },
  {
   "cell_type": "code",
   "execution_count": 67,
   "metadata": {
    "collapsed": true
   },
   "outputs": [
    {
     "data": {
      "text/plain": [
       "\u001b[0;31mSignature:\u001b[0m \u001b[0maverage\u001b[0m\u001b[0;34m(\u001b[0m\u001b[0mX\u001b[0m\u001b[0;34m)\u001b[0m\u001b[0;34m\u001b[0m\u001b[0;34m\u001b[0m\u001b[0m\n",
       "\u001b[0;31mDocstring:\u001b[0m Compute arithmetic mean for list, X.\n",
       "\u001b[0;31mFile:\u001b[0m      ~/Desktop/projects/pni_bootcamp_2019/day01/<ipython-input-67-7ee386abf008>\n",
       "\u001b[0;31mType:\u001b[0m      function\n"
      ]
     },
     "metadata": {},
     "output_type": "display_data"
    }
   ],
   "source": [
    "def average(X):\n",
    "    '''Compute arithmetic mean for list, X.'''\n",
    "    return sum(X) / len(X)\n",
    "\n",
    "average?"
   ]
  },
  {
   "cell_type": "code",
   "execution_count": 68,
   "metadata": {},
   "outputs": [
    {
     "name": "stdout",
     "output_type": "stream",
     "text": [
      "Average: 2.375\n"
     ]
    }
   ],
   "source": [
    "## Define an example list.\n",
    "example_list = [2, 2, 2, 3, 3, 2, 1, 4]\n",
    "\n",
    "## Compute average.\n",
    "print( 'Average: %0.3f' %average(example_list) )"
   ]
  },
  {
   "cell_type": "markdown",
   "metadata": {},
   "source": [
    "Arguments of user-defined functions can also be assigned default parameters."
   ]
  },
  {
   "cell_type": "code",
   "execution_count": 69,
   "metadata": {},
   "outputs": [],
   "source": [
    "def average(X, weights=False):\n",
    "    \"\"\"Compute arithmetic mean.\n",
    "    \n",
    "    Parameters\n",
    "    ----------\n",
    "    X : list, shape (n,)\n",
    "        A list of values.\n",
    "    weights : list, shape (n,)\n",
    "        A list weights associated with the values in `X`.\n",
    "    \n",
    "    Returns\n",
    "    -------\n",
    "    mu : float\n",
    "        (Weighted) average.\n",
    "    \"\"\"    \n",
    "    if not weights: weights = [1] * len(X)\n",
    "    return sum( [x*w for x,w in zip(X,weights)] ) / sum(weights)    "
   ]
  },
  {
   "cell_type": "markdown",
   "metadata": {},
   "source": [
    "Let's make sure it works."
   ]
  },
  {
   "cell_type": "code",
   "execution_count": 70,
   "metadata": {},
   "outputs": [
    {
     "name": "stdout",
     "output_type": "stream",
     "text": [
      "Average:          2.375\n",
      "Weighted average: 1.756\n"
     ]
    }
   ],
   "source": [
    "## Define some weights.\n",
    "weights = [1, 1, 1, 0.5, 0.5, 2, 4, 0.25]\n",
    "\n",
    "## Compute average / weighted average.\n",
    "print( 'Average:          %0.3f' %average(example_list) )\n",
    "print( 'Weighted average: %0.3f' %average(example_list, weights) )"
   ]
  },
  {
   "cell_type": "code",
   "execution_count": 71,
   "metadata": {},
   "outputs": [
    {
     "name": "stdout",
     "output_type": "stream",
     "text": [
      "Average: 2.375\n"
     ]
    }
   ],
   "source": [
    "## The lambda operator can also be used to define short functions.\n",
    "average = lambda X: sum(X) / len(X)\n",
    "\n",
    "print( 'Average: %0.3f' %average(example_list) )"
   ]
  }
 ],
 "metadata": {
  "kernelspec": {
   "display_name": "Python 3",
   "language": "python",
   "name": "python3"
  },
  "language_info": {
   "codemirror_mode": {
    "name": "ipython",
    "version": 3
   },
   "file_extension": ".py",
   "mimetype": "text/x-python",
   "name": "python",
   "nbconvert_exporter": "python",
   "pygments_lexer": "ipython3",
   "version": "3.7.1"
  },
  "toc": {
   "colors": {
    "hover_highlight": "#DAA520",
    "navigate_num": "#000000",
    "navigate_text": "#333333",
    "running_highlight": "#FF0000",
    "selected_highlight": "#FFD700",
    "sidebar_border": "#EEEEEE",
    "wrapper_background": "#FFFFFF"
   },
   "moveMenuLeft": true,
   "nav_menu": {
    "height": "512px",
    "width": "252px"
   },
   "navigate_menu": true,
   "number_sections": false,
   "sideBar": true,
   "threshold": 4,
   "toc_cell": false,
   "toc_section_display": "block",
   "toc_window_display": false,
   "widenNotebook": false
  }
 },
 "nbformat": 4,
 "nbformat_minor": 2
}
