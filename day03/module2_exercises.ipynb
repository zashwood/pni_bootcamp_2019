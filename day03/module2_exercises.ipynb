{
 "cells": [
  {
   "cell_type": "markdown",
   "metadata": {},
   "source": [
    "# Dataset: Stroop Task\n",
    "In this exercise, we will practice using Pandas, Matplotlib, Seaborn, and Statsmodels. To make the exercises more realistic, we will analyze behavioral data from a classic psychological experiment, the [Stroop task](https://en.wikipedia.org/wiki/Stroop_effect). (These [previously published](https://www.ncbi.nlm.nih.gov/pubmed/25143543) data were made generously available by [Tim Verstynen](https://openfmri.org/dataset/ds000164/).)\n",
    "\n",
    "In this dataset, participants performed a variant of the Stroop task, in which participants are presented with words written in different color inks. There are three types of trials:\n",
    "1. Congruent trials (e.g. the word \"blue\" written in blue ink)\n",
    "2. Incognruent trials (e.g. the word \"red\" written in blue ink)\n",
    "3. Neutral trials: (e.g. the world \"car\" written in blue ink)\n",
    "\n",
    "Participants are instructed to name the font color of the word (not the word itself). This is easy for neutral and congruent trials, but more difficult for incongruent trials (e.g. when the word \"red\" is written in blue font, and the participant must respond \"blue\"). Classically, we observe an interference effect for incongruent trials such that participants' reaction times slow down and incorrect responses increase for incongruent trials. If you would like to try this for yourself, see [here](https://expfactory.github.io/stroop.html). In total, 28 participants each completed 120 trials of the Stroop task described above with trial types balanced (40 congruent, 40 incongruent, 40 neutral trials). Participansts were given 1s to make their response, recorded via keyboard.\n",
    "\n",
    "Through a series of exercises, we will perform a basic analysis of the dataset and complete the following steps:\n",
    "* Aggregate and save a group dataset.\n",
    "* Rename and recorde variables.\n",
    "* Filter data to remove bad trials (e.g. missing trials, finger slips)\n",
    "* Visualize the cleaned dataset. \n",
    "* Perform basic statistical analysis of the data."
   ]
  },
  {
   "cell_type": "markdown",
   "metadata": {},
   "source": [
    "# Step 1: Assemble the Data\n",
    "### Assemble all participant data into one DataFrame. \n",
    "Be sure to store the subject ID as a new column.\n",
    "\n",
    "Hint: Be careful of the PDF saved in the stroop data folder."
   ]
  },
  {
   "cell_type": "code",
   "execution_count": null,
   "metadata": {
    "collapsed": true
   },
   "outputs": [],
   "source": []
  },
  {
   "cell_type": "markdown",
   "metadata": {},
   "source": [
    "# Step 2: Preprocess the Data\n",
    "## Standardizing the DataFrame\n",
    "### Sort the data by subject and then reset the index."
   ]
  },
  {
   "cell_type": "code",
   "execution_count": null,
   "metadata": {
    "collapsed": true
   },
   "outputs": [],
   "source": []
  },
  {
   "cell_type": "markdown",
   "metadata": {},
   "source": [
    "### Drop unnecessary columns (e.g. duration, onset)"
   ]
  },
  {
   "cell_type": "code",
   "execution_count": null,
   "metadata": {
    "collapsed": true
   },
   "outputs": [],
   "source": []
  },
  {
   "cell_type": "markdown",
   "metadata": {},
   "source": [
    "### Rename column \"response_time\" to \"rt\"."
   ]
  },
  {
   "cell_type": "code",
   "execution_count": null,
   "metadata": {
    "collapsed": true
   },
   "outputs": [],
   "source": []
  },
  {
   "cell_type": "markdown",
   "metadata": {},
   "source": [
    "### Set subj and condition as Categorical variables.\n",
    "Check the memory usage before and after."
   ]
  },
  {
   "cell_type": "code",
   "execution_count": null,
   "metadata": {
    "collapsed": true
   },
   "outputs": [],
   "source": []
  },
  {
   "cell_type": "markdown",
   "metadata": {},
   "source": [
    "### Find the unique values of the \"correct\" variable.\n",
    "What are the values? Are there values indicating missing responses?"
   ]
  },
  {
   "cell_type": "code",
   "execution_count": null,
   "metadata": {
    "collapsed": true
   },
   "outputs": [],
   "source": []
  },
  {
   "cell_type": "markdown",
   "metadata": {},
   "source": [
    "### Recode the values of the \"correct\" variable: {\"Y\" = 1, \"N\" = 0}"
   ]
  },
  {
   "cell_type": "code",
   "execution_count": null,
   "metadata": {
    "collapsed": true
   },
   "outputs": [],
   "source": []
  },
  {
   "cell_type": "markdown",
   "metadata": {},
   "source": [
    "### Save the standardized group data .\n",
    "Save as CSV file."
   ]
  },
  {
   "cell_type": "code",
   "execution_count": null,
   "metadata": {
    "collapsed": true
   },
   "outputs": [],
   "source": []
  },
  {
   "cell_type": "markdown",
   "metadata": {},
   "source": [
    "## Filtering the DataFrame.\n",
    "In our analysis later, we will be measuring the interference effect (i.e. the slowdown in reaction time with competing stimuli). To cleanly measure how much of a slowdown there is, we will want to remove trials with aberrant properties. That is, we want to remove trials whose attributes suggest that the participant's behavior was confounded on that trial. There are three properties we will look for:\n",
    "\n",
    "1. **Incorrect trials:** incorrect trials are typically faster than correct trials. Can be caused by many factors (lapsed attention, rule-forgetting).\n",
    "2. **Fast trials:** trials with unrealistically fast reaction times (responding within 100ms). Typically caused by finger slips. \n",
    "3. **Slow trials:** trials with uncharacteristically slow reaction times (responding after 5s). Typically caused by lapsed attention.\n",
    "\n",
    "In the following exercises, you will work to identify and remove these trials.\n",
    "\n",
    "NOTE: It should be said that cognitive psychologists have much better methods than these for handling aberrant trials. Most procedures do not throw away data (i.e. avoiding garden of forking paths). As a simple exercise, however, we will utilize these simpler techniques as means of instruction.\n",
    "\n",
    "### Incorrect trials\n",
    "Though we will ultimately toss away incorrect trials, we do not want to do so blindly. One problematic scenario is if a subject has an accuracy of 50%. This would suggest the subject was responding at random. In this scenario, we would want to toss away all of that subject's data, as they did not understand the task, and not only the trials they responded incorrectly to. In another problematic scenario (accuracy = 65%), we might throw away so many trials such that we have too few trials to reliably estimate an effect of interest. \n",
    "\n",
    "As such, we will (arbitrarily) define a required accuracy rate of 75% as the inclusion criterion. All trials corresponding to a subject with an accurate rate lower than 75% will be discarded. \n",
    "\n",
    "#### Use groupby to compute ratios of correct trials within participants.\n",
    "Should any subjects be discarded?"
   ]
  },
  {
   "cell_type": "code",
   "execution_count": null,
   "metadata": {
    "collapsed": true
   },
   "outputs": [],
   "source": []
  },
  {
   "cell_type": "markdown",
   "metadata": {},
   "source": [
    "#### Use GroupBy Filter to remove any subjects with less than 75% accuracy.\n",
    "Identify the remaining subjects to make sure that it worked."
   ]
  },
  {
   "cell_type": "code",
   "execution_count": null,
   "metadata": {
    "collapsed": true
   },
   "outputs": [],
   "source": []
  },
  {
   "cell_type": "markdown",
   "metadata": {},
   "source": [
    "#### Update the Subject categorical variable.\n",
    "This step is necessary to ensure proper DataFrame functions after a category is no longer present. To do this, you will need to use the \"remove_unused_categories\" attribute of the Categorical function. See [here](http://pandas.pydata.org/pandas-docs/stable/categorical.html#removing-categories) for details."
   ]
  },
  {
   "cell_type": "code",
   "execution_count": null,
   "metadata": {
    "collapsed": true
   },
   "outputs": [],
   "source": []
  },
  {
   "cell_type": "markdown",
   "metadata": {},
   "source": [
    "#### Remove the remaining incorrect trials."
   ]
  },
  {
   "cell_type": "code",
   "execution_count": null,
   "metadata": {
    "collapsed": true
   },
   "outputs": [],
   "source": []
  },
  {
   "cell_type": "markdown",
   "metadata": {},
   "source": [
    "### Fast and Slow Trials\n",
    "With incorrect trials removed, we move onto removing too-fast and too-slow trials. Before anything else, we should visualize the data. \n",
    "Use FacetGrid from Seaborn to visualize all the participants' reaction time data. \n",
    "\n",
    "From eyeballing the data, does it appear there are any major outliers?"
   ]
  },
  {
   "cell_type": "code",
   "execution_count": null,
   "metadata": {
    "collapsed": true
   },
   "outputs": [],
   "source": []
  },
  {
   "cell_type": "markdown",
   "metadata": {},
   "source": [
    "It does not appear as if there are any outliers in the reaction time data worth worrying about (perhaps Subject 8, but even one or two outliers will not hurt). As such, we will not reject any more trials. \n",
    "\n",
    "To provide a little more experience, however, in working with Pandas and Scipy, the daring individual can complete the reaction time filtering exercises below. Otherwise, skip to **Step 3**.\n",
    "\n",
    "In this extra exercise, we will iteratively extract each participant's reaction times, fit a gamma distribution to it, compute the likelihood of observed reaction times given the model fit, and store these values in the DataFrame. Reaction time observations with especially low likelihoods (< 0.3% likelihood) will be removed.\n",
    "\n",
    "#### Fitting a gamma distribution to each subject's reaction time data.\n",
    "To do this, you will need to do the following:\n",
    "* Import gamma from scipy.stats.\n",
    "* Make a new empty column in the DataFrame.\n",
    "* In a for loop: \n",
    "    * Extract participant's RT data.\n",
    "    * Fit gamma distribution to RT with location fixed to 0. (Check for the fit attribute of the gamma class.)\n",
    "    * Using the estimated parameters, compute the CDF of observed reaction times.\n",
    "    * Store in the empty column for that given participant."
   ]
  },
  {
   "cell_type": "code",
   "execution_count": null,
   "metadata": {
    "collapsed": true
   },
   "outputs": [],
   "source": []
  },
  {
   "cell_type": "markdown",
   "metadata": {},
   "source": [
    "#### Remove all trials with CDFs less than 0.3% likelihood (CDF < 3e-3, CDF > 0.997)"
   ]
  },
  {
   "cell_type": "code",
   "execution_count": null,
   "metadata": {
    "collapsed": true
   },
   "outputs": [],
   "source": []
  },
  {
   "cell_type": "markdown",
   "metadata": {},
   "source": [
    "# Step 3) Describing and Visualizing the Data\n",
    "## Summary Tables\n",
    "### Use GroupBy to compute the mean and standard deviation of the reaction time, across all subjects, for each condition."
   ]
  },
  {
   "cell_type": "code",
   "execution_count": null,
   "metadata": {
    "collapsed": true
   },
   "outputs": [],
   "source": []
  },
  {
   "cell_type": "markdown",
   "metadata": {},
   "source": [
    "## Visualization\n",
    "### Fancy Barplot\n",
    "Visualize the average reaction time by condition using Seaborn's barplot command."
   ]
  },
  {
   "cell_type": "code",
   "execution_count": null,
   "metadata": {
    "collapsed": true
   },
   "outputs": [],
   "source": []
  },
  {
   "cell_type": "markdown",
   "metadata": {},
   "source": [
    "### Francy Histograms, Part 1\n",
    "Using pivot_table and [Seaborn's Distplot command](https://seaborn.pydata.org/examples/distplot_options.html), compute and visualize the distribution of within-subject average reaction times separated by condition. Be sure to add labels."
   ]
  },
  {
   "cell_type": "code",
   "execution_count": null,
   "metadata": {},
   "outputs": [],
   "source": []
  },
  {
   "cell_type": "markdown",
   "metadata": {},
   "source": [
    "### Fancy Histograms, Part 2\n",
    "Use the [FacetGrid tutorial](https://seaborn.pydata.org/examples/faceted_histogram.html) to pipe the reaction time data, separated by subject/condition, to the [Distplot command](https://seaborn.pydata.org/examples/distplot_options.html). Try different distplot styles until you find something visually compelling.\n",
    "\n",
    "Hints: You may want to use *col_wrap* and turn off *sharex/sharey* in FaceGrid."
   ]
  },
  {
   "cell_type": "code",
   "execution_count": null,
   "metadata": {},
   "outputs": [],
   "source": []
  },
  {
   "cell_type": "markdown",
   "metadata": {},
   "source": [
    "# Step 4) Compute Statistics"
   ]
  },
  {
   "cell_type": "markdown",
   "metadata": {},
   "source": [
    "## SciPy Statistics"
   ]
  },
  {
   "cell_type": "code",
   "execution_count": null,
   "metadata": {},
   "outputs": [],
   "source": []
  },
  {
   "cell_type": "markdown",
   "metadata": {},
   "source": [
    "## Statsmodels\n",
    "### Categorical Regression\n",
    "[See here](http://www.statsmodels.org/stable/example_formulas.html#categorical-variables)"
   ]
  },
  {
   "cell_type": "code",
   "execution_count": null,
   "metadata": {},
   "outputs": [],
   "source": []
  },
  {
   "cell_type": "markdown",
   "metadata": {},
   "source": [
    "### Dummy Coded Regression"
   ]
  },
  {
   "cell_type": "code",
   "execution_count": null,
   "metadata": {},
   "outputs": [],
   "source": []
  },
  {
   "cell_type": "markdown",
   "metadata": {},
   "source": [
    "### Mixed Effects Models"
   ]
  },
  {
   "cell_type": "code",
   "execution_count": null,
   "metadata": {},
   "outputs": [],
   "source": []
  }
 ],
 "metadata": {
  "kernelspec": {
   "display_name": "Python 3",
   "language": "python",
   "name": "python3"
  },
  "language_info": {
   "codemirror_mode": {
    "name": "ipython",
    "version": 3
   },
   "file_extension": ".py",
   "mimetype": "text/x-python",
   "name": "python",
   "nbconvert_exporter": "python",
   "pygments_lexer": "ipython3",
   "version": "3.6.1"
  },
  "toc": {
   "colors": {
    "hover_highlight": "#DAA520",
    "navigate_num": "#000000",
    "navigate_text": "#333333",
    "running_highlight": "#FF0000",
    "selected_highlight": "#FFD700",
    "sidebar_border": "#EEEEEE",
    "wrapper_background": "#FFFFFF"
   },
   "moveMenuLeft": true,
   "nav_menu": {
    "height": "512px",
    "width": "252px"
   },
   "navigate_menu": true,
   "number_sections": false,
   "sideBar": true,
   "threshold": 4,
   "toc_cell": false,
   "toc_section_display": "block",
   "toc_window_display": true,
   "widenNotebook": false
  }
 },
 "nbformat": 4,
 "nbformat_minor": 1
}
