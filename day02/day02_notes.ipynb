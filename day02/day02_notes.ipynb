{
 "cells": [
  {
   "cell_type": "markdown",
   "metadata": {},
   "source": [
    "# Section 3: Introduction to NumPy"
   ]
  },
  {
   "cell_type": "markdown",
   "metadata": {},
   "source": [
    "## Importing Modules\n",
    "If vanilla python seems rather lackluster, that's because it is. Fortunately, the scientific stack adds a broad and powerful array of python packages fill in the gaps. Once installed, packages in python are easily loaded for use."
   ]
  },
  {
   "cell_type": "code",
   "execution_count": 67,
   "metadata": {},
   "outputs": [
    {
     "name": "stdout",
     "output_type": "stream",
     "text": [
      "1.13.0\n"
     ]
    }
   ],
   "source": [
    "import numpy\n",
    "print(numpy.__version__)"
   ]
  },
  {
   "cell_type": "markdown",
   "metadata": {},
   "source": [
    "Commands from packages are like attributes of objects. For convenience, we will import packages using shorthand."
   ]
  },
  {
   "cell_type": "code",
   "execution_count": 68,
   "metadata": {},
   "outputs": [
    {
     "name": "stdout",
     "output_type": "stream",
     "text": [
      "1.13.0\n"
     ]
    }
   ],
   "source": [
    "import numpy as np\n",
    "print(np.__version__)"
   ]
  },
  {
   "cell_type": "markdown",
   "metadata": {},
   "source": [
    "## NumPy Arrays\n",
    "### Why arrays improve on lists\n",
    "Arrays are the most basic type of the NumPy package. NumPy arrays are vectors (Nx1), similar to pythonic lists. In contrast to lists, however, arrays have many more attributes and can be modified in substantially more ways. Several examples are provided below demonstrating the improvement of arrays over lists."
   ]
  },
  {
   "cell_type": "code",
   "execution_count": 69,
   "metadata": {},
   "outputs": [
    {
     "name": "stdout",
     "output_type": "stream",
     "text": [
      "[0, 1, 2, 3, 4]\n",
      "[0, 1, 2, 3, 4, 0, 1, 2, 3, 4, 0, 1, 2, 3, 4]\n"
     ]
    },
    {
     "ename": "TypeError",
     "evalue": "can't multiply sequence by non-int of type 'list'",
     "output_type": "error",
     "traceback": [
      "\u001b[0;31m---------------------------------------------------------------------------\u001b[0m",
      "\u001b[0;31mTypeError\u001b[0m                                 Traceback (most recent call last)",
      "\u001b[0;32m<ipython-input-69-675059c57f5c>\u001b[0m in \u001b[0;36m<module>\u001b[0;34m()\u001b[0m\n\u001b[1;32m      4\u001b[0m \u001b[0mprint\u001b[0m\u001b[0;34m(\u001b[0m\u001b[0mexample_list\u001b[0m\u001b[0;34m)\u001b[0m\u001b[0;34m\u001b[0m\u001b[0m\n\u001b[1;32m      5\u001b[0m \u001b[0mprint\u001b[0m\u001b[0;34m(\u001b[0m\u001b[0mexample_list\u001b[0m \u001b[0;34m*\u001b[0m \u001b[0;36m3\u001b[0m\u001b[0;34m)\u001b[0m            \u001b[0;31m# scalar * list\u001b[0m\u001b[0;34m\u001b[0m\u001b[0m\n\u001b[0;32m----> 6\u001b[0;31m \u001b[0mprint\u001b[0m\u001b[0;34m(\u001b[0m\u001b[0mexample_list\u001b[0m \u001b[0;34m*\u001b[0m \u001b[0mexample_list\u001b[0m\u001b[0;34m)\u001b[0m \u001b[0;31m# list * list\u001b[0m\u001b[0;34m\u001b[0m\u001b[0m\n\u001b[0m",
      "\u001b[0;31mTypeError\u001b[0m: can't multiply sequence by non-int of type 'list'"
     ]
    }
   ],
   "source": [
    "## Define example list.\n",
    "example_list = list(range(5))\n",
    "\n",
    "print(example_list)\n",
    "print(example_list * 3)            # scalar * list\n",
    "print(example_list * example_list) # list * list"
   ]
  },
  {
   "cell_type": "markdown",
   "metadata": {},
   "source": [
    "In contrast, NumPy arrays can be modified in this way. We use the **arange** command to initialize an array of sequential integers."
   ]
  },
  {
   "cell_type": "code",
   "execution_count": 70,
   "metadata": {},
   "outputs": [
    {
     "name": "stdout",
     "output_type": "stream",
     "text": [
      "[0 1 2 3 4] <class 'numpy.ndarray'>\n",
      "[ 0  3  6  9 12]\n",
      "[ 0  1  4  9 16]\n"
     ]
    }
   ],
   "source": [
    "arr = np.arange(5)\n",
    "\n",
    "print(arr, type(arr))\n",
    "print(arr * 3)\n",
    "print(arr * arr)"
   ]
  },
  {
   "cell_type": "markdown",
   "metadata": {},
   "source": [
    "Every array has an object type. These can be looked up and modified."
   ]
  },
  {
   "cell_type": "code",
   "execution_count": 71,
   "metadata": {},
   "outputs": [
    {
     "name": "stdout",
     "output_type": "stream",
     "text": [
      "[0 1 2 3 4] int64\n",
      "[ 0.  1.  2.  3.  4.] float64\n"
     ]
    }
   ],
   "source": [
    "print(arr, arr.dtype)   # Print current datatype.\n",
    "arr = arr.astype(float) # Conver to float.\n",
    "print(arr, arr.dtype)   # Print new datatype."
   ]
  },
  {
   "cell_type": "markdown",
   "metadata": {},
   "source": [
    "Numpy arrays store metadata about their contents. These can be helpful, especially the **shape** atribute."
   ]
  },
  {
   "cell_type": "code",
   "execution_count": 72,
   "metadata": {},
   "outputs": [
    {
     "name": "stdout",
     "output_type": "stream",
     "text": [
      "Array shape: (5,)\n",
      "Array size: 40\n"
     ]
    }
   ],
   "source": [
    "print('Array shape:', arr.shape) # Print shape of array.\n",
    "print('Array size:', arr.nbytes) # Print bytes of array."
   ]
  },
  {
   "cell_type": "markdown",
   "metadata": {},
   "source": [
    "Arrays now have a number of other built-in attributes \n",
    "not available for lists."
   ]
  },
  {
   "cell_type": "code",
   "execution_count": 73,
   "metadata": {},
   "outputs": [
    {
     "name": "stdout",
     "output_type": "stream",
     "text": [
      "Round: [ 0.  1.  2.  3.  4.]\n",
      "Min: 0.0\n",
      "Max: 4.0\n",
      "Sum: 10.0\n",
      "Mean: 2.0\n"
     ]
    }
   ],
   "source": [
    "print('Round:', arr.round()) # Round array.\n",
    "print('Min:', arr.min())     # Get max of array.\n",
    "print('Max:', arr.max())     # Get min of array.\n",
    "print('Sum:', arr.sum())     # Get sum of array.\n",
    "print('Mean:',arr.mean())    # Get mean of array."
   ]
  },
  {
   "cell_type": "markdown",
   "metadata": {},
   "source": [
    "### Generating NumPy Arrays\n",
    "There are many ways of generating NumPy arrays. The most simple way is to convert a Python list to NumPy array using the **array** command."
   ]
  },
  {
   "cell_type": "code",
   "execution_count": 74,
   "metadata": {},
   "outputs": [
    {
     "name": "stdout",
     "output_type": "stream",
     "text": [
      "[4, 7, 9.4] <class 'list'>\n",
      "[ 4.   7.   9.4] <class 'numpy.ndarray'>\n"
     ]
    }
   ],
   "source": [
    "## Making an array from a list using the array command.\n",
    "example_list = [4, 7, 9.4]\n",
    "arr = np.array(example_list)\n",
    "\n",
    "print(example_list, type(example_list))\n",
    "print(arr, type(arr)) "
   ]
  },
  {
   "cell_type": "markdown",
   "metadata": {},
   "source": [
    "NumPy has recreated all of the standard R/Matlab commands for \n",
    "generating arrays."
   ]
  },
  {
   "cell_type": "code",
   "execution_count": 75,
   "metadata": {},
   "outputs": [
    {
     "name": "stdout",
     "output_type": "stream",
     "text": [
      "np.arange(5)        = [0 1 2 3 4]\n",
      "np.zeros(5)         = [ 0.  0.  0.  0.  0.]\n",
      "np.ones(5)          = [ 1.  1.  1.  1.  1.]\n",
      "np.linspace(0,10,5) = [  0.    2.5   5.    7.5  10. ]\n"
     ]
    }
   ],
   "source": [
    "print('np.arange(5)        = %s' %np.arange(5))         # Array of 5 sequential integers.\n",
    "print('np.zeros(5)         = %s' %np.zeros(5))          # Array of 5 zeros.\n",
    "print('np.ones(5)          = %s' %np.ones(5))           # Array of 5 ones.\n",
    "print('np.linspace(0,10,5) = %s' %np.linspace(0,10,5))  # Length-5 evenly-spaced array from 0 to 10."
   ]
  },
  {
   "cell_type": "markdown",
   "metadata": {},
   "source": [
    "## NumPy Matrices\n",
    "### Why matrices improve on lists\n",
    "It is possible to represent matrices in pythonic lists, though it is inefficient. Similar to the benefits of arrays, NumPy matrices dramatically improve upon the numerical capabilities of core python. Python can technically represent matrices as a list of lists."
   ]
  },
  {
   "cell_type": "code",
   "execution_count": 76,
   "metadata": {},
   "outputs": [
    {
     "name": "stdout",
     "output_type": "stream",
     "text": [
      "[[1, 2, 3], [4, 5, 6], [7, 8, 9]]\n",
      "6\n"
     ]
    }
   ],
   "source": [
    "nested_lists = [[1,2,3],\n",
    "                [4,5,6],\n",
    "                [7,8,9]]\n",
    "\n",
    "print(nested_lists)\n",
    "print(nested_lists[1][2])   # To extract the 2nd row, 3rd column, two brackets are necessary."
   ]
  },
  {
   "cell_type": "markdown",
   "metadata": {},
   "source": [
    "NumPy matrices make this much easier!"
   ]
  },
  {
   "cell_type": "code",
   "execution_count": 77,
   "metadata": {},
   "outputs": [
    {
     "name": "stdout",
     "output_type": "stream",
     "text": [
      "[[1 2 3]\n",
      " [4 5 6]\n",
      " [7 8 9]] <class 'numpy.ndarray'>\n",
      "6\n"
     ]
    }
   ],
   "source": [
    "mat = np.array(nested_lists)\n",
    "\n",
    "print(mat, type(mat))\n",
    "print(mat[1,2])"
   ]
  },
  {
   "cell_type": "markdown",
   "metadata": {},
   "source": [
    "Indexing of NumPy matrices (and arrays for that matter) obey all of the slicing conventions of lists. Commas are used to demarcate which axis a slice operation is targeting."
   ]
  },
  {
   "cell_type": "code",
   "execution_count": 78,
   "metadata": {},
   "outputs": [
    {
     "name": "stdout",
     "output_type": "stream",
     "text": [
      "mat[1,2]  = 6\n",
      "mat[0,:]  = [1 2 3]\n",
      "mat[:,-1] = [3 6 9]\n"
     ]
    }
   ],
   "source": [
    "print('mat[1,2]  = %s' %mat[1,2])    # Second row, third column.\n",
    "print('mat[0,:]  = %s' %mat[0,:])    # All the first row.\n",
    "print('mat[:,-1] = %s' %mat[:,-1])   # All of the final column."
   ]
  },
  {
   "cell_type": "markdown",
   "metadata": {},
   "source": [
    "NumPy matrices have all the same attributes of NumPy arrays, but now functions can be applied to specific rows or columns in addition to the entire matrix."
   ]
  },
  {
   "cell_type": "code",
   "execution_count": 79,
   "metadata": {},
   "outputs": [
    {
     "name": "stdout",
     "output_type": "stream",
     "text": [
      "[[1 2 3]\n",
      " [4 5 6]\n",
      " [7 8 9]]\n",
      "45\n"
     ]
    }
   ],
   "source": [
    "## Sum across matrix.\n",
    "print(mat)\n",
    "print( mat.sum() )          "
   ]
  },
  {
   "cell_type": "code",
   "execution_count": 80,
   "metadata": {},
   "outputs": [
    {
     "name": "stdout",
     "output_type": "stream",
     "text": [
      "[12 15 18]\n"
     ]
    }
   ],
   "source": [
    "## Sum across columns.\n",
    "print( mat.sum(axis=0) )"
   ]
  },
  {
   "cell_type": "code",
   "execution_count": 81,
   "metadata": {},
   "outputs": [
    {
     "name": "stdout",
     "output_type": "stream",
     "text": [
      "[ 6 15 24]\n"
     ]
    }
   ],
   "source": [
    "## Sum across rows.\n",
    "print( mat.sum(axis=1) )"
   ]
  },
  {
   "cell_type": "markdown",
   "metadata": {},
   "source": [
    "Importantly, all NumPy arrays and matrices have a **reshape** attribute allowing for transforming matrices into different dimensions."
   ]
  },
  {
   "cell_type": "code",
   "execution_count": 82,
   "metadata": {},
   "outputs": [
    {
     "name": "stdout",
     "output_type": "stream",
     "text": [
      "Original shape (3, 3)\n",
      "Column vector (9, 1)\n",
      "Row vector (1, 9)\n"
     ]
    }
   ],
   "source": [
    "print('Original shape', mat.shape)\n",
    "\n",
    "# Reshape to column vector\n",
    "mat = mat.reshape(9,1)\n",
    "print('Column vector', mat.shape)\n",
    "\n",
    "# Reshape to column vector\n",
    "mat = mat.reshape(1,9)\n",
    "print('Row vector', mat.shape)"
   ]
  },
  {
   "cell_type": "markdown",
   "metadata": {},
   "source": [
    "Importantly, reshape can be used to change the shape of NumPy arrays. The order flag can also change how they are organized (row-ordered vs. column-ordered)."
   ]
  },
  {
   "cell_type": "code",
   "execution_count": 83,
   "metadata": {},
   "outputs": [
    {
     "name": "stdout",
     "output_type": "stream",
     "text": [
      "Original: [[1 2 3 4 5 6 7 8 9]]\n"
     ]
    }
   ],
   "source": [
    "print('Original:', mat)"
   ]
  },
  {
   "cell_type": "code",
   "execution_count": 84,
   "metadata": {},
   "outputs": [
    {
     "name": "stdout",
     "output_type": "stream",
     "text": [
      "[[1 2 3]\n",
      " [4 5 6]\n",
      " [7 8 9]]\n"
     ]
    }
   ],
   "source": [
    "## Reshape (column organized)\n",
    "print(mat.reshape(3,3,order='C'))"
   ]
  },
  {
   "cell_type": "code",
   "execution_count": 85,
   "metadata": {},
   "outputs": [
    {
     "name": "stdout",
     "output_type": "stream",
     "text": [
      "[[1 4 7]\n",
      " [2 5 8]\n",
      " [3 6 9]]\n"
     ]
    }
   ],
   "source": [
    "## Reshape (row organized)\n",
    "print(mat.reshape(3,3,order='F')) "
   ]
  },
  {
   "cell_type": "markdown",
   "metadata": {},
   "source": [
    "The dimensions of matrices can also be quickly changed with **flatten** and **squeeze**. "
   ]
  },
  {
   "cell_type": "code",
   "execution_count": 86,
   "metadata": {},
   "outputs": [
    {
     "name": "stdout",
     "output_type": "stream",
     "text": [
      "Original: (3, 3, 1)\n",
      "Flatten: (9,)\n",
      "Squeeze: (3, 3)\n"
     ]
    }
   ],
   "source": [
    "## Reshape to new dimensions.\n",
    "mat = mat.reshape(3,3,1)\n",
    "print('Original:', mat.shape)\n",
    "\n",
    "## Flatten matrix.\n",
    "print('Flatten:', mat.flatten().shape )\n",
    "\n",
    "## Squeeze matrix.\n",
    "print('Squeeze:', mat.squeeze().shape )"
   ]
  },
  {
   "cell_type": "markdown",
   "metadata": {},
   "source": [
    "### Generating NumPy Matrices\n",
    "Just as with arrays, there are a number of ways of generating NumPy matrices. The simplest is to use the **array** command on a list of lists. "
   ]
  },
  {
   "cell_type": "code",
   "execution_count": 87,
   "metadata": {},
   "outputs": [
    {
     "name": "stdout",
     "output_type": "stream",
     "text": [
      "[[0, 1, 1], [2, 3, 5], [8, 13, 21]]\n",
      "[[ 0  1  1]\n",
      " [ 2  3  5]\n",
      " [ 8 13 21]]\n"
     ]
    }
   ],
   "source": [
    "nested_lists = [[0, 1, 1],[2, 3, 5], [8, 13, 21]]\n",
    "mat = np.array(nested_lists)\n",
    "\n",
    "print(nested_lists)\n",
    "print(mat)"
   ]
  },
  {
   "cell_type": "markdown",
   "metadata": {},
   "source": [
    "The same commands previously introduced to generate NumPy arrays can also be used to generate matrices. Simply specify extra dimensions."
   ]
  },
  {
   "cell_type": "code",
   "execution_count": 88,
   "metadata": {},
   "outputs": [
    {
     "data": {
      "text/plain": [
       "array([[ 1.,  0.,  0.],\n",
       "       [ 0.,  1.,  0.],\n",
       "       [ 0.,  0.,  1.]])"
      ]
     },
     "execution_count": 88,
     "metadata": {},
     "output_type": "execute_result"
    }
   ],
   "source": [
    "np.zeros( [3,3] )               # 3x3 matrix of zeros.\n",
    "np.ones( [3,3] )                # 3x3 matrix of ones.\n",
    "np.arange(9).reshape(3,3)       # 3x3 matrix of sequential integers.\n",
    "np.linspace(0,8,9).reshape(3,3) # 3x3 matrix evenly-spaced array from 0 to 8. \n",
    "np.identity(3)                  # 3x3 identity matrix."
   ]
  },
  {
   "cell_type": "markdown",
   "metadata": {},
   "source": [
    "Matrices can also be formed by joining NumPy arrays. There are several methods for doing this, including: **r_**, **c_**, **hstack**, **vstack**, and **concatenate**. We demonstrate each below. "
   ]
  },
  {
   "cell_type": "code",
   "execution_count": 89,
   "metadata": {},
   "outputs": [
    {
     "name": "stdout",
     "output_type": "stream",
     "text": [
      "Original [0 1 2 3 4]\n"
     ]
    },
    {
     "data": {
      "text/plain": [
       "array([0, 1, 2, 3, 4, 0, 1, 2, 3, 4])"
      ]
     },
     "execution_count": 89,
     "metadata": {},
     "output_type": "execute_result"
    }
   ],
   "source": [
    "## np.r_ = join two arrays on their first axis.\n",
    "arr = np.arange(5)\n",
    "print('Original', arr)\n",
    "\n",
    "## Join on first axis.\n",
    "np.r_[arr,arr]"
   ]
  },
  {
   "cell_type": "code",
   "execution_count": 90,
   "metadata": {},
   "outputs": [
    {
     "data": {
      "text/plain": [
       "array([[0, 0],\n",
       "       [1, 1],\n",
       "       [2, 2],\n",
       "       [3, 3],\n",
       "       [4, 4]])"
      ]
     },
     "execution_count": 90,
     "metadata": {},
     "output_type": "execute_result"
    }
   ],
   "source": [
    "## np.c_ = join two arrays on their second axis.\n",
    "## Create a second axis if does not exist.\n",
    "\n",
    "np.c_[arr,arr]"
   ]
  },
  {
   "cell_type": "code",
   "execution_count": 91,
   "metadata": {},
   "outputs": [
    {
     "name": "stdout",
     "output_type": "stream",
     "text": [
      "[0 1 2 3 4 0 1 2 3 4]\n",
      "[[0 0]\n",
      " [1 1]\n",
      " [2 2]\n",
      " [3 3]\n",
      " [4 4]]\n"
     ]
    }
   ],
   "source": [
    "## np.hstack = join arrays along their columns.\n",
    "\n",
    "print(np.hstack([arr,arr]))\n",
    "print(np.hstack([arr.reshape(5,1), arr.reshape(5,1)]))"
   ]
  },
  {
   "cell_type": "code",
   "execution_count": 92,
   "metadata": {},
   "outputs": [
    {
     "name": "stdout",
     "output_type": "stream",
     "text": [
      "[[0]\n",
      " [1]\n",
      " [2]\n",
      " [3]\n",
      " [4]\n",
      " [0]\n",
      " [1]\n",
      " [2]\n",
      " [3]\n",
      " [4]]\n"
     ]
    }
   ],
   "source": [
    "## np.vstack = join arrays along their rows.\n",
    "np.vstack([arr,arr])\n",
    "print(np.vstack([arr.reshape(5,1), arr.reshape(5,1)]))"
   ]
  },
  {
   "cell_type": "code",
   "execution_count": 93,
   "metadata": {},
   "outputs": [
    {
     "name": "stdout",
     "output_type": "stream",
     "text": [
      "[0 1 2 3 4 0 1 2 3 4]\n",
      "[[0 0]\n",
      " [1 1]\n",
      " [2 2]\n",
      " [3 3]\n",
      " [4 4]]\n"
     ]
    }
   ],
   "source": [
    "## np.concatenate = join arrays along specified axis.\n",
    "## Default is first axis.\n",
    "\n",
    "print(np.concatenate([arr, arr], axis=0))\n",
    "print(np.concatenate([arr.reshape(5,1), arr.reshape(5,1)], axis=1))"
   ]
  },
  {
   "cell_type": "markdown",
   "metadata": {},
   "source": [
    "## Core NumPy Functions\n",
    "NumPy also introduces a number of useful functions designed to operate efficiently over NumPy arrays. The following is a non-exhaustive overview of some important NumPy functions."
   ]
  },
  {
   "cell_type": "markdown",
   "metadata": {},
   "source": [
    "### Rounding Functions"
   ]
  },
  {
   "cell_type": "code",
   "execution_count": 94,
   "metadata": {},
   "outputs": [
    {
     "name": "stdout",
     "output_type": "stream",
     "text": [
      "Original: [ 0.    0.25  0.5   0.75  1.  ]\n",
      "np.round: [ 0.   0.2  0.5  0.8  1. ]\n",
      "np.floor: [ 0.  0.  0.  0.  1.]\n",
      "np.ceil:  [ 0.  1.  1.  1.  1.]\n"
     ]
    }
   ],
   "source": [
    "mat = np.linspace(0,1,5)\n",
    "print('Original: %s' %mat)\n",
    "print('np.round: %s' %np.round(mat, 1) )\n",
    "print('np.floor: %s' %np.floor(mat) ) \n",
    "print('np.ceil:  %s' %np.ceil(mat) )"
   ]
  },
  {
   "cell_type": "markdown",
   "metadata": {},
   "source": [
    "### Mathematical functions"
   ]
  },
  {
   "cell_type": "markdown",
   "metadata": {},
   "source": [
    "NumPy includes a variety of mathematical functions. All of these can be applied across an entire matrix or across arrays."
   ]
  },
  {
   "cell_type": "code",
   "execution_count": 95,
   "metadata": {
    "collapsed": true
   },
   "outputs": [],
   "source": [
    "np.sum;       # Sum of an array or matrix.\n",
    "np.cumsum;    # Cumulative sum over an array.\n",
    "np.prod;      # Element-wise multiplication of an array.\n",
    "np.divide;    # Element-wise division of two arrays.\n",
    "np.diff;      # Pairwise difference of elements of an array.\n",
    "np.exp;       # Exponential transform.\n",
    "np.log;       # Natural logarithm.\n",
    "np.log10;     # Base-10 logarithm."
   ]
  },
  {
   "cell_type": "markdown",
   "metadata": {},
   "source": [
    "### Summary Functions\n",
    "\n",
    "NumPy includes many functions to summarize an array. With the exception of **corrcoef**, all of these can be\n",
    "applied across an entire matrix or across arrays."
   ]
  },
  {
   "cell_type": "code",
   "execution_count": 96,
   "metadata": {
    "collapsed": true
   },
   "outputs": [],
   "source": [
    "np.min;           # Return the smallest element.\n",
    "np.max;           # Return the largest element.\n",
    "np.argmin;        # Return the index of the smallest element.\n",
    "np.argmax;        # Return the index of the largest element.\n",
    "np.mean;          # Compute the mean of an array.\n",
    "np.median;        # Compute the median of an array.\n",
    "np.std;           # Compute the standard deviation of an array.\n",
    "np.var;           # Compute the variance (sd^2) of an array.\n",
    "np.percentile;    # Compute the xth percentile of an array.\n",
    "np.corrcoef;      # Compute the row-/col-wise correlation of a matrix."
   ]
  },
  {
   "cell_type": "code",
   "execution_count": 97,
   "metadata": {},
   "outputs": [
    {
     "name": "stdout",
     "output_type": "stream",
     "text": [
      "Original:\n",
      "[[0 1 2 3 4]\n",
      " [4 3 2 1 0]]\n"
     ]
    }
   ],
   "source": [
    "## To give a few examples.\n",
    "mat = np.vstack([ np.arange(5), np.arange(5)[::-1] ])\n",
    "print('Original:\\n%s' %mat)"
   ]
  },
  {
   "cell_type": "code",
   "execution_count": 98,
   "metadata": {},
   "outputs": [
    {
     "name": "stdout",
     "output_type": "stream",
     "text": [
      "70% (all):  3.0\n",
      "70% (rows): [ 2.8  2.8]\n",
      "70% (cols): [ 2.8  2.4  2.   2.4  2.8]\n"
     ]
    }
   ],
   "source": [
    "## Compute percentile.\n",
    "print( '70%% (all):  %s' %np.percentile(mat, 70) )\n",
    "\n",
    "## Compute mean across rows.\n",
    "print('70%% (rows): %s' %np.percentile(mat, 70, axis=1) )\n",
    "\n",
    "## Compute mean across cols.\n",
    "print('70%% (cols): %s' %np.percentile(mat, 70, axis=0) )"
   ]
  },
  {
   "cell_type": "code",
   "execution_count": 99,
   "metadata": {},
   "outputs": [
    {
     "name": "stdout",
     "output_type": "stream",
     "text": [
      "Correlation:\n",
      " [[ 1. -1.]\n",
      " [-1.  1.]]\n"
     ]
    }
   ],
   "source": [
    "## Compute correlation.\n",
    "print('Correlation:\\n', np.corrcoef(mat))"
   ]
  },
  {
   "cell_type": "markdown",
   "metadata": {},
   "source": [
    "### Set Functions\n",
    "NumPy includes functions for identifying unique elements within or between arrays."
   ]
  },
  {
   "cell_type": "code",
   "execution_count": 100,
   "metadata": {
    "collapsed": true
   },
   "outputs": [],
   "source": [
    "## Define two arrays for example.\n",
    "arr1 = np.array([41, 16, 34, 0, 2, 20, 19, 14, 22, 15, 18, 9, 35, 41])\n",
    "arr2 = np.array([42, 22, 40, 7, 33, 0, 12, 19, 44, 10, 31, 11, 11, 49])"
   ]
  },
  {
   "cell_type": "code",
   "execution_count": 101,
   "metadata": {},
   "outputs": [
    {
     "data": {
      "text/plain": [
       "array([ 0,  2,  9, 14, 15, 16, 18, 19, 20, 22, 34, 35, 41, 41])"
      ]
     },
     "execution_count": 101,
     "metadata": {},
     "output_type": "execute_result"
    }
   ],
   "source": [
    "## Sort elements (ascending order).\n",
    "np.sort(arr1)"
   ]
  },
  {
   "cell_type": "code",
   "execution_count": 102,
   "metadata": {},
   "outputs": [
    {
     "data": {
      "text/plain": [
       "array([ 0,  2,  9, 14, 15, 16, 18, 19, 20, 22, 34, 35, 41])"
      ]
     },
     "execution_count": 102,
     "metadata": {},
     "output_type": "execute_result"
    }
   ],
   "source": [
    "## Return unique elements.\n",
    "np.unique(arr1)"
   ]
  },
  {
   "cell_type": "code",
   "execution_count": 103,
   "metadata": {},
   "outputs": [
    {
     "data": {
      "text/plain": [
       "(array([ 0,  2,  9, 14, 15, 16, 18, 19, 20, 22, 34, 35, 41]),\n",
       " array([1, 1, 1, 1, 1, 1, 1, 1, 1, 1, 1, 1, 2]))"
      ]
     },
     "execution_count": 103,
     "metadata": {},
     "output_type": "execute_result"
    }
   ],
   "source": [
    "## Return unique elements, count number of appearances.\n",
    "np.unique(arr1, return_counts=True)"
   ]
  },
  {
   "cell_type": "code",
   "execution_count": 104,
   "metadata": {},
   "outputs": [
    {
     "data": {
      "text/plain": [
       "array([False, False, False,  True, False, False,  True, False,  True,\n",
       "       False, False, False, False, False], dtype=bool)"
      ]
     },
     "execution_count": 104,
     "metadata": {},
     "output_type": "execute_result"
    }
   ],
   "source": [
    "## Find the elements of array-1 in array-2.\n",
    "np.in1d(arr1, arr2)"
   ]
  },
  {
   "cell_type": "code",
   "execution_count": 105,
   "metadata": {},
   "outputs": [
    {
     "data": {
      "text/plain": [
       "array([ 0,  2,  7,  9, 10, 11, 12, 14, 15, 16, 18, 19, 20, 22, 31, 33, 34,\n",
       "       35, 40, 41, 42, 44, 49])"
      ]
     },
     "execution_count": 105,
     "metadata": {},
     "output_type": "execute_result"
    }
   ],
   "source": [
    "## Return all unique elements of arrays 1 & 2.\n",
    "np.union1d(arr1, arr2)"
   ]
  },
  {
   "cell_type": "code",
   "execution_count": 106,
   "metadata": {},
   "outputs": [
    {
     "data": {
      "text/plain": [
       "array([ 0, 19, 22])"
      ]
     },
     "execution_count": 106,
     "metadata": {},
     "output_type": "execute_result"
    }
   ],
   "source": [
    "## Return all elements belonging to both arrays 1 & 2.\n",
    "np.intersect1d(arr1, arr2)"
   ]
  },
  {
   "cell_type": "markdown",
   "metadata": {},
   "source": [
    "### Replacing List Comprehensions"
   ]
  },
  {
   "cell_type": "markdown",
   "metadata": {},
   "source": [
    "NumPy includes a number of very helpful functions that act to replace list comprehensions (np.where) and for loops (np.apply_across_axis, np.apply_over_axes). These are often more efficient than writing out a full For loop. We will emphasize these functions with a simple example of standard-scoring (z-scoring) a matrix."
   ]
  },
  {
   "cell_type": "code",
   "execution_count": 107,
   "metadata": {},
   "outputs": [
    {
     "name": "stdout",
     "output_type": "stream",
     "text": [
      "[[ 0  1  2  3  4  5]\n",
      " [ 6  7  8  9 10 11]]\n"
     ]
    }
   ],
   "source": [
    "## Define the standard score (z-score) function.\n",
    "def zscore(arr): \n",
    "    return (arr - arr.mean()) / arr.std()\n",
    "\n",
    "## Define a simple matrix.\n",
    "mat = np.arange(12).reshape(2,6)\n",
    "print(mat)"
   ]
  },
  {
   "cell_type": "markdown",
   "metadata": {},
   "source": [
    "Use **apply_across_axis** to apply our function across each row."
   ]
  },
  {
   "cell_type": "code",
   "execution_count": 108,
   "metadata": {},
   "outputs": [
    {
     "name": "stdout",
     "output_type": "stream",
     "text": [
      "[[-1.46 -0.88 -0.29  0.29  0.88  1.46]\n",
      " [-1.46 -0.88 -0.29  0.29  0.88  1.46]]\n"
     ]
    }
   ],
   "source": [
    "zmat = np.apply_along_axis(zscore, axis=1, arr=mat)\n",
    "print(zmat.round(2))"
   ]
  },
  {
   "cell_type": "markdown",
   "metadata": {},
   "source": [
    "Use the **where** command to set all negative numbers to 0, else 1. **where** is identical to the **which** command in R. "
   ]
  },
  {
   "cell_type": "code",
   "execution_count": 109,
   "metadata": {},
   "outputs": [
    {
     "name": "stdout",
     "output_type": "stream",
     "text": [
      "[[0 0 0 1 1 1]\n",
      " [0 0 0 1 1 1]]\n"
     ]
    }
   ],
   "source": [
    "amat = np.where(zmat < 0, 0, 1)\n",
    "print(amat)"
   ]
  },
  {
   "cell_type": "markdown",
   "metadata": {},
   "source": [
    "If no transforms are specified, **where** returns the indices of the array where the conditional is met."
   ]
  },
  {
   "cell_type": "code",
   "execution_count": 110,
   "metadata": {},
   "outputs": [
    {
     "name": "stdout",
     "output_type": "stream",
     "text": [
      "(array([0, 0, 0, 1, 1, 1]), array([0, 1, 2, 0, 1, 2]))\n"
     ]
    }
   ],
   "source": [
    "print( np.where(zmat < 0 ) )"
   ]
  },
  {
   "cell_type": "markdown",
   "metadata": {},
   "source": [
    "### Linear Algebra Functions"
   ]
  },
  {
   "cell_type": "markdown",
   "metadata": {},
   "source": [
    "NumPy includes an entire submodule dedicated to efficient linear algebra functions (though it should be noted that SciPy has reimplemented them for maximal efficiency). See np.linalg for a full list of commands."
   ]
  },
  {
   "cell_type": "code",
   "execution_count": 111,
   "metadata": {},
   "outputs": [
    {
     "name": "stdout",
     "output_type": "stream",
     "text": [
      "[[ 0  1  2  3]\n",
      " [ 4  5  6  7]\n",
      " [ 8  9 10 11]\n",
      " [12 13 14 15]]\n"
     ]
    }
   ],
   "source": [
    "## Define a simple matrix.\n",
    "mat = np.arange(16).reshape(4,4)\n",
    "print(mat)"
   ]
  },
  {
   "cell_type": "code",
   "execution_count": 112,
   "metadata": {},
   "outputs": [
    {
     "name": "stdout",
     "output_type": "stream",
     "text": [
      "[[ 0  4  8 12]\n",
      " [ 1  5  9 13]\n",
      " [ 2  6 10 14]\n",
      " [ 3  7 11 15]]\n"
     ]
    }
   ],
   "source": [
    "## Transpose the matrix\n",
    "print(mat.T)           "
   ]
  },
  {
   "cell_type": "code",
   "execution_count": 113,
   "metadata": {},
   "outputs": [
    {
     "name": "stdout",
     "output_type": "stream",
     "text": [
      "[ 0  5 10 15]\n"
     ]
    }
   ],
   "source": [
    "## Return diagonal of matrix\n",
    "print(np.diag(mat))"
   ]
  },
  {
   "cell_type": "code",
   "execution_count": 114,
   "metadata": {},
   "outputs": [
    {
     "name": "stdout",
     "output_type": "stream",
     "text": [
      "[[ 0  1  2  3]\n",
      " [ 0  5  6  7]\n",
      " [ 0  0 10 11]\n",
      " [ 0  0  0 15]]\n"
     ]
    }
   ],
   "source": [
    "## Return upper triangular matrix\n",
    "print(np.triu(mat))    "
   ]
  },
  {
   "cell_type": "code",
   "execution_count": 115,
   "metadata": {},
   "outputs": [
    {
     "name": "stdout",
     "output_type": "stream",
     "text": [
      "[[ 56  62  68  74]\n",
      " [152 174 196 218]\n",
      " [248 286 324 362]\n",
      " [344 398 452 506]]\n"
     ]
    }
   ],
   "source": [
    "## Matrix multiply itself. Can also np.dot.\n",
    "print(np.dot(mat, mat))    "
   ]
  },
  {
   "cell_type": "code",
   "execution_count": 116,
   "metadata": {},
   "outputs": [
    {
     "name": "stdout",
     "output_type": "stream",
     "text": [
      "[[ 56  62  68  74]\n",
      " [152 174 196 218]\n",
      " [248 286 324 362]\n",
      " [344 398 452 506]]\n"
     ]
    }
   ],
   "source": [
    "## Can also use:\n",
    "print(mat.dot(mat))"
   ]
  },
  {
   "cell_type": "code",
   "execution_count": 117,
   "metadata": {
    "collapsed": true
   },
   "outputs": [],
   "source": [
    "## Linear algebra operations include:\n",
    "np.linalg.norm;        # Vector or matrix norm\n",
    "np.linalg.inv;         # Inverse of a square matrix\n",
    "np.linalg.det;         # Determinant of a square matrix\n",
    "np.linalg.eig;         # Eigenvalues and vectors of a square matrix\n",
    "np.linalg.cholesky;    # Cholesky decomposition of a matrix\n",
    "np.linalg.svd;         # Singular value decomposition of a matrix\n",
    "np.linalg.lstsq;       # Solve linear least-squares problem"
   ]
  },
  {
   "cell_type": "markdown",
   "metadata": {},
   "source": [
    "### Generating Random Data\n",
    "NumPy also includes many functions for generating random data. "
   ]
  },
  {
   "cell_type": "code",
   "execution_count": 118,
   "metadata": {
    "collapsed": true
   },
   "outputs": [],
   "source": [
    "## Set the RNG seed!\n",
    "np.random.seed(47404)"
   ]
  },
  {
   "cell_type": "code",
   "execution_count": 119,
   "metadata": {},
   "outputs": [
    {
     "name": "stdout",
     "output_type": "stream",
     "text": [
      "[9 0 2 0 2 4 3 4 6 5]\n"
     ]
    }
   ],
   "source": [
    "## Generate ten random integers between 0-9.\n",
    "print( np.random.randint(0,10,10) )"
   ]
  },
  {
   "cell_type": "code",
   "execution_count": 120,
   "metadata": {},
   "outputs": [
    {
     "name": "stdout",
     "output_type": "stream",
     "text": [
      "[-1.46523567  0.72885891 -0.73496833 -0.38356834 -0.29662156]\n"
     ]
    }
   ],
   "source": [
    "## Generate five random samples of a normal distribution with mu=0,sd=1.\n",
    "print( np.random.normal(0,1,5) )"
   ]
  },
  {
   "cell_type": "code",
   "execution_count": 121,
   "metadata": {},
   "outputs": [
    {
     "name": "stdout",
     "output_type": "stream",
     "text": [
      "[1 1 0 0 1 0 0 1 1 0]\n"
     ]
    }
   ],
   "source": [
    "## Generate 10 random coin flips.\n",
    "print( np.random.binomial(1,0.5,10))"
   ]
  },
  {
   "cell_type": "code",
   "execution_count": 122,
   "metadata": {},
   "outputs": [
    {
     "name": "stdout",
     "output_type": "stream",
     "text": [
      "[8 2 9 7 6]\n"
     ]
    }
   ],
   "source": [
    "## Choose five numbers from 0-9 without replacement.\n",
    "print( np.random.choice(np.arange(10), 5, replace=False) )"
   ]
  }
 ],
 "metadata": {
  "kernelspec": {
   "display_name": "Python 3",
   "language": "python",
   "name": "python3"
  },
  "language_info": {
   "codemirror_mode": {
    "name": "ipython",
    "version": 3
   },
   "file_extension": ".py",
   "mimetype": "text/x-python",
   "name": "python",
   "nbconvert_exporter": "python",
   "pygments_lexer": "ipython3",
   "version": "3.7.1"
  }
 },
 "nbformat": 4,
 "nbformat_minor": 2
}
