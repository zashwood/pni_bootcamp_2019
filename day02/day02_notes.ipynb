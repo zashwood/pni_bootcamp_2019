{
 "cells": [
  {
   "cell_type": "markdown",
   "metadata": {},
   "source": [
    "# Section 1: Introduction to NumPy"
   ]
  },
  {
   "cell_type": "markdown",
   "metadata": {},
   "source": [
    "## Importing Modules\n",
    "If vanilla python seems rather lackluster, that's because it is. Fortunately, the scientific stack adds a broad and powerful array of python packages fill in the gaps. Once installed, packages in python are easily loaded for use."
   ]
  },
  {
   "cell_type": "code",
   "execution_count": 1,
   "metadata": {},
   "outputs": [
    {
     "name": "stdout",
     "output_type": "stream",
     "text": [
      "1.16.3\n"
     ]
    }
   ],
   "source": [
    "import numpy as np\n",
    "print(np.__version__)"
   ]
  },
  {
   "cell_type": "markdown",
   "metadata": {},
   "source": [
    "Commands from packages are like attributes of objects. For convenience, we will import packages using shorthand."
   ]
  },
  {
   "cell_type": "markdown",
   "metadata": {},
   "source": [
    "## NumPy Arrays\n",
    "### Why arrays improve on lists\n",
    "Arrays are the most basic type of the NumPy package. NumPy arrays are vectors (Nx1), similar to pythonic lists. In contrast to lists, however, arrays have many more attributes and can be modified in substantially more ways. Several examples are provided below demonstrating the improvement of arrays over lists."
   ]
  },
  {
   "cell_type": "code",
   "execution_count": 2,
   "metadata": {},
   "outputs": [
    {
     "name": "stdout",
     "output_type": "stream",
     "text": [
      "[0, 1, 2, 3, 4]\n",
      "[0, 1, 2, 3, 4, 0, 1, 2, 3, 4, 0, 1, 2, 3, 4]\n"
     ]
    },
    {
     "ename": "TypeError",
     "evalue": "can't multiply sequence by non-int of type 'list'",
     "output_type": "error",
     "traceback": [
      "\u001b[0;31m---------------------------------------------------------------------------\u001b[0m",
      "\u001b[0;31mTypeError\u001b[0m                                 Traceback (most recent call last)",
      "\u001b[0;32m<ipython-input-2-1e626f5b30c1>\u001b[0m in \u001b[0;36m<module>\u001b[0;34m\u001b[0m\n\u001b[1;32m      4\u001b[0m \u001b[0mprint\u001b[0m\u001b[0;34m(\u001b[0m\u001b[0mexample_list\u001b[0m\u001b[0;34m)\u001b[0m\u001b[0;34m\u001b[0m\u001b[0;34m\u001b[0m\u001b[0m\n\u001b[1;32m      5\u001b[0m \u001b[0mprint\u001b[0m\u001b[0;34m(\u001b[0m\u001b[0mexample_list\u001b[0m \u001b[0;34m*\u001b[0m \u001b[0;36m3\u001b[0m\u001b[0;34m)\u001b[0m            \u001b[0;31m# scalar * list\u001b[0m\u001b[0;34m\u001b[0m\u001b[0;34m\u001b[0m\u001b[0m\n\u001b[0;32m----> 6\u001b[0;31m \u001b[0mprint\u001b[0m\u001b[0;34m(\u001b[0m\u001b[0mexample_list\u001b[0m \u001b[0;34m*\u001b[0m \u001b[0mexample_list\u001b[0m\u001b[0;34m)\u001b[0m \u001b[0;31m# list * list\u001b[0m\u001b[0;34m\u001b[0m\u001b[0;34m\u001b[0m\u001b[0m\n\u001b[0m",
      "\u001b[0;31mTypeError\u001b[0m: can't multiply sequence by non-int of type 'list'"
     ]
    }
   ],
   "source": [
    "## Define example list.\n",
    "example_list = list(range(5))\n",
    "\n",
    "print(example_list)\n",
    "print(example_list * 3)            # scalar * list\n",
    "print(example_list * example_list) # list * list"
   ]
  },
  {
   "cell_type": "markdown",
   "metadata": {},
   "source": [
    "In contrast, NumPy arrays can be modified in this way. We use the `np.arange` command to initialize an array of sequential integers."
   ]
  },
  {
   "cell_type": "code",
   "execution_count": 3,
   "metadata": {},
   "outputs": [
    {
     "name": "stdout",
     "output_type": "stream",
     "text": [
      "[0 1 2 3 4] <class 'numpy.ndarray'>\n",
      "[ 0  3  6  9 12]\n",
      "[ 0  1  4  9 16]\n"
     ]
    }
   ],
   "source": [
    "arr = np.arange(5)\n",
    "\n",
    "print(arr, type(arr))\n",
    "print(arr * 3)\n",
    "print(arr * arr)"
   ]
  },
  {
   "cell_type": "markdown",
   "metadata": {},
   "source": [
    "Every array has an object type. These can be looked up and modified."
   ]
  },
  {
   "cell_type": "code",
   "execution_count": 4,
   "metadata": {},
   "outputs": [
    {
     "name": "stdout",
     "output_type": "stream",
     "text": [
      "[0 1 2 3 4] int64\n",
      "[0. 1. 2. 3. 4.] float64\n"
     ]
    }
   ],
   "source": [
    "print(arr, arr.dtype)   # Print current datatype.\n",
    "arr = arr.astype(float) # Conver to float.\n",
    "print(arr, arr.dtype)   # Print new datatype."
   ]
  },
  {
   "cell_type": "markdown",
   "metadata": {},
   "source": [
    "Numpy arrays store metadata about their contents. These can be helpful, especially the **shape** atribute."
   ]
  },
  {
   "cell_type": "code",
   "execution_count": 5,
   "metadata": {},
   "outputs": [
    {
     "name": "stdout",
     "output_type": "stream",
     "text": [
      "Array shape: (5,)\n",
      "Array size: 5\n"
     ]
    }
   ],
   "source": [
    "print('Array shape:', arr.shape) # Print shape of array.\n",
    "print('Array size:', arr.size)  # Print number of total elements."
   ]
  },
  {
   "cell_type": "markdown",
   "metadata": {},
   "source": [
    "Accessing elements is easy."
   ]
  },
  {
   "cell_type": "code",
   "execution_count": 6,
   "metadata": {},
   "outputs": [
    {
     "name": "stdout",
     "output_type": "stream",
     "text": [
      "[0. 1.]\n",
      "[1. 3. 4.]\n"
     ]
    }
   ],
   "source": [
    "print(arr[:2])\n",
    "print(arr[[1,3,4]])"
   ]
  },
  {
   "cell_type": "markdown",
   "metadata": {},
   "source": [
    "Arrays now have a number of other built-in attributes \n",
    "not available for lists."
   ]
  },
  {
   "cell_type": "code",
   "execution_count": 7,
   "metadata": {},
   "outputs": [
    {
     "name": "stdout",
     "output_type": "stream",
     "text": [
      "Round: [0. 1. 2. 3. 4.]\n",
      "Min: 0.0\n",
      "Max: 4.0\n",
      "Sum: 10.0\n",
      "Mean: 2.0\n"
     ]
    }
   ],
   "source": [
    "print('Round:', arr.round()) # Round array.\n",
    "print('Min:', arr.min())     # Get max of array.\n",
    "print('Max:', arr.max())     # Get min of array.\n",
    "print('Sum:', arr.sum())     # Get sum of array.\n",
    "print('Mean:',arr.mean())    # Get mean of array."
   ]
  },
  {
   "cell_type": "markdown",
   "metadata": {},
   "source": [
    "### Generating NumPy Arrays\n",
    "There are many ways of generating NumPy arrays. The most simple way is to convert a Python list to NumPy array using the **array** command."
   ]
  },
  {
   "cell_type": "code",
   "execution_count": 8,
   "metadata": {},
   "outputs": [
    {
     "name": "stdout",
     "output_type": "stream",
     "text": [
      "[4, 7, 9.4] <class 'list'>\n",
      "[4.  7.  9.4] <class 'numpy.ndarray'>\n"
     ]
    }
   ],
   "source": [
    "## Making an array from a list using the array command.\n",
    "example_list = [4, 7, 9.4]\n",
    "arr = np.array(example_list)\n",
    "\n",
    "print(example_list, type(example_list))\n",
    "print(arr, type(arr)) "
   ]
  },
  {
   "cell_type": "markdown",
   "metadata": {},
   "source": [
    "NumPy has recreated all of the standard R/Matlab commands for \n",
    "generating arrays."
   ]
  },
  {
   "cell_type": "code",
   "execution_count": 9,
   "metadata": {},
   "outputs": [
    {
     "name": "stdout",
     "output_type": "stream",
     "text": [
      "np.arange(5)        = [0 1 2 3 4]\n",
      "np.zeros(5)         = [0. 0. 0. 0. 0.]\n",
      "np.ones(5)          = [1. 1. 1. 1. 1.]\n",
      "np.linspace(0,10,5) = [ 0.   2.5  5.   7.5 10. ]\n",
      "np.logspace(0,2,5) = [  1.           3.16227766  10.          31.6227766  100.        ]\n"
     ]
    }
   ],
   "source": [
    "print('np.arange(5)        = %s' %np.arange(5))         # Array of 5 sequential integers.\n",
    "print('np.zeros(5)         = %s' %np.zeros(5))          # Array of 5 zeros.\n",
    "print('np.ones(5)          = %s' %np.ones(5))           # Array of 5 ones.\n",
    "print('np.linspace(0,10,5) = %s' %np.linspace(0,10,5))  # Length-5 evenly-spaced array from 0 to 10.\n",
    "print('np.logspace(0,2,5) = %s' %np.logspace(0,2,5))    # Length-5 logarithmically-spaced array."
   ]
  },
  {
   "cell_type": "markdown",
   "metadata": {},
   "source": [
    "## NumPy Matrices\n",
    "### Why matrices improve on lists\n",
    "It is possible to represent matrices in pythonic lists, though it is inefficient. Similar to the benefits of arrays, NumPy matrices dramatically improve upon the numerical capabilities of core python. Python can technically represent matrices as a list of lists."
   ]
  },
  {
   "cell_type": "code",
   "execution_count": 10,
   "metadata": {},
   "outputs": [
    {
     "name": "stdout",
     "output_type": "stream",
     "text": [
      "[[1, 2, 3], [4, 5, 6], [7, 8, 9]]\n",
      "6\n"
     ]
    }
   ],
   "source": [
    "nested_lists = [[1,2,3],\n",
    "                [4,5,6],\n",
    "                [7,8,9]]\n",
    "\n",
    "print(nested_lists)\n",
    "print(nested_lists[1][2])   # To extract the 2nd row, 3rd column, two brackets are necessary."
   ]
  },
  {
   "cell_type": "markdown",
   "metadata": {},
   "source": [
    "NumPy matrices make this much easier!"
   ]
  },
  {
   "cell_type": "code",
   "execution_count": 11,
   "metadata": {},
   "outputs": [
    {
     "name": "stdout",
     "output_type": "stream",
     "text": [
      "[[1 2 3]\n",
      " [4 5 6]\n",
      " [7 8 9]]\n",
      "6\n"
     ]
    }
   ],
   "source": [
    "mat = np.array(nested_lists)\n",
    "\n",
    "print(mat)\n",
    "print(mat[1,2])"
   ]
  },
  {
   "cell_type": "markdown",
   "metadata": {},
   "source": [
    "Indexing of NumPy matrices (and arrays for that matter) obey all of the slicing conventions of lists. Commas are used to demarcate which axis a slice operation is targeting."
   ]
  },
  {
   "cell_type": "code",
   "execution_count": 12,
   "metadata": {},
   "outputs": [
    {
     "name": "stdout",
     "output_type": "stream",
     "text": [
      "mat[1,2]  = 6\n",
      "mat[0,:]  = [1 2 3]\n",
      "mat[:,-1] = [3 6 9]\n"
     ]
    }
   ],
   "source": [
    "print('mat[1,2]  = %s' %mat[1,2])    # Second row, third column.\n",
    "print('mat[0,:]  = %s' %mat[0,:])    # All the first row.\n",
    "print('mat[:,-1] = %s' %mat[:,-1])   # All of the final column."
   ]
  },
  {
   "cell_type": "markdown",
   "metadata": {},
   "source": [
    "NumPy matrices have all the same attributes of NumPy arrays, but now functions can be applied to specific rows or columns in addition to the entire matrix."
   ]
  },
  {
   "cell_type": "code",
   "execution_count": 13,
   "metadata": {},
   "outputs": [
    {
     "name": "stdout",
     "output_type": "stream",
     "text": [
      "45\n"
     ]
    }
   ],
   "source": [
    "## Sum across matrix.\n",
    "print( mat.sum() )          "
   ]
  },
  {
   "cell_type": "code",
   "execution_count": 14,
   "metadata": {},
   "outputs": [
    {
     "name": "stdout",
     "output_type": "stream",
     "text": [
      "[12 15 18]\n"
     ]
    }
   ],
   "source": [
    "## Sum across columns.\n",
    "print( mat.sum(axis=0) )"
   ]
  },
  {
   "cell_type": "code",
   "execution_count": 15,
   "metadata": {},
   "outputs": [
    {
     "name": "stdout",
     "output_type": "stream",
     "text": [
      "[ 6 15 24]\n"
     ]
    }
   ],
   "source": [
    "## Sum across rows.\n",
    "print( mat.sum(axis=1) )"
   ]
  },
  {
   "cell_type": "markdown",
   "metadata": {},
   "source": [
    "Importantly, all NumPy arrays and matrices have a **reshape** attribute allowing for transforming matrices into different dimensions."
   ]
  },
  {
   "cell_type": "code",
   "execution_count": 16,
   "metadata": {},
   "outputs": [
    {
     "name": "stdout",
     "output_type": "stream",
     "text": [
      "Original shape (3, 3)\n",
      "Column vector (9, 1)\n",
      "Row vector (1, 9)\n"
     ]
    }
   ],
   "source": [
    "print('Original shape', mat.shape)\n",
    "\n",
    "# Reshape to column vector\n",
    "mat = mat.reshape(9,1)\n",
    "print('Column vector', mat.shape)\n",
    "\n",
    "# Reshape to column vector\n",
    "mat = mat.reshape(1,9)\n",
    "print('Row vector', mat.shape)"
   ]
  },
  {
   "cell_type": "markdown",
   "metadata": {},
   "source": [
    "Importantly, reshape can be used to change the shape of NumPy arrays. The order flag can also change how they are organized (row-ordered vs. column-ordered)."
   ]
  },
  {
   "cell_type": "code",
   "execution_count": 17,
   "metadata": {},
   "outputs": [
    {
     "name": "stdout",
     "output_type": "stream",
     "text": [
      "Original: [[1 2 3 4 5 6 7 8 9]]\n"
     ]
    }
   ],
   "source": [
    "print('Original:', mat)"
   ]
  },
  {
   "cell_type": "code",
   "execution_count": 18,
   "metadata": {},
   "outputs": [
    {
     "name": "stdout",
     "output_type": "stream",
     "text": [
      "[[1 2 3]\n",
      " [4 5 6]\n",
      " [7 8 9]]\n"
     ]
    }
   ],
   "source": [
    "## Reshape (column organized)\n",
    "print(mat.reshape(3,3,order='C'))"
   ]
  },
  {
   "cell_type": "code",
   "execution_count": 19,
   "metadata": {},
   "outputs": [
    {
     "name": "stdout",
     "output_type": "stream",
     "text": [
      "[[1 4 7]\n",
      " [2 5 8]\n",
      " [3 6 9]]\n"
     ]
    }
   ],
   "source": [
    "## Reshape (row organized)\n",
    "print(mat.reshape(3,3,order='F')) "
   ]
  },
  {
   "cell_type": "markdown",
   "metadata": {},
   "source": [
    "The dimensions of matrices can also be quickly changed with **flatten** and **squeeze**. "
   ]
  },
  {
   "cell_type": "code",
   "execution_count": 20,
   "metadata": {},
   "outputs": [
    {
     "name": "stdout",
     "output_type": "stream",
     "text": [
      "Original: (3, 3, 1)\n",
      "Flatten: (9,)\n",
      "Squeeze: (3, 3)\n"
     ]
    }
   ],
   "source": [
    "## Reshape to new dimensions.\n",
    "mat = mat.reshape(3,3,1)\n",
    "print('Original:', mat.shape)\n",
    "\n",
    "## Flatten matrix.\n",
    "print('Flatten:', mat.flatten().shape )\n",
    "\n",
    "## Squeeze matrix.\n",
    "print('Squeeze:', mat.squeeze().shape )"
   ]
  },
  {
   "cell_type": "markdown",
   "metadata": {},
   "source": [
    "### Generating NumPy Matrices\n",
    "Just as with arrays, there are a number of ways of generating NumPy matrices. The simplest is to use the **array** command on a list of lists. "
   ]
  },
  {
   "cell_type": "code",
   "execution_count": 21,
   "metadata": {},
   "outputs": [
    {
     "name": "stdout",
     "output_type": "stream",
     "text": [
      "[[0, 1, 1], [2, 3, 5], [8, 13, 21]]\n",
      "[[ 0  1  1]\n",
      " [ 2  3  5]\n",
      " [ 8 13 21]]\n"
     ]
    }
   ],
   "source": [
    "nested_lists = [[0, 1, 1],[2, 3, 5], [8, 13, 21]]\n",
    "mat = np.array(nested_lists)\n",
    "\n",
    "print(nested_lists)\n",
    "print(mat)"
   ]
  },
  {
   "cell_type": "markdown",
   "metadata": {},
   "source": [
    "The same commands previously introduced to generate NumPy arrays can also be used to generate matrices. Simply specify extra dimensions."
   ]
  },
  {
   "cell_type": "code",
   "execution_count": 22,
   "metadata": {},
   "outputs": [
    {
     "data": {
      "text/plain": [
       "array([[1., 0., 0.],\n",
       "       [0., 1., 0.],\n",
       "       [0., 0., 1.]])"
      ]
     },
     "execution_count": 22,
     "metadata": {},
     "output_type": "execute_result"
    }
   ],
   "source": [
    "np.zeros( [3,3] )               # 3x3 matrix of zeros.\n",
    "np.ones( [3,3] )                # 3x3 matrix of ones.\n",
    "np.arange(9).reshape(3,3)       # 3x3 matrix of sequential integers.\n",
    "np.linspace(0,8,9).reshape(3,3) # 3x3 matrix evenly-spaced array from 0 to 8. \n",
    "np.identity(3)                  # 3x3 identity matrix."
   ]
  },
  {
   "cell_type": "markdown",
   "metadata": {},
   "source": [
    "Matrices can also be formed by joining NumPy arrays. There are several methods for doing this, including: `row_stack`/`r_`, `column_stack`/`c_`, `hstack`, `vstack`, and `concatenate`. We demonstrate each below. "
   ]
  },
  {
   "cell_type": "code",
   "execution_count": 23,
   "metadata": {},
   "outputs": [
    {
     "name": "stdout",
     "output_type": "stream",
     "text": [
      "[0 1 2 3 4]\n",
      "[[0 1 2 3 4]\n",
      " [0 1 2 3 4]]\n",
      "[[0 0]\n",
      " [1 1]\n",
      " [2 2]\n",
      " [3 3]\n",
      " [4 4]]\n"
     ]
    }
   ],
   "source": [
    "arr = np.arange(5)\n",
    "print(arr)\n",
    "\n",
    "## Join rows.\n",
    "rows = np.row_stack([arr,arr])\n",
    "print(rows)\n",
    "\n",
    "## Join columns.\n",
    "cols = np.column_stack([arr,arr])\n",
    "print(cols)"
   ]
  },
  {
   "cell_type": "code",
   "execution_count": 24,
   "metadata": {},
   "outputs": [
    {
     "name": "stdout",
     "output_type": "stream",
     "text": [
      "[0 1 2 3 4 0 1 2 3 4]\n",
      "[[0 0]\n",
      " [1 1]\n",
      " [2 2]\n",
      " [3 3]\n",
      " [4 4]]\n"
     ]
    }
   ],
   "source": [
    "## np.hstack = join arrays along their columns.\n",
    "print(np.hstack([arr,arr]))\n",
    "print(np.hstack([arr.reshape(5,1), arr.reshape(5,1)]))"
   ]
  },
  {
   "cell_type": "code",
   "execution_count": 25,
   "metadata": {},
   "outputs": [
    {
     "name": "stdout",
     "output_type": "stream",
     "text": [
      "[[0]\n",
      " [1]\n",
      " [2]\n",
      " [3]\n",
      " [4]\n",
      " [0]\n",
      " [1]\n",
      " [2]\n",
      " [3]\n",
      " [4]]\n"
     ]
    }
   ],
   "source": [
    "## np.vstack = join arrays along their rows.\n",
    "np.vstack([arr,arr])\n",
    "print(np.vstack([arr.reshape(5,1), arr.reshape(5,1)]))"
   ]
  },
  {
   "cell_type": "code",
   "execution_count": 26,
   "metadata": {},
   "outputs": [
    {
     "name": "stdout",
     "output_type": "stream",
     "text": [
      "[0 1 2 3 4 0 1 2 3 4]\n",
      "[[0 0]\n",
      " [1 1]\n",
      " [2 2]\n",
      " [3 3]\n",
      " [4 4]]\n"
     ]
    }
   ],
   "source": [
    "## np.concatenate = join arrays along specified axis.\n",
    "## Default is first axis.\n",
    "print(np.concatenate([arr, arr], axis=0))\n",
    "print(np.concatenate([arr.reshape(5,1), arr.reshape(5,1)], axis=1))"
   ]
  },
  {
   "cell_type": "markdown",
   "metadata": {},
   "source": [
    "In a pinch, one can also use `np.array` to concatenate arrays along the first axis."
   ]
  },
  {
   "cell_type": "code",
   "execution_count": 27,
   "metadata": {},
   "outputs": [
    {
     "name": "stdout",
     "output_type": "stream",
     "text": [
      "[[0 1 2 3 4]\n",
      " [0 1 2 3 4]]\n"
     ]
    }
   ],
   "source": [
    "print(np.array([arr,arr]))"
   ]
  },
  {
   "cell_type": "markdown",
   "metadata": {},
   "source": [
    "### Generating Random Data\n",
    "NumPy also includes many functions for generating random data. "
   ]
  },
  {
   "cell_type": "code",
   "execution_count": 28,
   "metadata": {
    "collapsed": true
   },
   "outputs": [],
   "source": [
    "## Set the RNG seed!\n",
    "np.random.seed(47404)"
   ]
  },
  {
   "cell_type": "code",
   "execution_count": 29,
   "metadata": {},
   "outputs": [
    {
     "name": "stdout",
     "output_type": "stream",
     "text": [
      "[9 0 2 0 2 4 3 4 6 5]\n"
     ]
    }
   ],
   "source": [
    "## Generate ten random integers between 0-9.\n",
    "print( np.random.randint(0,10,10) )"
   ]
  },
  {
   "cell_type": "code",
   "execution_count": 30,
   "metadata": {},
   "outputs": [
    {
     "name": "stdout",
     "output_type": "stream",
     "text": [
      "[-1.46523567  0.72885891 -0.73496833 -0.38356834 -0.29662156]\n"
     ]
    }
   ],
   "source": [
    "## Generate five random samples of a normal distribution with mu=0,sd=1.\n",
    "print( np.random.normal(0,1,5) )"
   ]
  },
  {
   "cell_type": "code",
   "execution_count": 31,
   "metadata": {},
   "outputs": [
    {
     "name": "stdout",
     "output_type": "stream",
     "text": [
      "[1 1 0 0 1 0 0 1 1 0]\n"
     ]
    }
   ],
   "source": [
    "## Generate 10 random coin flips.\n",
    "print( np.random.binomial(1,0.5,10))"
   ]
  },
  {
   "cell_type": "code",
   "execution_count": 32,
   "metadata": {},
   "outputs": [
    {
     "name": "stdout",
     "output_type": "stream",
     "text": [
      "[8 2 9 7 6]\n"
     ]
    }
   ],
   "source": [
    "## Choose five numbers from 0-9 without replacement.\n",
    "print( np.random.choice(np.arange(10), 5, replace=False) )"
   ]
  },
  {
   "cell_type": "markdown",
   "metadata": {},
   "source": [
    "## Indexing, Masking, and Assignments"
   ]
  },
  {
   "cell_type": "markdown",
   "metadata": {},
   "source": [
    "NumPy supports a great many ways of indexing."
   ]
  },
  {
   "cell_type": "code",
   "execution_count": 33,
   "metadata": {},
   "outputs": [
    {
     "data": {
      "text/plain": [
       "array([5, 5, 5])"
      ]
     },
     "execution_count": 33,
     "metadata": {},
     "output_type": "execute_result"
    }
   ],
   "source": [
    "## Construct an arbitrary matrix.\n",
    "mat = np.random.randint(0,10,(10,10))\n",
    "\n",
    "## Access particular rows.\n",
    "mat[:1]\n",
    "\n",
    "## Access particular columns.\n",
    "mat[:,:5]\n",
    "\n",
    "## Access particular rows/columns.\n",
    "mat[:5,5:]\n",
    "\n",
    "## Access using lists of indexes.\n",
    "mat[[1,3,5],[5,1,2]]"
   ]
  },
  {
   "cell_type": "markdown",
   "metadata": {},
   "source": [
    "Far more useful is indexing with boolean arrays."
   ]
  },
  {
   "cell_type": "code",
   "execution_count": 34,
   "metadata": {},
   "outputs": [
    {
     "data": {
      "text/plain": [
       "array([[4, 6, 6, 5, 9],\n",
       "       [1, 9, 1, 5, 8],\n",
       "       [1, 7, 9, 4, 5],\n",
       "       [0, 5, 8, 9, 9],\n",
       "       [7, 9, 4, 9, 8],\n",
       "       [8, 2, 5, 2, 6],\n",
       "       [6, 0, 7, 2, 0],\n",
       "       [1, 3, 2, 8, 2],\n",
       "       [8, 2, 0, 9, 8],\n",
       "       [8, 4, 5, 2, 9]])"
      ]
     },
     "execution_count": 34,
     "metadata": {},
     "output_type": "execute_result"
    }
   ],
   "source": [
    "## Return all elements of matrix that meet criterion.\n",
    "mat[mat > 5]\n",
    "\n",
    "## Return all rows that begin with particular integer.\n",
    "mat[mat[:,0] == 1]\n",
    "\n",
    "## Return all columns whose sum is greater than 40.\n",
    "mat[:,mat.sum(axis=0) > 40]"
   ]
  },
  {
   "cell_type": "markdown",
   "metadata": {},
   "source": [
    "For larger matrices, we can use the ellipsis as a shorthand."
   ]
  },
  {
   "cell_type": "code",
   "execution_count": 35,
   "metadata": {},
   "outputs": [
    {
     "data": {
      "text/plain": [
       "array([[4, 8, 3, 2, 4],\n",
       "       [8, 8, 3, 0, 3],\n",
       "       [7, 8, 4, 2, 1],\n",
       "       [3, 3, 0, 3, 5],\n",
       "       [8, 3, 4, 2, 0]])"
      ]
     },
     "execution_count": 35,
     "metadata": {},
     "output_type": "execute_result"
    }
   ],
   "source": [
    "mat = np.random.randint(0,9,(5,5,5,5))\n",
    "mat[0,...,-1]"
   ]
  },
  {
   "cell_type": "markdown",
   "metadata": {},
   "source": [
    "Like pythonic lists, we can update NumPy arrays in place."
   ]
  },
  {
   "cell_type": "code",
   "execution_count": 36,
   "metadata": {},
   "outputs": [],
   "source": [
    "## Construct an arbitrary matrix.\n",
    "mat = np.random.randint(0,10,(10,10))\n",
    "\n",
    "## Update first element.\n",
    "mat[0,0] = 99\n",
    "\n",
    "## Update full row.\n",
    "mat[3,:] = -99\n",
    "\n",
    "## Update multiple columns.\n",
    "mat[:,-2:] = 0"
   ]
  },
  {
   "cell_type": "markdown",
   "metadata": {},
   "source": [
    "This also allows for convenient masking."
   ]
  },
  {
   "cell_type": "code",
   "execution_count": 37,
   "metadata": {},
   "outputs": [
    {
     "data": {
      "text/plain": [
       "array([[0, 0, 0, 0, 0, 0, 0, 0, 0, 0],\n",
       "       [0, 0, 0, 0, 0, 0, 0, 0, 0, 0],\n",
       "       [0, 0, 0, 0, 0, 0, 0, 0, 0, 0],\n",
       "       [0, 0, 0, 0, 0, 0, 0, 0, 0, 0],\n",
       "       [0, 0, 0, 0, 0, 0, 0, 0, 0, 0],\n",
       "       [0, 0, 0, 0, 0, 0, 0, 0, 0, 0],\n",
       "       [0, 0, 0, 0, 0, 0, 0, 0, 0, 0],\n",
       "       [0, 0, 0, 0, 0, 0, 0, 0, 0, 0],\n",
       "       [0, 0, 0, 0, 0, 0, 0, 0, 0, 0],\n",
       "       [0, 0, 0, 0, 0, 0, 0, 0, 0, 0]])"
      ]
     },
     "execution_count": 37,
     "metadata": {},
     "output_type": "execute_result"
    }
   ],
   "source": [
    "mat[mat !=0 ] = 0\n",
    "mat"
   ]
  },
  {
   "cell_type": "markdown",
   "metadata": {},
   "source": [
    "For a complete list of convenient routines, see the [NumPy indexing documentation](https://docs.scipy.org/doc/numpy/user/basics.indexing.html#)."
   ]
  },
  {
   "cell_type": "markdown",
   "metadata": {},
   "source": [
    "## Core NumPy Functions\n",
    "NumPy also introduces a [number of useful functions](https://docs.scipy.org/doc/numpy/reference/) designed to operate efficiently over NumPy arrays. The following is a non-exhaustive overview of some important NumPy functions."
   ]
  },
  {
   "cell_type": "markdown",
   "metadata": {},
   "source": [
    "### Mathematical functions"
   ]
  },
  {
   "cell_type": "markdown",
   "metadata": {},
   "source": [
    "NumPy includes a variety of mathematical functions. All of these can be applied across an entire matrix or across arrays."
   ]
  },
  {
   "cell_type": "code",
   "execution_count": 38,
   "metadata": {
    "collapsed": true
   },
   "outputs": [],
   "source": [
    "np.sum;       # Sum of an array or matrix.\n",
    "np.cumsum;    # Cumulative sum over an array.\n",
    "np.prod;      # Element-wise multiplication of an array.\n",
    "np.divide;    # Element-wise division of two arrays.\n",
    "np.diff;      # Pairwise difference of elements of an array.\n",
    "np.exp;       # Exponential transform.\n",
    "np.log;       # Natural logarithm.\n",
    "np.log10;     # Base-10 logarithm."
   ]
  },
  {
   "cell_type": "markdown",
   "metadata": {},
   "source": [
    "### Rounding Functions"
   ]
  },
  {
   "cell_type": "code",
   "execution_count": 39,
   "metadata": {},
   "outputs": [
    {
     "name": "stdout",
     "output_type": "stream",
     "text": [
      "Original: [0.   0.25 0.5  0.75 1.  ]\n",
      "np.round: [0.  0.2 0.5 0.8 1. ]\n",
      "np.floor: [0. 0. 0. 0. 1.]\n",
      "np.ceil:  [0. 1. 1. 1. 1.]\n"
     ]
    }
   ],
   "source": [
    "mat = np.linspace(0,1,5)\n",
    "print('Original: %s' %mat)\n",
    "print('np.round: %s' %np.round(mat, 1) )\n",
    "print('np.floor: %s' %np.floor(mat) ) \n",
    "print('np.ceil:  %s' %np.ceil(mat) )"
   ]
  },
  {
   "cell_type": "markdown",
   "metadata": {},
   "source": [
    "### Summary Functions\n",
    "\n",
    "NumPy includes many functions to summarize an array. With the exception of `np.corrcoef`, all of these can be\n",
    "applied across an entire matrix or across arrays."
   ]
  },
  {
   "cell_type": "code",
   "execution_count": 40,
   "metadata": {
    "collapsed": true
   },
   "outputs": [],
   "source": [
    "np.min;           # Return the smallest element.\n",
    "np.max;           # Return the largest element.\n",
    "np.argmin;        # Return the index of the smallest element.\n",
    "np.argmax;        # Return the index of the largest element.\n",
    "np.mean;          # Compute the mean of an array.\n",
    "np.median;        # Compute the median of an array.\n",
    "np.std;           # Compute the standard deviation of an array.\n",
    "np.var;           # Compute the variance (sd^2) of an array.\n",
    "np.percentile;    # Compute the xth percentile of an array.\n",
    "np.corrcoef;      # Compute the row-/col-wise correlation of a matrix."
   ]
  },
  {
   "cell_type": "code",
   "execution_count": 41,
   "metadata": {},
   "outputs": [
    {
     "name": "stdout",
     "output_type": "stream",
     "text": [
      "Original:\n",
      "[[0 1 2 3 4]\n",
      " [4 3 2 1 0]]\n"
     ]
    }
   ],
   "source": [
    "## To give a few examples.\n",
    "mat = np.vstack([ np.arange(5), np.arange(5)[::-1] ])\n",
    "print('Original:\\n%s' %mat)"
   ]
  },
  {
   "cell_type": "code",
   "execution_count": 42,
   "metadata": {},
   "outputs": [
    {
     "name": "stdout",
     "output_type": "stream",
     "text": [
      "70% (all):  3.0\n",
      "70% (rows): [2.8 2.8]\n",
      "70% (cols): [2.8 2.4 2.  2.4 2.8]\n"
     ]
    }
   ],
   "source": [
    "## Compute percentile.\n",
    "print( '70%% (all):  %s' %np.percentile(mat, 70) )\n",
    "\n",
    "## Compute mean across rows.\n",
    "print('70%% (rows): %s' %np.percentile(mat, 70, axis=1) )\n",
    "\n",
    "## Compute mean across cols.\n",
    "print('70%% (cols): %s' %np.percentile(mat, 70, axis=0) )"
   ]
  },
  {
   "cell_type": "code",
   "execution_count": 43,
   "metadata": {},
   "outputs": [
    {
     "name": "stdout",
     "output_type": "stream",
     "text": [
      "Correlation:\n",
      " [[ 1. -1.]\n",
      " [-1.  1.]]\n"
     ]
    }
   ],
   "source": [
    "## Compute correlation.\n",
    "print('Correlation:\\n', np.corrcoef(mat))"
   ]
  },
  {
   "cell_type": "markdown",
   "metadata": {},
   "source": [
    "### Set Functions\n",
    "NumPy includes functions for identifying unique elements within or between arrays."
   ]
  },
  {
   "cell_type": "code",
   "execution_count": 44,
   "metadata": {
    "collapsed": true
   },
   "outputs": [],
   "source": [
    "## Define two arrays for example.\n",
    "arr1 = np.array([41, 16, 34, 0, 2, 20, 19, 14, 22, 15, 18, 9, 35, 41])\n",
    "arr2 = np.array([42, 22, 40, 7, 33, 0, 12, 19, 44, 10, 31, 11, 11, 49])"
   ]
  },
  {
   "cell_type": "code",
   "execution_count": 45,
   "metadata": {},
   "outputs": [
    {
     "data": {
      "text/plain": [
       "array([ 0,  2,  9, 14, 15, 16, 18, 19, 20, 22, 34, 35, 41, 41])"
      ]
     },
     "execution_count": 45,
     "metadata": {},
     "output_type": "execute_result"
    }
   ],
   "source": [
    "## Sort elements (ascending order).\n",
    "np.sort(arr1)"
   ]
  },
  {
   "cell_type": "code",
   "execution_count": 46,
   "metadata": {},
   "outputs": [
    {
     "data": {
      "text/plain": [
       "array([ 0,  2,  9, 14, 15, 16, 18, 19, 20, 22, 34, 35, 41])"
      ]
     },
     "execution_count": 46,
     "metadata": {},
     "output_type": "execute_result"
    }
   ],
   "source": [
    "## Return unique elements.\n",
    "np.unique(arr1)"
   ]
  },
  {
   "cell_type": "code",
   "execution_count": 47,
   "metadata": {},
   "outputs": [
    {
     "data": {
      "text/plain": [
       "(array([ 0,  2,  9, 14, 15, 16, 18, 19, 20, 22, 34, 35, 41]),\n",
       " array([1, 1, 1, 1, 1, 1, 1, 1, 1, 1, 1, 1, 2]))"
      ]
     },
     "execution_count": 47,
     "metadata": {},
     "output_type": "execute_result"
    }
   ],
   "source": [
    "## Return unique elements, count number of appearances.\n",
    "np.unique(arr1, return_counts=True)"
   ]
  },
  {
   "cell_type": "code",
   "execution_count": 48,
   "metadata": {},
   "outputs": [
    {
     "data": {
      "text/plain": [
       "array([False, False, False,  True, False, False,  True, False,  True,\n",
       "       False, False, False, False, False])"
      ]
     },
     "execution_count": 48,
     "metadata": {},
     "output_type": "execute_result"
    }
   ],
   "source": [
    "## Find the elements of array-1 in array-2.\n",
    "np.in1d(arr1, arr2)"
   ]
  },
  {
   "cell_type": "code",
   "execution_count": 49,
   "metadata": {},
   "outputs": [
    {
     "data": {
      "text/plain": [
       "array([ 0,  2,  7,  9, 10, 11, 12, 14, 15, 16, 18, 19, 20, 22, 31, 33, 34,\n",
       "       35, 40, 41, 42, 44, 49])"
      ]
     },
     "execution_count": 49,
     "metadata": {},
     "output_type": "execute_result"
    }
   ],
   "source": [
    "## Return all unique elements of arrays 1 & 2.\n",
    "np.union1d(arr1, arr2)"
   ]
  },
  {
   "cell_type": "code",
   "execution_count": 50,
   "metadata": {},
   "outputs": [
    {
     "data": {
      "text/plain": [
       "array([ 0, 19, 22])"
      ]
     },
     "execution_count": 50,
     "metadata": {},
     "output_type": "execute_result"
    }
   ],
   "source": [
    "## Return all elements belonging to both arrays 1 & 2.\n",
    "np.intersect1d(arr1, arr2)"
   ]
  },
  {
   "cell_type": "markdown",
   "metadata": {},
   "source": [
    "### Replacing List Comprehensions"
   ]
  },
  {
   "cell_type": "markdown",
   "metadata": {},
   "source": [
    "NumPy includes a number of very helpful functions that act to replace list comprehensions (np.where) and for loops (np.apply_across_axis, np.apply_over_axes). These are often more efficient than writing out a full For loop. We will emphasize these functions with a simple example of standard-scoring (z-scoring) a matrix."
   ]
  },
  {
   "cell_type": "code",
   "execution_count": 51,
   "metadata": {},
   "outputs": [
    {
     "name": "stdout",
     "output_type": "stream",
     "text": [
      "[[ 0  1  2  3  4  5]\n",
      " [ 6  7  8  9 10 11]]\n"
     ]
    }
   ],
   "source": [
    "## Define the standard score (z-score) function.\n",
    "def zscore(arr): \n",
    "    return (arr - arr.mean()) / arr.std()\n",
    "\n",
    "## Define a simple matrix.\n",
    "mat = np.arange(12).reshape(2,6)\n",
    "print(mat)"
   ]
  },
  {
   "cell_type": "markdown",
   "metadata": {},
   "source": [
    "Use `np.apply_across_axis` to apply our function across each row."
   ]
  },
  {
   "cell_type": "code",
   "execution_count": 52,
   "metadata": {},
   "outputs": [
    {
     "name": "stdout",
     "output_type": "stream",
     "text": [
      "[[-1.46 -0.88 -0.29  0.29  0.88  1.46]\n",
      " [-1.46 -0.88 -0.29  0.29  0.88  1.46]]\n"
     ]
    }
   ],
   "source": [
    "zmat = np.apply_along_axis(zscore, axis=1, arr=mat)\n",
    "print(zmat.round(2))"
   ]
  },
  {
   "cell_type": "markdown",
   "metadata": {},
   "source": [
    "Use the `np.where` command to set all negative numbers to 0, else 1. "
   ]
  },
  {
   "cell_type": "code",
   "execution_count": 53,
   "metadata": {},
   "outputs": [
    {
     "name": "stdout",
     "output_type": "stream",
     "text": [
      "[[0 0 0 1 1 1]\n",
      " [0 0 0 1 1 1]]\n"
     ]
    }
   ],
   "source": [
    "amat = np.where(zmat < 0, 0, 1)\n",
    "print(amat)"
   ]
  },
  {
   "cell_type": "markdown",
   "metadata": {},
   "source": [
    "If no transforms are specified, `np.where` returns the indices of the array where the conditional is met."
   ]
  },
  {
   "cell_type": "code",
   "execution_count": 54,
   "metadata": {},
   "outputs": [
    {
     "name": "stdout",
     "output_type": "stream",
     "text": [
      "(array([0, 0, 0, 1, 1, 1]), array([0, 1, 2, 0, 1, 2]))\n"
     ]
    }
   ],
   "source": [
    "print( np.where(zmat < 0 ) )"
   ]
  },
  {
   "cell_type": "markdown",
   "metadata": {},
   "source": [
    "This also means `np.where` is especially useful for indexing and masking!"
   ]
  },
  {
   "cell_type": "code",
   "execution_count": 55,
   "metadata": {},
   "outputs": [
    {
     "data": {
      "text/plain": [
       "array([ 3,  4,  5,  9, 10, 11])"
      ]
     },
     "execution_count": 55,
     "metadata": {},
     "output_type": "execute_result"
    }
   ],
   "source": [
    "mat[zmat > 0]"
   ]
  },
  {
   "cell_type": "markdown",
   "metadata": {},
   "source": [
    "### Matrix Math"
   ]
  },
  {
   "cell_type": "markdown",
   "metadata": {},
   "source": [
    "NumPy supports matrix operations. The simplest operator is transposition."
   ]
  },
  {
   "cell_type": "code",
   "execution_count": 56,
   "metadata": {},
   "outputs": [
    {
     "name": "stdout",
     "output_type": "stream",
     "text": [
      "[[ 1.44079248 -0.0362348  -0.88641392  1.37089285 -0.33915043]\n",
      " [-1.39945177 -1.50017374  0.83809224 -0.14407853 -0.16147255]\n",
      " [ 1.28696005 -1.12191896 -0.31293446  0.82460362 -0.66724436]\n",
      " [-0.94033096 -0.17241146 -1.37716311 -1.38508138  2.44803326]\n",
      " [ 0.71373219  0.92525131 -0.07017569 -2.78569811  1.53814096]]\n",
      "[[ 1.44079248 -1.39945177  1.28696005 -0.94033096  0.71373219]\n",
      " [-0.0362348  -1.50017374 -1.12191896 -0.17241146  0.92525131]\n",
      " [-0.88641392  0.83809224 -0.31293446 -1.37716311 -0.07017569]\n",
      " [ 1.37089285 -0.14407853  0.82460362 -1.38508138 -2.78569811]\n",
      " [-0.33915043 -0.16147255 -0.66724436  2.44803326  1.53814096]]\n"
     ]
    }
   ],
   "source": [
    "## Generate random matrix.\n",
    "X = np.random.normal(0,1,(5,5))\n",
    "\n",
    "print(X)      # Print original matrix.\n",
    "print(X.T)    # Print transposed matrix."
   ]
  },
  {
   "cell_type": "markdown",
   "metadata": {},
   "source": [
    "The shorthand for matrix multiplication uses the **@** operator."
   ]
  },
  {
   "cell_type": "code",
   "execution_count": 57,
   "metadata": {},
   "outputs": [
    {
     "data": {
      "text/plain": [
       "array([[-0.54534303,  0.44647925, -2.89426011,  0.29542518,  2.94299036],\n",
       "       [ 1.18192577,  1.23639662, -0.06930728, -0.36188743, -0.44342736],\n",
       "       [ 1.7699456 ,  1.2279879 , -3.07191226,  2.3844801 ,  0.94583103],\n",
       "       [ 0.16378088,  4.34163515,  2.85567811, -7.30089709,  1.64035261],\n",
       "       [ 3.36048097,  0.56828499,  3.89316476,  0.3608966 , -4.79824495]])"
      ]
     },
     "execution_count": 57,
     "metadata": {},
     "output_type": "execute_result"
    }
   ],
   "source": [
    "X @ X"
   ]
  },
  {
   "cell_type": "markdown",
   "metadata": {},
   "source": [
    "The **@** operator can be substituted with ``np.dot``. "
   ]
  },
  {
   "cell_type": "code",
   "execution_count": 58,
   "metadata": {},
   "outputs": [
    {
     "data": {
      "text/plain": [
       "True"
      ]
     },
     "execution_count": 58,
     "metadata": {},
     "output_type": "execute_result"
    }
   ],
   "source": [
    "## Matrix multiplcation (v1).\n",
    "v1 = np.dot(X,X)\n",
    "\n",
    "## Matrix multiplcation (v2).\n",
    "v2 = X.dot(X)\n",
    "\n",
    "## Assert all equal.\n",
    "np.all(v1 == v2)"
   ]
  },
  {
   "cell_type": "markdown",
   "metadata": {},
   "source": [
    "Similarly, NumPy supports inner and outer products."
   ]
  },
  {
   "cell_type": "code",
   "execution_count": 59,
   "metadata": {},
   "outputs": [
    {
     "name": "stdout",
     "output_type": "stream",
     "text": [
      "12.644930503387657\n",
      "[[ 0.45275409 -0.2960396  -1.43918901  0.13217017  1.82857439]\n",
      " [-0.2960396   0.19356964  0.94103389 -0.08642132 -1.19563897]\n",
      " [-1.43918901  0.94103389  4.57481238 -0.42013504 -5.81256854]\n",
      " [ 0.13217017 -0.08642132 -0.42013504  0.03858376  0.53380631]\n",
      " [ 1.82857439 -1.19563897 -5.81256854  0.53380631  7.38521064]]\n"
     ]
    }
   ],
   "source": [
    "x = np.random.normal(0,1,size=5)\n",
    "\n",
    "## Inner product.\n",
    "inner = np.inner(x,x)\n",
    "print(inner)\n",
    "\n",
    "## Outer product.\n",
    "outer = np.outer(x,x)\n",
    "print(outer)"
   ]
  },
  {
   "cell_type": "markdown",
   "metadata": {},
   "source": [
    "### Linear Algebra Functions"
   ]
  },
  {
   "cell_type": "markdown",
   "metadata": {},
   "source": [
    "NumPy includes an entire submodule dedicated to efficient linear algebra functions (though it should be noted that SciPy has reimplemented them for maximal efficiency). See np.linalg for a full list of commands."
   ]
  },
  {
   "cell_type": "code",
   "execution_count": 60,
   "metadata": {},
   "outputs": [
    {
     "name": "stdout",
     "output_type": "stream",
     "text": [
      "[[ 0  1  2  3]\n",
      " [ 4  5  6  7]\n",
      " [ 8  9 10 11]\n",
      " [12 13 14 15]]\n"
     ]
    }
   ],
   "source": [
    "## Define a simple matrix.\n",
    "mat = np.arange(16).reshape(4,4)\n",
    "print(mat)"
   ]
  },
  {
   "cell_type": "code",
   "execution_count": 61,
   "metadata": {},
   "outputs": [
    {
     "name": "stdout",
     "output_type": "stream",
     "text": [
      "[ 0  5 10 15]\n"
     ]
    }
   ],
   "source": [
    "## Return diagonal of matrix\n",
    "print(np.diag(mat))"
   ]
  },
  {
   "cell_type": "code",
   "execution_count": 62,
   "metadata": {},
   "outputs": [
    {
     "name": "stdout",
     "output_type": "stream",
     "text": [
      "[[ 0  1  2  3]\n",
      " [ 0  5  6  7]\n",
      " [ 0  0 10 11]\n",
      " [ 0  0  0 15]]\n"
     ]
    }
   ],
   "source": [
    "## Return upper triangular matrix\n",
    "print(np.triu(mat))    "
   ]
  },
  {
   "cell_type": "code",
   "execution_count": 63,
   "metadata": {},
   "outputs": [
    {
     "name": "stdout",
     "output_type": "stream",
     "text": [
      "[[ 56  62  68  74]\n",
      " [152 174 196 218]\n",
      " [248 286 324 362]\n",
      " [344 398 452 506]]\n"
     ]
    }
   ],
   "source": [
    "## Matrix multiply itself. Can also np.dot.\n",
    "print(np.dot(mat, mat))    "
   ]
  },
  {
   "cell_type": "code",
   "execution_count": 64,
   "metadata": {},
   "outputs": [
    {
     "name": "stdout",
     "output_type": "stream",
     "text": [
      "[[ 56  62  68  74]\n",
      " [152 174 196 218]\n",
      " [248 286 324 362]\n",
      " [344 398 452 506]]\n"
     ]
    }
   ],
   "source": [
    "## Can also use:\n",
    "print(mat.dot(mat))"
   ]
  },
  {
   "cell_type": "code",
   "execution_count": 65,
   "metadata": {
    "collapsed": true
   },
   "outputs": [],
   "source": [
    "## Linear algebra operations include:\n",
    "np.linalg.norm;        # Vector or matrix norm\n",
    "np.linalg.inv;         # Inverse of a square matrix\n",
    "np.linalg.det;         # Determinant of a square matrix\n",
    "np.linalg.eig;         # Eigenvalues and vectors of a square matrix\n",
    "np.linalg.cholesky;    # Cholesky decomposition of a matrix\n",
    "np.linalg.svd;         # Singular value decomposition of a matrix\n",
    "np.linalg.lstsq;       # Solve linear least-squares problem"
   ]
  },
  {
   "cell_type": "markdown",
   "metadata": {},
   "source": [
    "### Brief Note on NaNs"
   ]
  },
  {
   "cell_type": "markdown",
   "metadata": {},
   "source": [
    "NumPy has a unique NaN class. `np.nan` dominates all other numeric types."
   ]
  },
  {
   "cell_type": "code",
   "execution_count": 66,
   "metadata": {},
   "outputs": [
    {
     "name": "stdout",
     "output_type": "stream",
     "text": [
      "nan\n",
      "[nan nan nan nan nan]\n"
     ]
    }
   ],
   "source": [
    "print(7. * np.nan)              # NaN dominates numeric types.\n",
    "print(np.arange(5) * np.nan)    # NaN dominates numeric arrays."
   ]
  },
  {
   "cell_type": "markdown",
   "metadata": {},
   "source": [
    "NaNs may appear wherever there is missing data, or when an operation returns an invalid number."
   ]
  },
  {
   "cell_type": "code",
   "execution_count": 67,
   "metadata": {},
   "outputs": [
    {
     "name": "stdout",
     "output_type": "stream",
     "text": [
      "[[ 0.  1.  2.  3.  4.]\n",
      " [ 5.  6.  7.  8. nan]\n",
      " [10. 11. 12. 13. 14.]]\n"
     ]
    }
   ],
   "source": [
    "## Example array.\n",
    "arr = np.arange(15,dtype=float).reshape(3,5)\n",
    "arr[1,-1] = np.nan\n",
    "print(arr)"
   ]
  },
  {
   "cell_type": "markdown",
   "metadata": {},
   "source": [
    "NaNs can be challenging because they corrupt most standard routines."
   ]
  },
  {
   "cell_type": "code",
   "execution_count": 68,
   "metadata": {},
   "outputs": [
    {
     "name": "stdout",
     "output_type": "stream",
     "text": [
      "[ 4. nan 14.]\n",
      "[ 2. nan 12.]\n",
      "[1.41421356        nan 1.41421356]\n"
     ]
    }
   ],
   "source": [
    "print(arr.max(axis=1))     # NaNs corrupt max.\n",
    "print(arr.mean(axis=1))    # NaNs corrupt mean.\n",
    "print(arr.std(axis=1))     # NaNs corrupt standard deviation."
   ]
  },
  {
   "cell_type": "markdown",
   "metadata": {},
   "source": [
    "NumPy offers a suite of NaN robust functions. These are slower, but can be useful in analysis."
   ]
  },
  {
   "cell_type": "code",
   "execution_count": 69,
   "metadata": {},
   "outputs": [
    {
     "name": "stdout",
     "output_type": "stream",
     "text": [
      "[ 4.  8. 14.]\n",
      "[ 2.   6.5 12. ]\n",
      "[1.41421356 1.11803399 1.41421356]\n"
     ]
    }
   ],
   "source": [
    "print(np.nanmax(arr, axis=1))     # NaN robust max.\n",
    "print(np.nanmean(arr, axis=1))    # NaN robust mean.\n",
    "print(np.nanstd(arr, axis=1))     # NaN robust standard deviation."
   ]
  },
  {
   "cell_type": "markdown",
   "metadata": {},
   "source": [
    "# Introduction to Data Visualization\n",
    "## Matplotlib\n",
    "Matplotlib, or the Matlab plotting library, is the core plotting package of the scientific python distribution. The origial goal of Matplotlib was to recreate all of the plotting capabilities of Matlab in python. \n",
    "\n",
    "We will go through the syntax of plotting the five most common types of plots: bar plots, line plots, scatter plots, boxplots, and heatmaps. We will also cover adding details to plots (e.g. axes, titles, legends, errorbars), making multiple plots in one figure, and scaling/sizing plots."
   ]
  },
  {
   "cell_type": "code",
   "execution_count": 70,
   "metadata": {
    "collapsed": true
   },
   "outputs": [],
   "source": [
    "import matplotlib.pyplot as plt\n",
    "%matplotlib inline \n",
    "\n",
    "## NOTE: The second line is a bit of notebook magic! \n",
    "## It's a jupyter-notebook shortcut that makes all\n",
    "## plots be displayed at the bottom of a cell."
   ]
  },
  {
   "cell_type": "markdown",
   "metadata": {},
   "source": [
    "### Figures & Axes\n",
    "A brief note: In Matplotlib jargon, an axis is a plot (e.g. barplot, scatterplot) and a figure is the canvas containing all plots. The most basic figure contains a single axis (i.e. one plot). More complex figures may have multiple plots of different sizes and numbers per row. \n",
    "\n",
    "This distinction is important because certain graphical tweaks can only be applied to figures or axes. For example, figures control the size of the canvas, the spacing of plots, and saving figures. Axes control plot-specific features, including labels, titles, and legends. To start, we will only generate figures with one plot. Later, we will introduce drawing multiple plots per figure."
   ]
  },
  {
   "cell_type": "markdown",
   "metadata": {},
   "source": [
    "### Initializing Figures\n",
    "\n",
    "There are many ways of initializing figures in Matplotlib. We will cover the three main functions. Note these involve slightly different syntaxes and allow for slightly different control.\n",
    "\n",
    "#### Subplot\n",
    "\n",
    "The first function, `plt.subplot`, requires the user to define an *a priori* canvas layout and then initialize each axis separately."
   ]
  },
  {
   "cell_type": "code",
   "execution_count": 71,
   "metadata": {},
   "outputs": [
    {
     "data": {
      "image/png": "[encoded data removed]",
      "text/plain": [
       "<Figure size 576x288 with 4 Axes>"
      ]
     },
     "metadata": {
      "needs_background": "light"
     },
     "output_type": "display_data"
    }
   ],
   "source": [
    "## Subplot example: Figure needs to be called.\n",
    "fig = plt.figure(figsize=(8,4))\n",
    "\n",
    "## Make 2x2 figure.\n",
    "ax = plt.subplot(2,2,1)\n",
    "ax.text(0.5,0.5,'ax1', fontsize=18, ha='center', va='center')\n",
    "\n",
    "ax = plt.subplot(2,2,2)\n",
    "ax.text(0.5,0.5,'ax2', fontsize=18, ha='center', va='center')\n",
    "\n",
    "ax = plt.subplot(2,2,3)\n",
    "ax.text(0.5,0.5,'ax3', fontsize=18, ha='center', va='center')\n",
    "\n",
    "ax = plt.subplot(2,2,4)\n",
    "ax.text(0.5,0.5,'ax4', fontsize=18, ha='center', va='center')\n",
    "\n",
    "plt.tight_layout()"
   ]
  },
  {
   "cell_type": "markdown",
   "metadata": {},
   "source": [
    "#### Subplots\n",
    "\n",
    "The second function, `plt.subplots`, requires the user to define an *a priori* canvas layout but initializes all (equal sized) axes at once. "
   ]
  },
  {
   "cell_type": "code",
   "execution_count": 72,
   "metadata": {},
   "outputs": [
    {
     "data": {
      "image/png": "[encoded data removed]",
      "text/plain": [
       "<Figure size 576x288 with 4 Axes>"
      ]
     },
     "metadata": {
      "needs_background": "light"
     },
     "output_type": "display_data"
    }
   ],
   "source": [
    "## Subplot example: Figure needs to be called.\n",
    "fig, axes = plt.subplots(2,2,figsize=(8,4))\n",
    "\n",
    "for i, ax in enumerate(axes.flatten()):\n",
    "    ax.text(0.5,0.5,f'ax{i+1}',fontsize=18, ha='center', va='center')\n",
    "\n",
    "plt.tight_layout()"
   ]
  },
  {
   "cell_type": "markdown",
   "metadata": {},
   "source": [
    "#### Subplot2grid\n",
    "With the third function, `plt.subplot2grid()`, the user defines geometry of the canvas and the location of the subplot in the grid. Importantly, this function allows for non-equal axis sizes. Here we present an example geometry for a 3x3 grid."
   ]
  },
  {
   "cell_type": "code",
   "execution_count": 73,
   "metadata": {},
   "outputs": [
    {
     "data": {
      "image/png": "[encoded data removed]",
      "text/plain": [
       "<Figure size 360x360 with 5 Axes>"
      ]
     },
     "metadata": {
      "needs_background": "light"
     },
     "output_type": "display_data"
    }
   ],
   "source": [
    "## subplot2grid example: Figure must be called.\n",
    "fig = plt.figure(figsize=(5,5))\n",
    "\n",
    "ax = plt.subplot2grid((3, 3), (0, 0), colspan=3)\n",
    "ax.text(0.5,0.5,'ax1', fontsize=18, ha='center', va='center')\n",
    "\n",
    "ax = plt.subplot2grid((3, 3), (1, 0), colspan=2)\n",
    "ax.text(0.5,0.5,'ax2', fontsize=18, ha='center', va='center')\n",
    "\n",
    "ax = plt.subplot2grid((3, 3), (1, 2), rowspan=2)\n",
    "ax.text(0.5,0.5,'ax3', fontsize=18, ha='center', va='center')\n",
    "\n",
    "ax = plt.subplot2grid((3, 3), (2, 0))\n",
    "ax.text(0.5,0.5,'ax4', fontsize=18, ha='center', va='center')\n",
    "\n",
    "ax = plt.subplot2grid((3, 3), (2, 1))\n",
    "ax.text(0.5,0.5,'ax5', fontsize=18, ha='center', va='center')\n",
    "\n",
    "plt.tight_layout()"
   ]
  },
  {
   "cell_type": "markdown",
   "metadata": {},
   "source": [
    "### Barplots\n",
    "Barplots are probably the least intuitive plot in Matplotlib because the user must specify the starting point and width of the bars (this is in contrast to other languages that automatically assign x-coordinates to the bars). Though clunky, this does provide some additional control to the user. \n",
    "\n",
    "In this example, we will plot the average response within subjects."
   ]
  },
  {
   "cell_type": "code",
   "execution_count": 74,
   "metadata": {},
   "outputs": [
    {
     "data": {
      "image/png": "[encoded data removed]",
      "text/plain": [
       "<Figure size 864x288 with 1 Axes>"
      ]
     },
     "metadata": {
      "needs_background": "light"
     },
     "output_type": "display_data"
    }
   ],
   "source": [
    "## Initialize canvas.\n",
    "fig, ax = plt.subplots(1,1,figsize=(12,4))\n",
    "\n",
    "## Simulate data.\n",
    "y = np.arange(10) + np.random.normal(0,0.5,10)\n",
    "x = np.arange(10) + np.arange(10) // 2 * 0.5\n",
    "\n",
    "## Plot bars.\n",
    "ax.bar(x[::2], y[::2], width=1.0, color='#4878d0', label='Cond_01')\n",
    "ax.bar(x[1::2], y[1::2], width=1.0, color='#d65f5f', label='Cond_02')\n",
    "\n",
    "## Add details.\n",
    "ax.set(xticks=x, xlim=(-0.75, 11.75), xlabel='Example X', ylabel='Example Y', title='Example Barplot')\n",
    "ax.legend(loc=2, frameon=False)\n",
    "\n",
    "plt.tight_layout();"
   ]
  },
  {
   "cell_type": "markdown",
   "metadata": {},
   "source": [
    "### Lineplots\n",
    "Lineplots are more intuitive than are barplots, requiring at the minimum only the x- and y-datapoints. Many tweaks and embellishments can similarly be added. "
   ]
  },
  {
   "cell_type": "code",
   "execution_count": 75,
   "metadata": {},
   "outputs": [
    {
     "data": {
      "image/png": "[encoded data removed]",
      "text/plain": [
       "<Figure size 864x288 with 1 Axes>"
      ]
     },
     "metadata": {
      "needs_background": "light"
     },
     "output_type": "display_data"
    }
   ],
   "source": [
    "## Initialize canvas.\n",
    "fig, ax = plt.subplots(1,1,figsize=(12,4))\n",
    "\n",
    "## Simulate data.\n",
    "x = np.linspace(0,100,100)\n",
    "\n",
    "## Plot lines.\n",
    "for alpha in [1, 1.1, 0.9]:\n",
    "    ax.plot(x, x**alpha, lw=2.5, label=r'$y = x^{%s}$' %alpha)\n",
    "\n",
    "## Add details.\n",
    "ax.set(xlim=(x.min(), x.max()), xlabel='X', ylim=(0), ylabel='Y', title='Example Lineplot')\n",
    "ax.legend(loc=2, frameon=False, fontsize=14)\n",
    "\n",
    "plt.tight_layout()"
   ]
  },
  {
   "cell_type": "markdown",
   "metadata": {},
   "source": [
    "### Scatterplots\n",
    "The synxtax of scatterplots is similar to that of lineplots. Whereas lineplots have different [linestyles](https://matplotlib.org/examples/lines_bars_and_markers/line_styles_reference.html), scatterplots have different [marker styles](https://matplotlib.org/api/markers_api.html). "
   ]
  },
  {
   "cell_type": "code",
   "execution_count": 76,
   "metadata": {},
   "outputs": [
    {
     "data": {
      "image/png": "[encoded data removed]",
      "text/plain": [
       "<Figure size 576x288 with 1 Axes>"
      ]
     },
     "metadata": {
      "needs_background": "light"
     },
     "output_type": "display_data"
    }
   ],
   "source": [
    "## Initialize canvas.\n",
    "fig, ax = plt.subplots(1,1,figsize=(8,4))\n",
    "\n",
    "## Simulate data.\n",
    "mu = [0,0]\n",
    "cov = [[1.0,0.4],[0.4,1.0]]\n",
    "x, y = np.random.multivariate_normal(mu, cov, 1000).T\n",
    "\n",
    "## Plot scatterplot.\n",
    "ax.scatter(x, y, s=10, alpha=0.7)\n",
    "\n",
    "## Add details.\n",
    "ax.set(xlabel='X', ylabel='Y', title='Example Scatterplot')\n",
    "\n",
    "plt.tight_layout()"
   ]
  },
  {
   "cell_type": "markdown",
   "metadata": {},
   "source": [
    "### Histrograms\n",
    "Histograms are very easy fortunately."
   ]
  },
  {
   "cell_type": "code",
   "execution_count": 77,
   "metadata": {},
   "outputs": [
    {
     "data": {
      "image/png": "[encoded data removed]",
      "text/plain": [
       "<Figure size 576x288 with 1 Axes>"
      ]
     },
     "metadata": {
      "needs_background": "light"
     },
     "output_type": "display_data"
    }
   ],
   "source": [
    "## Initialize canvas.\n",
    "fig, ax = plt.subplots(1,1,figsize=(8,4))\n",
    "\n",
    "## Plot scatterplot.\n",
    "ax.hist(x, bins=np.linspace(-5,5,21), lw=0.5, edgecolor='w')\n",
    "\n",
    "## Add details.\n",
    "ax.set(xlabel='X', ylabel='Frequency', title='Example Histogram')\n",
    "\n",
    "plt.tight_layout()"
   ]
  },
  {
   "cell_type": "markdown",
   "metadata": {},
   "source": [
    "### Heatmaps\n",
    "Heatmaps are very useful plots, but slightly counterintuitive in Matplotlib."
   ]
  },
  {
   "cell_type": "code",
   "execution_count": 78,
   "metadata": {},
   "outputs": [
    {
     "data": {
      "image/png": "[encoded data removed]",
      "text/plain": [
       "<Figure size 576x432 with 2 Axes>"
      ]
     },
     "metadata": {
      "needs_background": "light"
     },
     "output_type": "display_data"
    }
   ],
   "source": [
    "## Initialize canvas.\n",
    "fig, ax = plt.subplots(1,1,figsize=(8,6))\n",
    "\n",
    "## Compute 2d histogram.\n",
    "counts, xbins, ybins = np.histogram2d(x,y,bins=21)\n",
    "\n",
    "## Plot heatmap.\n",
    "cbar = ax.imshow(counts, aspect='auto', origin='lower', vmin=0)\n",
    "\n",
    "## Add details.\n",
    "xticklabels = (xbins[:-1] + np.diff(xbins)).round(2)\n",
    "yticklabels = (ybins[:-1] + np.diff(ybins)).round(2)\n",
    "ax.set(xticks=np.arange(xticklabels.size))\n",
    "ax.set_xticklabels(xticklabels, rotation=-45)\n",
    "ax.set_yticklabels(yticklabels, rotation=90)\n",
    "\n",
    "cbar = plt.colorbar(cbar, ax=ax);\n",
    "cbar.ax.tick_params(labelsize=10) \n",
    "cbar.set_label('Value', fontsize=20)"
   ]
  },
  {
   "cell_type": "markdown",
   "metadata": {},
   "source": [
    "### Gridspec plots"
   ]
  },
  {
   "cell_type": "markdown",
   "metadata": {},
   "source": [
    "Gridspec objects are similar to subplot2grid in that they allow different sized plots within a figure. Gridspec objects also allow spacing configuration of axes within the figure. To give an example, we embed two sets of six plots with a large gap between them."
   ]
  },
  {
   "cell_type": "code",
   "execution_count": 79,
   "metadata": {},
   "outputs": [
    {
     "data": {
      "image/png": "[encoded data removed]",
      "text/plain": [
       "<Figure size 720x360 with 10 Axes>"
      ]
     },
     "metadata": {
      "needs_background": "light"
     },
     "output_type": "display_data"
    }
   ],
   "source": [
    "import matplotlib.gridspec as gridspec\n",
    "\n",
    "## Initialize figure.\n",
    "fig = plt.figure(figsize=(10,5))\n",
    "\n",
    "## Define first 3x3 grid. \n",
    "gs = gridspec.GridSpec(3, 3)\n",
    "\n",
    "## Update spacing parameters such that the figures can only\n",
    "## extend to the 0.45 fraction of the figure.\n",
    "gs.update(left=0.05, right=0.45, wspace=0.05)\n",
    "\n",
    "## Create plots by indexing into grid.\n",
    "ax1 = plt.subplot(gs[0, :])\n",
    "ax2 = plt.subplot(gs[1, :-1])\n",
    "ax3 = plt.subplot(gs[1:, -1])\n",
    "ax4 = plt.subplot(gs[-1, 0])\n",
    "ax5 = plt.subplot(gs[-1, -2])\n",
    "\n",
    "## Define second 3x3 grid. \n",
    "gs = gridspec.GridSpec(3, 3)\n",
    "\n",
    "## Update spacing parameters such that the figures can only\n",
    "## start at 0.55 fraction of the figure.\n",
    "gs.update(left=0.55, right=0.95, wspace=0.05)\n",
    "\n",
    "## Create plots by indexing into grid.\n",
    "ax1 = plt.subplot(gs[0, :])\n",
    "ax2 = plt.subplot(gs[1, :-1])\n",
    "ax3 = plt.subplot(gs[1:, -1])\n",
    "ax4 = plt.subplot(gs[-1, 0])\n",
    "ax5 = plt.subplot(gs[-1, -2])"
   ]
  }
 ],
 "metadata": {
  "kernelspec": {
   "display_name": "Python 3",
   "language": "python",
   "name": "python3"
  },
  "language_info": {
   "codemirror_mode": {
    "name": "ipython",
    "version": 3
   },
   "file_extension": ".py",
   "mimetype": "text/x-python",
   "name": "python",
   "nbconvert_exporter": "python",
   "pygments_lexer": "ipython3",
   "version": "3.7.1"
  }
 },
 "nbformat": 4,
 "nbformat_minor": 2
}
