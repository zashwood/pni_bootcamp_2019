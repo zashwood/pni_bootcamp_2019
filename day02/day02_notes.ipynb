{
 "cells": [
  {
   "cell_type": "markdown",
   "metadata": {},
   "source": [
    "# Section 1: Introduction to NumPy"
   ]
  },
  {
   "cell_type": "markdown",
   "metadata": {},
   "source": [
    "## Importing Modules\n",
    "If vanilla python seems rather lackluster, that's because it is. Fortunately, the scientific stack adds a broad and powerful array of python packages fill in the gaps. Once installed, packages in python are easily loaded for use."
   ]
  },
  {
   "cell_type": "code",
   "execution_count": 1,
   "metadata": {},
   "outputs": [
    {
     "name": "stdout",
     "output_type": "stream",
     "text": [
      "1.16.3\n"
     ]
    }
   ],
   "source": [
    "import numpy\n",
    "print(numpy.__version__)"
   ]
  },
  {
   "cell_type": "markdown",
   "metadata": {},
   "source": [
    "Commands from packages are like attributes of objects. For convenience, we will import packages using shorthand."
   ]
  },
  {
   "cell_type": "code",
   "execution_count": 2,
   "metadata": {},
   "outputs": [
    {
     "name": "stdout",
     "output_type": "stream",
     "text": [
      "1.16.3\n"
     ]
    }
   ],
   "source": [
    "import numpy as np\n",
    "print(np.__version__)"
   ]
  },
  {
   "cell_type": "markdown",
   "metadata": {},
   "source": [
    "## NumPy Arrays\n",
    "### Why arrays improve on lists\n",
    "Arrays are the most basic type of the NumPy package. NumPy arrays are vectors (Nx1), similar to pythonic lists. In contrast to lists, however, arrays have many more attributes and can be modified in substantially more ways. Several examples are provided below demonstrating the improvement of arrays over lists."
   ]
  },
  {
   "cell_type": "code",
   "execution_count": 3,
   "metadata": {},
   "outputs": [
    {
     "name": "stdout",
     "output_type": "stream",
     "text": [
      "[0, 1, 2, 3, 4]\n",
      "[0, 1, 2, 3, 4, 0, 1, 2, 3, 4, 0, 1, 2, 3, 4]\n"
     ]
    },
    {
     "ename": "TypeError",
     "evalue": "can't multiply sequence by non-int of type 'list'",
     "output_type": "error",
     "traceback": [
      "\u001b[0;31m---------------------------------------------------------------------------\u001b[0m",
      "\u001b[0;31mTypeError\u001b[0m                                 Traceback (most recent call last)",
      "\u001b[0;32m<ipython-input-3-1e626f5b30c1>\u001b[0m in \u001b[0;36m<module>\u001b[0;34m\u001b[0m\n\u001b[1;32m      4\u001b[0m \u001b[0mprint\u001b[0m\u001b[0;34m(\u001b[0m\u001b[0mexample_list\u001b[0m\u001b[0;34m)\u001b[0m\u001b[0;34m\u001b[0m\u001b[0;34m\u001b[0m\u001b[0m\n\u001b[1;32m      5\u001b[0m \u001b[0mprint\u001b[0m\u001b[0;34m(\u001b[0m\u001b[0mexample_list\u001b[0m \u001b[0;34m*\u001b[0m \u001b[0;36m3\u001b[0m\u001b[0;34m)\u001b[0m            \u001b[0;31m# scalar * list\u001b[0m\u001b[0;34m\u001b[0m\u001b[0;34m\u001b[0m\u001b[0m\n\u001b[0;32m----> 6\u001b[0;31m \u001b[0mprint\u001b[0m\u001b[0;34m(\u001b[0m\u001b[0mexample_list\u001b[0m \u001b[0;34m*\u001b[0m \u001b[0mexample_list\u001b[0m\u001b[0;34m)\u001b[0m \u001b[0;31m# list * list\u001b[0m\u001b[0;34m\u001b[0m\u001b[0;34m\u001b[0m\u001b[0m\n\u001b[0m",
      "\u001b[0;31mTypeError\u001b[0m: can't multiply sequence by non-int of type 'list'"
     ]
    }
   ],
   "source": [
    "## Define example list.\n",
    "example_list = list(range(5))\n",
    "\n",
    "print(example_list)\n",
    "print(example_list * 3)            # scalar * list\n",
    "print(example_list * example_list) # list * list"
   ]
  },
  {
   "cell_type": "markdown",
   "metadata": {},
   "source": [
    "In contrast, NumPy arrays can be modified in this way. We use the **arange** command to initialize an array of sequential integers."
   ]
  },
  {
   "cell_type": "code",
   "execution_count": 4,
   "metadata": {},
   "outputs": [
    {
     "name": "stdout",
     "output_type": "stream",
     "text": [
      "[0 1 2 3 4] <class 'numpy.ndarray'>\n",
      "[ 0  3  6  9 12]\n",
      "[ 0  1  4  9 16]\n"
     ]
    }
   ],
   "source": [
    "arr = np.arange(5)\n",
    "\n",
    "print(arr, type(arr))\n",
    "print(arr * 3)\n",
    "print(arr * arr)"
   ]
  },
  {
   "cell_type": "markdown",
   "metadata": {},
   "source": [
    "Every array has an object type. These can be looked up and modified."
   ]
  },
  {
   "cell_type": "code",
   "execution_count": 5,
   "metadata": {},
   "outputs": [
    {
     "name": "stdout",
     "output_type": "stream",
     "text": [
      "[0 1 2 3 4] int64\n",
      "[0. 1. 2. 3. 4.] float64\n"
     ]
    }
   ],
   "source": [
    "print(arr, arr.dtype)   # Print current datatype.\n",
    "arr = arr.astype(float) # Conver to float.\n",
    "print(arr, arr.dtype)   # Print new datatype."
   ]
  },
  {
   "cell_type": "markdown",
   "metadata": {},
   "source": [
    "Numpy arrays store metadata about their contents. These can be helpful, especially the **shape** atribute."
   ]
  },
  {
   "cell_type": "code",
   "execution_count": 6,
   "metadata": {},
   "outputs": [
    {
     "name": "stdout",
     "output_type": "stream",
     "text": [
      "Array shape: (5,)\n",
      "Array size: 40\n"
     ]
    }
   ],
   "source": [
    "print('Array shape:', arr.shape) # Print shape of array.\n",
    "print('Array size:', arr.nbytes) # Print bytes of array."
   ]
  },
  {
   "cell_type": "markdown",
   "metadata": {},
   "source": [
    "Arrays now have a number of other built-in attributes \n",
    "not available for lists."
   ]
  },
  {
   "cell_type": "code",
   "execution_count": 7,
   "metadata": {},
   "outputs": [
    {
     "name": "stdout",
     "output_type": "stream",
     "text": [
      "Round: [0. 1. 2. 3. 4.]\n",
      "Min: 0.0\n",
      "Max: 4.0\n",
      "Sum: 10.0\n",
      "Mean: 2.0\n"
     ]
    }
   ],
   "source": [
    "print('Round:', arr.round()) # Round array.\n",
    "print('Min:', arr.min())     # Get max of array.\n",
    "print('Max:', arr.max())     # Get min of array.\n",
    "print('Sum:', arr.sum())     # Get sum of array.\n",
    "print('Mean:',arr.mean())    # Get mean of array."
   ]
  },
  {
   "cell_type": "markdown",
   "metadata": {},
   "source": [
    "### Generating NumPy Arrays\n",
    "There are many ways of generating NumPy arrays. The most simple way is to convert a Python list to NumPy array using the **array** command."
   ]
  },
  {
   "cell_type": "code",
   "execution_count": 8,
   "metadata": {},
   "outputs": [
    {
     "name": "stdout",
     "output_type": "stream",
     "text": [
      "[4, 7, 9.4] <class 'list'>\n",
      "[4.  7.  9.4] <class 'numpy.ndarray'>\n"
     ]
    }
   ],
   "source": [
    "## Making an array from a list using the array command.\n",
    "example_list = [4, 7, 9.4]\n",
    "arr = np.array(example_list)\n",
    "\n",
    "print(example_list, type(example_list))\n",
    "print(arr, type(arr)) "
   ]
  },
  {
   "cell_type": "markdown",
   "metadata": {},
   "source": [
    "NumPy has recreated all of the standard R/Matlab commands for \n",
    "generating arrays."
   ]
  },
  {
   "cell_type": "code",
   "execution_count": 9,
   "metadata": {},
   "outputs": [
    {
     "name": "stdout",
     "output_type": "stream",
     "text": [
      "np.arange(5)        = [0 1 2 3 4]\n",
      "np.zeros(5)         = [0. 0. 0. 0. 0.]\n",
      "np.ones(5)          = [1. 1. 1. 1. 1.]\n",
      "np.linspace(0,10,5) = [ 0.   2.5  5.   7.5 10. ]\n",
      "np.logspace(0,2,5) = [  1.           3.16227766  10.          31.6227766  100.        ]\n"
     ]
    }
   ],
   "source": [
    "print('np.arange(5)        = %s' %np.arange(5))         # Array of 5 sequential integers.\n",
    "print('np.zeros(5)         = %s' %np.zeros(5))          # Array of 5 zeros.\n",
    "print('np.ones(5)          = %s' %np.ones(5))           # Array of 5 ones.\n",
    "print('np.linspace(0,10,5) = %s' %np.linspace(0,10,5))  # Length-5 evenly-spaced array from 0 to 10.\n",
    "print('np.logspace(0,2,5) = %s' %np.logspace(0,2,5))    # Length-5 logarithmically-spaced array."
   ]
  },
  {
   "cell_type": "markdown",
   "metadata": {},
   "source": [
    "## NumPy Matrices\n",
    "### Why matrices improve on lists\n",
    "It is possible to represent matrices in pythonic lists, though it is inefficient. Similar to the benefits of arrays, NumPy matrices dramatically improve upon the numerical capabilities of core python. Python can technically represent matrices as a list of lists."
   ]
  },
  {
   "cell_type": "code",
   "execution_count": 10,
   "metadata": {},
   "outputs": [
    {
     "name": "stdout",
     "output_type": "stream",
     "text": [
      "[[1, 2, 3], [4, 5, 6], [7, 8, 9]]\n",
      "6\n"
     ]
    }
   ],
   "source": [
    "nested_lists = [[1,2,3],\n",
    "                [4,5,6],\n",
    "                [7,8,9]]\n",
    "\n",
    "print(nested_lists)\n",
    "print(nested_lists[1][2])   # To extract the 2nd row, 3rd column, two brackets are necessary."
   ]
  },
  {
   "cell_type": "markdown",
   "metadata": {},
   "source": [
    "NumPy matrices make this much easier!"
   ]
  },
  {
   "cell_type": "code",
   "execution_count": 11,
   "metadata": {},
   "outputs": [
    {
     "name": "stdout",
     "output_type": "stream",
     "text": [
      "[[1 2 3]\n",
      " [4 5 6]\n",
      " [7 8 9]]\n",
      "<class 'numpy.ndarray'>\n"
     ]
    }
   ],
   "source": [
    "mat = np.array(nested_lists)\n",
    "\n",
    "print(mat)\n",
    "print(mat[1,2])"
   ]
  },
  {
   "cell_type": "markdown",
   "metadata": {},
   "source": [
    "Indexing of NumPy matrices (and arrays for that matter) obey all of the slicing conventions of lists. Commas are used to demarcate which axis a slice operation is targeting."
   ]
  },
  {
   "cell_type": "code",
   "execution_count": 13,
   "metadata": {},
   "outputs": [
    {
     "name": "stdout",
     "output_type": "stream",
     "text": [
      "mat[1,2]  = 6\n",
      "mat[0,:]  = [1 2 3]\n",
      "mat[:,-1] = [3 6 9]\n"
     ]
    }
   ],
   "source": [
    "print('mat[1,2]  = %s' %mat[1,2])    # Second row, third column.\n",
    "print('mat[0,:]  = %s' %mat[0,:])    # All the first row.\n",
    "print('mat[:,-1] = %s' %mat[:,-1])   # All of the final column."
   ]
  },
  {
   "cell_type": "markdown",
   "metadata": {},
   "source": [
    "NumPy matrices have all the same attributes of NumPy arrays, but now functions can be applied to specific rows or columns in addition to the entire matrix."
   ]
  },
  {
   "cell_type": "code",
   "execution_count": 14,
   "metadata": {},
   "outputs": [
    {
     "name": "stdout",
     "output_type": "stream",
     "text": [
      "45\n"
     ]
    }
   ],
   "source": [
    "## Sum across matrix.\n",
    "print( mat.sum() )          "
   ]
  },
  {
   "cell_type": "code",
   "execution_count": 15,
   "metadata": {},
   "outputs": [
    {
     "name": "stdout",
     "output_type": "stream",
     "text": [
      "[12 15 18]\n"
     ]
    }
   ],
   "source": [
    "## Sum across columns.\n",
    "print( mat.sum(axis=0) )"
   ]
  },
  {
   "cell_type": "code",
   "execution_count": 16,
   "metadata": {},
   "outputs": [
    {
     "name": "stdout",
     "output_type": "stream",
     "text": [
      "[ 6 15 24]\n"
     ]
    }
   ],
   "source": [
    "## Sum across rows.\n",
    "print( mat.sum(axis=1) )"
   ]
  },
  {
   "cell_type": "markdown",
   "metadata": {},
   "source": [
    "Importantly, all NumPy arrays and matrices have a **reshape** attribute allowing for transforming matrices into different dimensions."
   ]
  },
  {
   "cell_type": "code",
   "execution_count": 17,
   "metadata": {},
   "outputs": [
    {
     "name": "stdout",
     "output_type": "stream",
     "text": [
      "Original shape (3, 3)\n",
      "Column vector (9, 1)\n",
      "Row vector (1, 9)\n"
     ]
    }
   ],
   "source": [
    "print('Original shape', mat.shape)\n",
    "\n",
    "# Reshape to column vector\n",
    "mat = mat.reshape(9,1)\n",
    "print('Column vector', mat.shape)\n",
    "\n",
    "# Reshape to column vector\n",
    "mat = mat.reshape(1,9)\n",
    "print('Row vector', mat.shape)"
   ]
  },
  {
   "cell_type": "markdown",
   "metadata": {},
   "source": [
    "Importantly, reshape can be used to change the shape of NumPy arrays. The order flag can also change how they are organized (row-ordered vs. column-ordered)."
   ]
  },
  {
   "cell_type": "code",
   "execution_count": 18,
   "metadata": {},
   "outputs": [
    {
     "name": "stdout",
     "output_type": "stream",
     "text": [
      "Original: [[1 2 3 4 5 6 7 8 9]]\n"
     ]
    }
   ],
   "source": [
    "print('Original:', mat)"
   ]
  },
  {
   "cell_type": "code",
   "execution_count": 19,
   "metadata": {},
   "outputs": [
    {
     "name": "stdout",
     "output_type": "stream",
     "text": [
      "[[1 2 3]\n",
      " [4 5 6]\n",
      " [7 8 9]]\n"
     ]
    }
   ],
   "source": [
    "## Reshape (column organized)\n",
    "print(mat.reshape(3,3,order='C'))"
   ]
  },
  {
   "cell_type": "code",
   "execution_count": 20,
   "metadata": {},
   "outputs": [
    {
     "name": "stdout",
     "output_type": "stream",
     "text": [
      "[[1 4 7]\n",
      " [2 5 8]\n",
      " [3 6 9]]\n"
     ]
    }
   ],
   "source": [
    "## Reshape (row organized)\n",
    "print(mat.reshape(3,3,order='F')) "
   ]
  },
  {
   "cell_type": "markdown",
   "metadata": {},
   "source": [
    "The dimensions of matrices can also be quickly changed with **flatten** and **squeeze**. "
   ]
  },
  {
   "cell_type": "code",
   "execution_count": 21,
   "metadata": {},
   "outputs": [
    {
     "name": "stdout",
     "output_type": "stream",
     "text": [
      "Original: (3, 3, 1)\n",
      "Flatten: (9,)\n",
      "Squeeze: (3, 3)\n"
     ]
    }
   ],
   "source": [
    "## Reshape to new dimensions.\n",
    "mat = mat.reshape(3,3,1)\n",
    "print('Original:', mat.shape)\n",
    "\n",
    "## Flatten matrix.\n",
    "print('Flatten:', mat.flatten().shape )\n",
    "\n",
    "## Squeeze matrix.\n",
    "print('Squeeze:', mat.squeeze().shape )"
   ]
  },
  {
   "cell_type": "markdown",
   "metadata": {},
   "source": [
    "### Generating NumPy Matrices\n",
    "Just as with arrays, there are a number of ways of generating NumPy matrices. The simplest is to use the **array** command on a list of lists. "
   ]
  },
  {
   "cell_type": "code",
   "execution_count": 22,
   "metadata": {},
   "outputs": [
    {
     "name": "stdout",
     "output_type": "stream",
     "text": [
      "[[0, 1, 1], [2, 3, 5], [8, 13, 21]]\n",
      "[[ 0  1  1]\n",
      " [ 2  3  5]\n",
      " [ 8 13 21]]\n"
     ]
    }
   ],
   "source": [
    "nested_lists = [[0, 1, 1],[2, 3, 5], [8, 13, 21]]\n",
    "mat = np.array(nested_lists)\n",
    "\n",
    "print(nested_lists)\n",
    "print(mat)"
   ]
  },
  {
   "cell_type": "markdown",
   "metadata": {},
   "source": [
    "The same commands previously introduced to generate NumPy arrays can also be used to generate matrices. Simply specify extra dimensions."
   ]
  },
  {
   "cell_type": "code",
   "execution_count": 23,
   "metadata": {},
   "outputs": [
    {
     "data": {
      "text/plain": [
       "array([[1., 0., 0.],\n",
       "       [0., 1., 0.],\n",
       "       [0., 0., 1.]])"
      ]
     },
     "execution_count": 23,
     "metadata": {},
     "output_type": "execute_result"
    }
   ],
   "source": [
    "np.zeros( [3,3] )               # 3x3 matrix of zeros.\n",
    "np.ones( [3,3] )                # 3x3 matrix of ones.\n",
    "np.arange(9).reshape(3,3)       # 3x3 matrix of sequential integers.\n",
    "np.linspace(0,8,9).reshape(3,3) # 3x3 matrix evenly-spaced array from 0 to 8. \n",
    "np.identity(3)                  # 3x3 identity matrix."
   ]
  },
  {
   "cell_type": "markdown",
   "metadata": {},
   "source": [
    "Matrices can also be formed by joining NumPy arrays. There are several methods for doing this, including: `row_stack`/`r_`, `column_stack`/`c_`, `hstack`, `vstack`, and `concatenate`. We demonstrate each below. "
   ]
  },
  {
   "cell_type": "code",
   "execution_count": 30,
   "metadata": {},
   "outputs": [
    {
     "name": "stdout",
     "output_type": "stream",
     "text": [
      "[0 1 2 3 4]\n",
      "[[0 1 2 3 4]\n",
      " [0 1 2 3 4]]\n",
      "[[0 0]\n",
      " [1 1]\n",
      " [2 2]\n",
      " [3 3]\n",
      " [4 4]]\n"
     ]
    }
   ],
   "source": [
    "arr = np.arange(5)\n",
    "print(arr)\n",
    "\n",
    "## Join rows.\n",
    "rows = np.row_stack([arr,arr])\n",
    "print(rows)\n",
    "\n",
    "## Join columns.\n",
    "cols = np.column_stack([arr,arr])\n",
    "print(cols)"
   ]
  },
  {
   "cell_type": "code",
   "execution_count": 31,
   "metadata": {},
   "outputs": [
    {
     "name": "stdout",
     "output_type": "stream",
     "text": [
      "[0 1 2 3 4 0 1 2 3 4]\n",
      "[[0 0]\n",
      " [1 1]\n",
      " [2 2]\n",
      " [3 3]\n",
      " [4 4]]\n"
     ]
    }
   ],
   "source": [
    "## np.hstack = join arrays along their columns.\n",
    "print(np.hstack([arr,arr]))\n",
    "print(np.hstack([arr.reshape(5,1), arr.reshape(5,1)]))"
   ]
  },
  {
   "cell_type": "code",
   "execution_count": 32,
   "metadata": {},
   "outputs": [
    {
     "name": "stdout",
     "output_type": "stream",
     "text": [
      "[[0]\n",
      " [1]\n",
      " [2]\n",
      " [3]\n",
      " [4]\n",
      " [0]\n",
      " [1]\n",
      " [2]\n",
      " [3]\n",
      " [4]]\n"
     ]
    }
   ],
   "source": [
    "## np.vstack = join arrays along their rows.\n",
    "np.vstack([arr,arr])\n",
    "print(np.vstack([arr.reshape(5,1), arr.reshape(5,1)]))"
   ]
  },
  {
   "cell_type": "code",
   "execution_count": 33,
   "metadata": {},
   "outputs": [
    {
     "name": "stdout",
     "output_type": "stream",
     "text": [
      "[0 1 2 3 4 0 1 2 3 4]\n",
      "[[0 0]\n",
      " [1 1]\n",
      " [2 2]\n",
      " [3 3]\n",
      " [4 4]]\n"
     ]
    }
   ],
   "source": [
    "## np.concatenate = join arrays along specified axis.\n",
    "## Default is first axis.\n",
    "print(np.concatenate([arr, arr], axis=0))\n",
    "print(np.concatenate([arr.reshape(5,1), arr.reshape(5,1)], axis=1))"
   ]
  },
  {
   "cell_type": "markdown",
   "metadata": {},
   "source": [
    "### Generating Random Data\n",
    "NumPy also includes many functions for generating random data. "
   ]
  },
  {
   "cell_type": "code",
   "execution_count": null,
   "metadata": {
    "collapsed": true
   },
   "outputs": [],
   "source": [
    "## Set the RNG seed!\n",
    "np.random.seed(47404)"
   ]
  },
  {
   "cell_type": "code",
   "execution_count": null,
   "metadata": {},
   "outputs": [],
   "source": [
    "## Generate ten random integers between 0-9.\n",
    "print( np.random.randint(0,10,10) )"
   ]
  },
  {
   "cell_type": "code",
   "execution_count": null,
   "metadata": {},
   "outputs": [],
   "source": [
    "## Generate five random samples of a normal distribution with mu=0,sd=1.\n",
    "print( np.random.normal(0,1,5) )"
   ]
  },
  {
   "cell_type": "code",
   "execution_count": null,
   "metadata": {},
   "outputs": [],
   "source": [
    "## Generate 10 random coin flips.\n",
    "print( np.random.binomial(1,0.5,10))"
   ]
  },
  {
   "cell_type": "code",
   "execution_count": null,
   "metadata": {},
   "outputs": [],
   "source": [
    "## Choose five numbers from 0-9 without replacement.\n",
    "print( np.random.choice(np.arange(10), 5, replace=False) )"
   ]
  },
  {
   "cell_type": "markdown",
   "metadata": {},
   "source": [
    "indexing/masking.\n",
    "\n",
    "Probably want to do some "
   ]
  },
  {
   "cell_type": "code",
   "execution_count": null,
   "metadata": {},
   "outputs": [],
   "source": []
  },
  {
   "cell_type": "code",
   "execution_count": null,
   "metadata": {},
   "outputs": [],
   "source": []
  },
  {
   "cell_type": "markdown",
   "metadata": {},
   "source": [
    "## Core NumPy Functions\n",
    "NumPy also introduces a number of useful functions designed to operate efficiently over NumPy arrays. The following is a non-exhaustive overview of some important NumPy functions."
   ]
  },
  {
   "cell_type": "markdown",
   "metadata": {},
   "source": [
    "### Matrix Math"
   ]
  },
  {
   "cell_type": "markdown",
   "metadata": {},
   "source": [
    "### Rounding Functions"
   ]
  },
  {
   "cell_type": "code",
   "execution_count": null,
   "metadata": {},
   "outputs": [],
   "source": [
    "mat = np.linspace(0,1,5)\n",
    "print('Original: %s' %mat)\n",
    "print('np.round: %s' %np.round(mat, 1) )\n",
    "print('np.floor: %s' %np.floor(mat) ) \n",
    "print('np.ceil:  %s' %np.ceil(mat) )"
   ]
  },
  {
   "cell_type": "markdown",
   "metadata": {},
   "source": [
    "### Mathematical functions"
   ]
  },
  {
   "cell_type": "markdown",
   "metadata": {},
   "source": [
    "NumPy includes a variety of mathematical functions. All of these can be applied across an entire matrix or across arrays."
   ]
  },
  {
   "cell_type": "code",
   "execution_count": null,
   "metadata": {
    "collapsed": true
   },
   "outputs": [],
   "source": [
    "np.sum;       # Sum of an array or matrix.\n",
    "np.cumsum;    # Cumulative sum over an array.\n",
    "np.prod;      # Element-wise multiplication of an array.\n",
    "np.divide;    # Element-wise division of two arrays.\n",
    "np.diff;      # Pairwise difference of elements of an array.\n",
    "np.exp;       # Exponential transform.\n",
    "np.log;       # Natural logarithm.\n",
    "np.log10;     # Base-10 logarithm."
   ]
  },
  {
   "cell_type": "markdown",
   "metadata": {},
   "source": [
    "### Summary Functions\n",
    "\n",
    "NumPy includes many functions to summarize an array. With the exception of **corrcoef**, all of these can be\n",
    "applied across an entire matrix or across arrays."
   ]
  },
  {
   "cell_type": "code",
   "execution_count": null,
   "metadata": {
    "collapsed": true
   },
   "outputs": [],
   "source": [
    "np.min;           # Return the smallest element.\n",
    "np.max;           # Return the largest element.\n",
    "np.argmin;        # Return the index of the smallest element.\n",
    "np.argmax;        # Return the index of the largest element.\n",
    "np.mean;          # Compute the mean of an array.\n",
    "np.median;        # Compute the median of an array.\n",
    "np.std;           # Compute the standard deviation of an array.\n",
    "np.var;           # Compute the variance (sd^2) of an array.\n",
    "np.percentile;    # Compute the xth percentile of an array.\n",
    "np.corrcoef;      # Compute the row-/col-wise correlation of a matrix."
   ]
  },
  {
   "cell_type": "code",
   "execution_count": null,
   "metadata": {},
   "outputs": [],
   "source": [
    "## To give a few examples.\n",
    "mat = np.vstack([ np.arange(5), np.arange(5)[::-1] ])\n",
    "print('Original:\\n%s' %mat)"
   ]
  },
  {
   "cell_type": "code",
   "execution_count": null,
   "metadata": {},
   "outputs": [],
   "source": [
    "## Compute percentile.\n",
    "print( '70%% (all):  %s' %np.percentile(mat, 70) )\n",
    "\n",
    "## Compute mean across rows.\n",
    "print('70%% (rows): %s' %np.percentile(mat, 70, axis=1) )\n",
    "\n",
    "## Compute mean across cols.\n",
    "print('70%% (cols): %s' %np.percentile(mat, 70, axis=0) )"
   ]
  },
  {
   "cell_type": "code",
   "execution_count": null,
   "metadata": {},
   "outputs": [],
   "source": [
    "## Compute correlation.\n",
    "print('Correlation:\\n', np.corrcoef(mat))"
   ]
  },
  {
   "cell_type": "markdown",
   "metadata": {},
   "source": [
    "### Set Functions\n",
    "NumPy includes functions for identifying unique elements within or between arrays."
   ]
  },
  {
   "cell_type": "code",
   "execution_count": null,
   "metadata": {
    "collapsed": true
   },
   "outputs": [],
   "source": [
    "## Define two arrays for example.\n",
    "arr1 = np.array([41, 16, 34, 0, 2, 20, 19, 14, 22, 15, 18, 9, 35, 41])\n",
    "arr2 = np.array([42, 22, 40, 7, 33, 0, 12, 19, 44, 10, 31, 11, 11, 49])"
   ]
  },
  {
   "cell_type": "code",
   "execution_count": null,
   "metadata": {},
   "outputs": [],
   "source": [
    "## Sort elements (ascending order).\n",
    "np.sort(arr1)"
   ]
  },
  {
   "cell_type": "code",
   "execution_count": null,
   "metadata": {},
   "outputs": [],
   "source": [
    "## Return unique elements.\n",
    "np.unique(arr1)"
   ]
  },
  {
   "cell_type": "code",
   "execution_count": null,
   "metadata": {},
   "outputs": [],
   "source": [
    "## Return unique elements, count number of appearances.\n",
    "np.unique(arr1, return_counts=True)"
   ]
  },
  {
   "cell_type": "code",
   "execution_count": null,
   "metadata": {},
   "outputs": [],
   "source": [
    "## Find the elements of array-1 in array-2.\n",
    "np.in1d(arr1, arr2)"
   ]
  },
  {
   "cell_type": "code",
   "execution_count": null,
   "metadata": {},
   "outputs": [],
   "source": [
    "## Return all unique elements of arrays 1 & 2.\n",
    "np.union1d(arr1, arr2)"
   ]
  },
  {
   "cell_type": "code",
   "execution_count": null,
   "metadata": {},
   "outputs": [],
   "source": [
    "## Return all elements belonging to both arrays 1 & 2.\n",
    "np.intersect1d(arr1, arr2)"
   ]
  },
  {
   "cell_type": "markdown",
   "metadata": {},
   "source": [
    "### Replacing List Comprehensions"
   ]
  },
  {
   "cell_type": "markdown",
   "metadata": {},
   "source": [
    "NumPy includes a number of very helpful functions that act to replace list comprehensions (np.where) and for loops (np.apply_across_axis, np.apply_over_axes). These are often more efficient than writing out a full For loop. We will emphasize these functions with a simple example of standard-scoring (z-scoring) a matrix."
   ]
  },
  {
   "cell_type": "code",
   "execution_count": null,
   "metadata": {},
   "outputs": [],
   "source": [
    "## Define the standard score (z-score) function.\n",
    "def zscore(arr): \n",
    "    return (arr - arr.mean()) / arr.std()\n",
    "\n",
    "## Define a simple matrix.\n",
    "mat = np.arange(12).reshape(2,6)\n",
    "print(mat)"
   ]
  },
  {
   "cell_type": "markdown",
   "metadata": {},
   "source": [
    "Use **apply_across_axis** to apply our function across each row."
   ]
  },
  {
   "cell_type": "code",
   "execution_count": null,
   "metadata": {},
   "outputs": [],
   "source": [
    "zmat = np.apply_along_axis(zscore, axis=1, arr=mat)\n",
    "print(zmat.round(2))"
   ]
  },
  {
   "cell_type": "markdown",
   "metadata": {},
   "source": [
    "Use the **where** command to set all negative numbers to 0, else 1. **where** is identical to the **which** command in R. "
   ]
  },
  {
   "cell_type": "code",
   "execution_count": null,
   "metadata": {},
   "outputs": [],
   "source": [
    "amat = np.where(zmat < 0, 0, 1)\n",
    "print(amat)"
   ]
  },
  {
   "cell_type": "markdown",
   "metadata": {},
   "source": [
    "If no transforms are specified, **where** returns the indices of the array where the conditional is met."
   ]
  },
  {
   "cell_type": "code",
   "execution_count": null,
   "metadata": {},
   "outputs": [],
   "source": [
    "print( np.where(zmat < 0 ) )"
   ]
  },
  {
   "cell_type": "markdown",
   "metadata": {},
   "source": [
    "### Linear Algebra Functions"
   ]
  },
  {
   "cell_type": "markdown",
   "metadata": {},
   "source": [
    "NumPy includes an entire submodule dedicated to efficient linear algebra functions (though it should be noted that SciPy has reimplemented them for maximal efficiency). See np.linalg for a full list of commands."
   ]
  },
  {
   "cell_type": "code",
   "execution_count": null,
   "metadata": {},
   "outputs": [],
   "source": [
    "## Define a simple matrix.\n",
    "mat = np.arange(16).reshape(4,4)\n",
    "print(mat)"
   ]
  },
  {
   "cell_type": "code",
   "execution_count": null,
   "metadata": {},
   "outputs": [],
   "source": [
    "## Transpose the matrix\n",
    "print(mat.T)           "
   ]
  },
  {
   "cell_type": "code",
   "execution_count": null,
   "metadata": {},
   "outputs": [],
   "source": [
    "## Return diagonal of matrix\n",
    "print(np.diag(mat))"
   ]
  },
  {
   "cell_type": "code",
   "execution_count": null,
   "metadata": {},
   "outputs": [],
   "source": [
    "## Return upper triangular matrix\n",
    "print(np.triu(mat))    "
   ]
  },
  {
   "cell_type": "code",
   "execution_count": null,
   "metadata": {},
   "outputs": [],
   "source": [
    "## Matrix multiply itself. Can also np.dot.\n",
    "print(np.dot(mat, mat))    "
   ]
  },
  {
   "cell_type": "code",
   "execution_count": null,
   "metadata": {},
   "outputs": [],
   "source": [
    "## Can also use:\n",
    "print(mat.dot(mat))"
   ]
  },
  {
   "cell_type": "code",
   "execution_count": null,
   "metadata": {
    "collapsed": true
   },
   "outputs": [],
   "source": [
    "## Linear algebra operations include:\n",
    "np.linalg.norm;        # Vector or matrix norm\n",
    "np.linalg.inv;         # Inverse of a square matrix\n",
    "np.linalg.det;         # Determinant of a square matrix\n",
    "np.linalg.eig;         # Eigenvalues and vectors of a square matrix\n",
    "np.linalg.cholesky;    # Cholesky decomposition of a matrix\n",
    "np.linalg.svd;         # Singular value decomposition of a matrix\n",
    "np.linalg.lstsq;       # Solve linear least-squares problem"
   ]
  },
  {
   "cell_type": "markdown",
   "metadata": {},
   "source": [
    "# Introduction to Data Visualization\n",
    "## Matplotlib\n",
    "Matplotlib, or the Matlab plotting library, is the core plotting package of the scientific python distribution. The aim of Matplotlib is to recreate all of the plotting capabilities of Matlab in python. As such, much of the syntax/style of Matplotlib reflects Matlab plotting. \n",
    "\n",
    "We will go through the syntax of plotting the five most common types of plots: bar plots, line plots, scatter plots, boxplots, and heatmaps. We will also cover adding details to plots (e.g. axes, titles, legends, errorbars), making multiple plots in one figure, and scaling/sizing plots.\n",
    "\n",
    "Similar to plotting in R, pure Matplotlib is a little clunky and a lot of code is needed to make more visually appealing plots. For this reason, we will introduce the Seaborn package later. Seaborn is similar to ggplot2 in that, with a tidy dataframe and some knowledge of the syntax, beautiful plots can quickly/easily be generated. But, it's better to crawl before walking, so we'll start with Matplotlib first."
   ]
  },
  {
   "cell_type": "code",
   "execution_count": null,
   "metadata": {
    "collapsed": true
   },
   "outputs": [],
   "source": [
    "import matplotlib.pyplot as plt\n",
    "%matplotlib inline \n",
    "\n",
    "## NOTE: The second line is a bit of notebook magic! \n",
    "## It's a jupyter-notebook shortcut that makes all\n",
    "## plots be displayed at the bottom of a cell."
   ]
  },
  {
   "cell_type": "markdown",
   "metadata": {},
   "source": [
    "For plots to be displayed outside of the Notebook, do not set the backend and use the **plt.show()** command when finished plotting."
   ]
  },
  {
   "cell_type": "markdown",
   "metadata": {},
   "source": [
    "### Figures & Axes\n",
    "A brief note: In Matplotlib jargon, an axis is a plot (e.g. barplot, scatterplot) and a figure is the surrounding object containing all plots. The most basic figure contains a single axis (i.e. one plot). More complex figures may have multiple plots of different sizes and numbers per row. \n",
    "\n",
    "This distinction is important because certain graphical tweaks can only be applied to figures or axes. For example, figures control the size of the canvas, the spacing of plots, and saving figures. Axes control plot-specific features, including labels, titles, and legends. To start, we will only generate figures with one plot. Later, we will introduce drawing multiple plots per figure."
   ]
  },
  {
   "cell_type": "markdown",
   "metadata": {},
   "source": [
    "### Barplots\n",
    "Barplots are probably the least intuitive plot in Matplotlib because the user must specify the starting point and width of the bars (this is in contrast to other languages that automatically assign x-coordinates to the bars). Though clunky, this does provide some additional control to the user. \n",
    "\n",
    "In this example, we will plot the average response within subjects."
   ]
  },
  {
   "cell_type": "code",
   "execution_count": null,
   "metadata": {},
   "outputs": [],
   "source": [
    "## Open new figure canvas. Define its size.\n",
    "fig = plt.figure(figsize=(12,4))\n",
    "\n",
    "## Make a new axis: The numbers correspond to\n",
    "## row, column, and plot index. For example,\n",
    "## subplot(211) would mean creating the \n",
    "## first plot of a figure with 2 rows and 1 column.\n",
    "ax = plt.subplot(111)\n",
    "\n",
    "## Use groupby to compute average response.\n",
    "avg_resp = data.groupby('subj').respcat.mean()\n",
    "\n",
    "## Now we have to specify the starting positions of\n",
    "## the bars along the x-axis. We will have each bar\n",
    "## begin at a sequential integer for each new subject\n",
    "## (i.e., 0, 1, 2, ... N).\n",
    "n_subj = len(avg_resp)\n",
    "xpos = np.arange(n_subj)\n",
    "\n",
    "## Now we can plot.\n",
    "width = 0.9\n",
    "ax.bar(left=xpos, height=avg_resp, width=width, color='#7ec0ee');\n",
    "\n",
    "## Fix x-axis.\n",
    "ax.set_xlim(xpos.min() - width, xpos.max()+width);   # \n",
    "                                                     # on both sides.\n",
    "ax.set_xticks(xpos);                    # Set x-tickmarks at center of bars.\n",
    "ax.set_xticklabels(data.subj.unique(), fontsize=12); # Set subjects as x-ticklabels\n",
    "ax.set_xlabel('Subjects', fontsize=18);              # Set x-axis label.\n",
    "\n",
    "## Fix y-axis.\n",
    "ax.set_ylim(0,1);\n",
    "ax.set_ylabel('Average Response', fontsize=18);\n",
    "\n",
    "## Set title.\n",
    "ax.set_title('Example Barplot', fontsize=24);\n",
    "\n",
    "## Autoscale image.\n",
    "plt.tight_layout();    # Reduce whitespace outside of plot."
   ]
  },
  {
   "cell_type": "markdown",
   "metadata": {},
   "source": [
    "Grouped barplots must be manually generated, as in the following example where we plot the average response and reponse time data by subject."
   ]
  },
  {
   "cell_type": "code",
   "execution_count": null,
   "metadata": {},
   "outputs": [],
   "source": [
    "## Open new figure canvas. Define its size.\n",
    "fig = plt.figure(figsize=(12,4))\n",
    "\n",
    "## Make a new axis.\n",
    "ax = plt.subplot(111)\n",
    "\n",
    "## Use groupby to compute averages.\n",
    "gb = data.groupby('subj')\n",
    "avg_resp = gb.respcat.mean()\n",
    "std_resp = gb.respcat.std()\n",
    "avg_rt = gb.rt.mean()\n",
    "std_rt = gb.rt.std()\n",
    "\n",
    "## Specify the starting positions of the bars.\n",
    "n_subj = 5\n",
    "resp_pos = [0.0, 2.5, 5.0, 7.5, 10.0]\n",
    "rt_pos = [1.0, 3.5, 6.0, 8.5, 11.0]\n",
    "\n",
    "## Make barplots. Here we use the yerr flag to make error bars.\n",
    "## we also define the condition using label.\n",
    "width = 1.0\n",
    "ax.bar(resp_pos, avg_resp[:n_subj], width, label = 'Choice',\n",
    "       yerr=std_resp[:n_subj], color='#7ec0ee');\n",
    "ax.bar(rt_pos, avg_rt[:n_subj], width, label='RT',\n",
    "       yerr=std_rt[:n_subj], color='#71eeb8');\n",
    "\n",
    "\n",
    "## Fix x-axis.\n",
    "ax.set_xlim(-width, max(rt_pos)+width);\n",
    "ax.set_xticks(np.array(rt_pos) - width / 2.);\n",
    "ax.set_xticklabels(data.subj.unique(), fontsize=12);\n",
    "ax.set_xlabel('Subjects', fontsize=18);\n",
    "\n",
    "## Set title.\n",
    "ax.set_title('Example Grouped Barplot', fontsize=24);\n",
    "\n",
    "## Set horizontal line. Starts at zero and travels \n",
    "## length of plot.\n",
    "ax.hlines(0, -width, max(rt_pos)+width, color='black')\n",
    "\n",
    "## Add legend.\n",
    "ax.legend(loc=2, frameon=False, fontsize=18)\n",
    "\n",
    "## Autoscale image.\n",
    "plt.tight_layout();    # Reduce whitespace outside of plot."
   ]
  },
  {
   "cell_type": "markdown",
   "metadata": {},
   "source": [
    "### Lineplots\n",
    "Lineplots are more intuitive than are barplots, requirng at the minimum only the x- and y-datapoints. Many tweaks and embellishments can similarly be added. \n",
    "\n",
    "Here we will plot the nominal likelihood-of-take of the risky bet against the diff values. In the example, we use the Matplotlib color shorthands. These are:\n",
    "* b: blue \n",
    "* g: green \n",
    "* r: red \n",
    "* c: cyan \n",
    "* m: magenta \n",
    "* y: yellow\n",
    "* k: black \n",
    "* w: white"
   ]
  },
  {
   "cell_type": "code",
   "execution_count": null,
   "metadata": {},
   "outputs": [],
   "source": [
    "## Open new figure canvas. Define its size.\n",
    "fig = plt.figure(figsize=(12,4))\n",
    "\n",
    "## Make a new axis.\n",
    "ax = plt.subplot(111)\n",
    "\n",
    "## Compute groupby gain.\n",
    "gb = data.groupby('diff')\n",
    "respnum_avg = gb.respnum.mean()\n",
    "\n",
    "## Plot average gain response.\n",
    "## In this example, we use the matplotlib color shorthands. \n",
    "ax.plot( respnum_avg.index, respnum_avg, color='b', linewidth=3 );\n",
    "\n",
    "## We will also shade within 1sd of the line. To do this, we use\n",
    "## fill_between, which asks for the x-points and the y-lower/upper\n",
    "## bounds along which to fill. The alpha parameter below reflects\n",
    "## the transparency from {transparent = 0.0, opaque = 1.0}.\n",
    "respnum_std = gb.respnum.std()\n",
    "ax.fill_between( respnum_avg.index, respnum_avg - respnum_std, respnum_avg + respnum_std,\n",
    "                color='b', alpha=0.2)\n",
    "\n",
    "## We will also add dotted lines to demarcate the bounds of +- 1sd. \n",
    "ax.plot( respnum_avg.index, respnum_avg - respnum_std, linewidth=0.5, linestyle='--', color='k' )\n",
    "ax.plot( respnum_avg.index, respnum_avg + respnum_std, linewidth=0.5, linestyle='--', color='k' )\n",
    "\n",
    "## Minimize function calls with ax.set\n",
    "ax.set_xlim(respnum_avg.index.min(), respnum_avg.index.max())\n",
    "ax.set_xlabel('Gain - Loss', fontsize=18)\n",
    "ax.set_yticks([1,2,3,4])\n",
    "ax.set_yticklabels(['Strong Accept', 'Weak Accept', 'Weak Reject', 'Strongly Reject'])\n",
    "ax.invert_yaxis()\n",
    "ax.tick_params(axis='both',which='major',labelsize=14)\n",
    "ax.set_title('Example Line Plot', fontsize=24)\n",
    "\n",
    "## Autoscore.\n",
    "plt.tight_layout()"
   ]
  },
  {
   "cell_type": "markdown",
   "metadata": {},
   "source": [
    "### Scatterplots\n",
    "The synxtax of scatterplots is similar to that of lineplots. Whereas lineplots have different [linestyles](https://matplotlib.org/examples/lines_bars_and_markers/line_styles_reference.html), scatterplots have different [marker styles](https://matplotlib.org/api/markers_api.html). \n",
    "\n",
    "Here we make scatterplots of the average reaction time by diff values."
   ]
  },
  {
   "cell_type": "code",
   "execution_count": null,
   "metadata": {},
   "outputs": [],
   "source": [
    "## Open new figure canvas. Define its size.\n",
    "fig = plt.figure(figsize=(8,4))\n",
    "\n",
    "## Make a new axis.\n",
    "ax = plt.subplot(111)\n",
    "\n",
    "## Plot gain. \"s\" controls the size of the marker; marker control the shape.\n",
    "## Edgecolor adds an outline to the marker.\n",
    "rt = data.groupby(['diff']).rt.mean()\n",
    "ax.scatter( rt.index, rt, s=100, marker='o', color='c', edgecolor='k');\n",
    "\n",
    "## Add details.\n",
    "ax.set_xlim(-11, 36)\n",
    "ax.set_xlabel('Gain - Loss', fontsize=18)\n",
    "ax.set_ylabel('Reaction Time (s)', fontsize=18)\n",
    "ax.tick_params(axis='both',which='major',labelsize=14)\n",
    "ax.set_title('Example Scatter Plot', fontsize=24)\n",
    "\n",
    "## Autoscore.\n",
    "plt.tight_layout()"
   ]
  },
  {
   "cell_type": "markdown",
   "metadata": {},
   "source": [
    "### Histrograms\n",
    "Histograms are very easy fortunately. Here we will plot two subjects reaction times."
   ]
  },
  {
   "cell_type": "code",
   "execution_count": null,
   "metadata": {},
   "outputs": [],
   "source": [
    "## Open new figure canvas. Define its size.\n",
    "fig = plt.figure(figsize=(8,4))\n",
    "\n",
    "## Make a new axis.\n",
    "ax = plt.subplot(111)\n",
    "\n",
    "## RT distribution for subj06.\n",
    "ax.hist( data.loc[data.subj == 'subj06', 'rt'], bins=25, \n",
    "        label='subj06', color='#1b9e77', alpha=0.75 );\n",
    "\n",
    "## RT distribution for subj10.\n",
    "ax.hist( data.loc[data.subj == 'subj10', 'rt'], bins=25, \n",
    "        label='subj10', color='#7570b3', alpha=0.75 );\n",
    "\n",
    "## Add details.\n",
    "ax.set_xlabel('Reaction Time (s)', fontsize=18)\n",
    "ax.set_ylabel('Frequency', fontsize=18)\n",
    "ax.tick_params(axis='both', which='major', labelsize=14)\n",
    "ax.set_title('Example Histogram', fontsize=24)\n",
    "ax.legend(loc='best', fontsize=16, frameon=False);\n",
    "\n",
    "plt.tight_layout();"
   ]
  },
  {
   "cell_type": "markdown",
   "metadata": {},
   "source": [
    "### Heatmaps\n",
    "Heatmaps are very useful plots, but slightly counterintuitive in Matplotlib. We will go through an example looking at the average likelihood-of-take as a function of gain and loss. A full list of colormaps can be found [here](https://matplotlib.org/examples/color/colormaps_reference.html).  "
   ]
  },
  {
   "cell_type": "code",
   "execution_count": null,
   "metadata": {},
   "outputs": [],
   "source": [
    "## Open new figure canvas. Define its size.\n",
    "fig = plt.figure(figsize=(8,6))\n",
    "\n",
    "## Make a new axis.\n",
    "ax = plt.subplot(111)\n",
    "\n",
    "## Make groupby object by gain and loss.\n",
    "resp = data.groupby(['gain','loss']).respcat.mean()\n",
    "\n",
    "## Extract as matrix and reshape (there are 16 unique values for each).\n",
    "resp = resp.as_matrix().reshape(16,16).T\n",
    "\n",
    "## Plot. The parameters are as follows:\n",
    "#### aspect: defines scaling. automatic scaling is preferable.\n",
    "#### interpolation: smoothing of image. We want no smoothing.\n",
    "#### origin: upper or lower, we want smaller values to begin in lower corner.\n",
    "#### cmap: what colormap to use.\n",
    "#### vmin, vmax: min,max values of colormap.\n",
    "cbar = ax.imshow(resp, aspect='auto', interpolation='none', \n",
    "                 origin='lower', cmap='Blues', vmin=0, vmax=1)\n",
    "\n",
    "## Add details.\n",
    "ax.set_xticks(np.arange(0,16,2))\n",
    "ax.set_xticklabels(np.unique(data.gain)[::2], fontsize=14)\n",
    "ax.set_xlabel('Gain', fontsize=24)\n",
    "\n",
    "ax.set_yticks(np.arange(0,16,2))\n",
    "ax.set_yticklabels(np.unique(data.loss)[::2], fontsize=14)\n",
    "ax.set_ylabel('Loss', fontsize=24)\n",
    "\n",
    "## Add colorbar.\n",
    "cbar = plt.colorbar(cbar, ax=ax);\n",
    "cbar.ax.tick_params(labelsize=14) \n",
    "cbar.set_label('Average Response', fontsize=20)"
   ]
  },
  {
   "cell_type": "markdown",
   "metadata": {},
   "source": [
    "### Embedding Multiple Plots in a Figure\n",
    "With Matplotlib, there are 3.5 methods for constructing a figure with multiple embedded plots. These vary from minimal control of layout to maximal control of layout, and are as follows:\n",
    "1. subplot/subplots: generates equal sized plots in a figure.\n",
    "2. subplot2grid: generates plots of different sizes along a grid, minimal spacing options.\n",
    "3. gridspec: generates plots of different sizes, many spacing options.\n",
    "\n",
    "We have previously present subplot. Briefly we will show how subplot and subplots can be used to make a multiply-embedded figure."
   ]
  },
  {
   "cell_type": "code",
   "execution_count": null,
   "metadata": {},
   "outputs": [],
   "source": [
    "## Subplot example: Figure needs to be called.\n",
    "fig = plt.figure(figsize=(5,5))\n",
    "\n",
    "## Make 2x2 figure.\n",
    "ax = plt.subplot(2,2,1)\n",
    "ax.text(0.5,0.5,'ax1', fontsize=18, ha='center', va='center');\n",
    "\n",
    "ax = plt.subplot(2,2,2)\n",
    "ax.text(0.5,0.5,'ax2', fontsize=18, ha='center', va='center');\n",
    "\n",
    "ax = plt.subplot(2,2,3)\n",
    "ax.text(0.5,0.5,'ax3', fontsize=18, ha='center', va='center');\n",
    "\n",
    "ax = plt.subplot(2,2,4)\n",
    "ax.text(0.5,0.5,'ax4', fontsize=18, ha='center', va='center');"
   ]
  },
  {
   "cell_type": "code",
   "execution_count": null,
   "metadata": {},
   "outputs": [],
   "source": [
    "## Subplots example: Figure can be called directly from command.\n",
    "\n",
    "## Make 2x2 figure. Note that figsize can be directly called.\n",
    "## Axes is a [2,2]-list of axes.\n",
    "fig, axes = plt.subplots(2,2,figsize=(5,5))\n",
    "\n",
    "## Iteratively add text.\n",
    "for n in range(4):\n",
    "    axes[n//2,n%2].text(0.5,0.5,'ax%s' %(n+1), fontsize=18, \n",
    "                        ha='center', va='center');"
   ]
  },
  {
   "cell_type": "markdown",
   "metadata": {},
   "source": [
    "To use subplot2grid(), you provide geometry of the grid and the location of the subplot in the grid. Here we present an example geometry for a 3x3 grid."
   ]
  },
  {
   "cell_type": "code",
   "execution_count": null,
   "metadata": {},
   "outputs": [],
   "source": [
    "## subplot2grid example: Figure must be called.\n",
    "fig = plt.figure(figsize=(5,5))\n",
    "\n",
    "## Call subplot2grid. First argument specifies the global\n",
    "## layout of the figure. Second argument specifies which\n",
    "## axis you are generating. colspan/rowspan describes the\n",
    "## length of the axes within the grid of the figure.\n",
    "\n",
    "ax = plt.subplot2grid((3, 3), (0, 0), colspan=3)\n",
    "ax.text(0.5,0.5,'ax1', fontsize=18, ha='center', va='center');\n",
    "\n",
    "ax = plt.subplot2grid((3, 3), (1, 0), colspan=2)\n",
    "ax.text(0.5,0.5,'ax2', fontsize=18, ha='center', va='center');\n",
    "\n",
    "ax = plt.subplot2grid((3, 3), (1, 2), rowspan=2)\n",
    "ax.text(0.5,0.5,'ax3', fontsize=18, ha='center', va='center');\n",
    "\n",
    "ax = plt.subplot2grid((3, 3), (2, 0))\n",
    "ax.text(0.5,0.5,'ax4', fontsize=18, ha='center', va='center');\n",
    "\n",
    "ax = plt.subplot2grid((3, 3), (2, 1))\n",
    "ax.text(0.5,0.5,'ax5', fontsize=18, ha='center', va='center');"
   ]
  },
  {
   "cell_type": "markdown",
   "metadata": {},
   "source": [
    "Gridspec objects are similar to subplot2grid in that they allow different sized plots within a figure. Gridspec objects also allow spacing configuration of axes within the figure. To give an example, we embed two sets of six plots with a large gap between them."
   ]
  },
  {
   "cell_type": "code",
   "execution_count": null,
   "metadata": {},
   "outputs": [],
   "source": [
    "import matplotlib.gridspec as gridspec\n",
    "\n",
    "## Initialize figure.\n",
    "fig = plt.figure(figsize=(10,5))\n",
    "\n",
    "## Define first 3x3 grid. \n",
    "gs = gridspec.GridSpec(3, 3)\n",
    "\n",
    "## Update spacing parameters such that the figures can only\n",
    "## extend to the 0.45 fraction of the figure.\n",
    "gs.update(left=0.05, right=0.45, wspace=0.05)\n",
    "\n",
    "## Create plots by indexing into grid.\n",
    "ax1 = plt.subplot(gs[0, :])\n",
    "ax2 = plt.subplot(gs[1, :-1])\n",
    "ax3 = plt.subplot(gs[1:, -1])\n",
    "ax4 = plt.subplot(gs[-1, 0])\n",
    "ax5 = plt.subplot(gs[-1, -2])\n",
    "\n",
    "## Define second 3x3 grid. \n",
    "gs = gridspec.GridSpec(3, 3)\n",
    "\n",
    "## Update spacing parameters such that the figures can only\n",
    "## start at 0.55 fraction of the figure.\n",
    "gs.update(left=0.55, right=0.95, wspace=0.05)\n",
    "\n",
    "## Create plots by indexing into grid.\n",
    "ax1 = plt.subplot(gs[0, :])\n",
    "ax2 = plt.subplot(gs[1, :-1])\n",
    "ax3 = plt.subplot(gs[1:, -1])\n",
    "ax4 = plt.subplot(gs[-1, 0])\n",
    "ax5 = plt.subplot(gs[-1, -2])"
   ]
  }
 ],
 "metadata": {
  "kernelspec": {
   "display_name": "Python 3",
   "language": "python",
   "name": "python3"
  },
  "language_info": {
   "codemirror_mode": {
    "name": "ipython",
    "version": 3
   },
   "file_extension": ".py",
   "mimetype": "text/x-python",
   "name": "python",
   "nbconvert_exporter": "python",
   "pygments_lexer": "ipython3",
   "version": "3.7.1"
  }
 },
 "nbformat": 4,
 "nbformat_minor": 2
}
