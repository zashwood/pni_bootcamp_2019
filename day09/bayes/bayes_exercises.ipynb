{
 "cells": [
  {
   "cell_type": "code",
   "execution_count": null,
   "metadata": {
    "collapsed": true
   },
   "outputs": [],
   "source": [
    "import numpy as np\n",
    "import numpy.random as npr\n",
    "import matplotlib.pyplot as plt\n",
    "%matplotlib notebook\n",
    "import seaborn as sns\n",
    "sns.set_style(\"white\")\n",
    "sns.set_style(\"ticks\")\n",
    "sns.set_context(\"talk\")"
   ]
  },
  {
   "cell_type": "code",
   "execution_count": null,
   "metadata": {
    "collapsed": true
   },
   "outputs": [],
   "source": [
    "# define some helper functions\n",
    "# gaussian pdf (1D)\n",
    "def gaussian_pdf(x, mu, sigmasq):\n",
    "    \"\"\"\n",
    "    Compute the pointwise log probability of data x from a 1D gaussian with\n",
    "    mean mu and variance sigmasq.\n",
    "    \"\"\"\n",
    "    return np.exp(-0.5*np.log(2.0*np.pi*sigmasq) -0.5 * (x - mu)**2 / sigmasq)\n",
    "\n",
    "# posterior parameters of 1D Gaussian\n",
    "def posterior_params(x, sigmasqx, mu0, sigmasq0):\n",
    "    \"\"\"\n",
    "    Data x, size N (or N by 1)\n",
    "    sigmasqx is conditional variance\n",
    "    mu0 is prior mean\n",
    "    sigmasq0 is prior variance\n",
    "    \"\"\"\n",
    "\n",
    "    # compute sufficient statistics\n",
    "    mu_hat = np.mean(x)\n",
    "    N = x.shape[0]\n",
    "\n",
    "    # compute prior and posterior weighting\n",
    "    w_prior = sigmasqx / (N*sigmasq0 + sigmasqx)\n",
    "    w_like  = N * sigmasq0 / (N*sigmasq0 + sigmasqx)\n",
    "    mu_post = w_prior * mu0 + w_like * mu_hat\n",
    "    sigma_post = 1.0 / (1.0 / sigmasq0 + N / sigmasqx)\n",
    "    \n",
    "    # return the posterior mean and posterior variance\n",
    "    return mu_post, sigma_post\n",
    "\n",
    "# likelihood function\n",
    "def likelihood(mu, x, sigmasqx):\n",
    "    \"\"\"\n",
    "    likelihood is a function of mean parameter mu\n",
    "    conditioned on data x\n",
    "    and variance parameter sigmasqx.\n",
    "    \n",
    "    This function evaluates the likelihood of the data for each mean provided in mu.\n",
    "    \"\"\"\n",
    "    N = x.shape[0]\n",
    "    sum_x = np.sum(x)\n",
    "    sum_xx = np.sum(x**2)\n",
    "    log_like = -0.5*N*np.log(2.0*np.pi*sigmasqx) -0.5/sigmasqx*(sum_xx - 2.0*sum_x*mu + mu**2)\n",
    "    return np.exp(log_like)"
   ]
  },
  {
   "cell_type": "markdown",
   "metadata": {},
   "source": [
    "## Bayesian inference for the mean of a Gaussian distribution\n",
    "\n",
    "In this exercise, we will generate data from a 1-dimensional Gaussian distribution. We will then use Bayesian inference to infer the mean of this distribution, by setting a prior and computing the posterior. The coding is relatively minor - you are encouraged to examine how your results change if you:\n",
    "1. Change your prior parameters (broad vs. narrow prior, centered at zero or away from zero)\n",
    "2. Change the amount of data you generate (N = 1, 10, 1000)\n",
    "3. Change the mean of the data distribution (near zero or away from zero)\n",
    "4. Change the variance of the data distribution (small or large)"
   ]
  },
  {
   "cell_type": "markdown",
   "metadata": {},
   "source": [
    "#### 1. Set the conditional mean and variance of the data distribution\n",
    "\n",
    "We will generate data from the distribution:\n",
    "$$ p(x|\\mu_x, \\sigma_x^2) = \\mathcal{N}(\\mu_x, \\sigma_x^2). $$"
   ]
  },
  {
   "cell_type": "code",
   "execution_count": null,
   "metadata": {
    "collapsed": true
   },
   "outputs": [],
   "source": [
    "# set conditional mean and variance\n",
    "# NOTE for the purposes of this exercise, keep mu_x in the range [-8,8] or so. \n",
    "# If you go outside this range you may need to change this range for plotting data.\n",
    "mux = # FILL THIS IN\n",
    "sigmasqx = # FILL THIS IN"
   ]
  },
  {
   "cell_type": "markdown",
   "metadata": {},
   "source": [
    "#### 2. Generate data\n",
    "\n",
    "Use functions from numpy to generate $N$ data points from a Gaussian with mean $\\mu_x$ and variance $\\sigma_x^2$"
   ]
  },
  {
   "cell_type": "code",
   "execution_count": null,
   "metadata": {
    "collapsed": true
   },
   "outputs": [],
   "source": [
    "N = # how many data points\n",
    "x = # FILL IN CODE HERE TO GENERATE DATA. x should be an N-dim array."
   ]
  },
  {
   "cell_type": "markdown",
   "metadata": {},
   "source": [
    "#### 3. Set the parameters of the prior distribution over the mean\n",
    "\n",
    "The prior is\n",
    "$$ p(\\mu | \\mu_0, \\sigma_0^2) = \\mathcal{N}(\\mu_0, \\sigma_0^2). $$"
   ]
  },
  {
   "cell_type": "code",
   "execution_count": null,
   "metadata": {
    "collapsed": true
   },
   "outputs": [],
   "source": [
    "# set prior mean and variance\n",
    "mu0 = # FILL THIS IN\n",
    "sigmasq0 = # FILL THIS IN"
   ]
  },
  {
   "cell_type": "markdown",
   "metadata": {},
   "source": [
    "#### 4. Compute the posterior over the parameters\n",
    "\n",
    "We can use the function `posterior_params` to compute the parameters of the posterior over $\\mu$:\n",
    "$$p(\\mu | x, \\mu_0, \\sigma_0^2) = \\mathcal{N}(\\mu_{\\text{post}}, \\sigma_{\\text{post}}^2).$$"
   ]
  },
  {
   "cell_type": "code",
   "execution_count": null,
   "metadata": {},
   "outputs": [],
   "source": [
    "# do Bayesian inference! \n",
    "# this function computes the parameters of the posterior\n",
    "mu_post, sigma_post = posterior_params(x, sigmasqx, mu0, sigmasq0)"
   ]
  },
  {
   "cell_type": "code",
   "execution_count": null,
   "metadata": {},
   "outputs": [],
   "source": [
    "# plot the prior and posterior for different amounts of data\n",
    "N_plots = [1,2,5,10] # CHANGE THIS TO PLOT DIFFERENT AMOUNTS OF DATA\n",
    "\n",
    "xlim = (-10, 10)\n",
    "mu_range = np.arange(xlim[0],xlim[1],0.01)\n",
    "\n",
    "plt.figure()\n",
    "plt.plot(mu_range, gaussian_pdf(mu_range, mu0, sigmasq0), label=\"N = 0 (prior)\")\n",
    "for n in N_plots:\n",
    "    mu_post, sigma_post = posterior_params(x[:n], sigmasqx, mu0, sigmasq0)\n",
    "    plt.plot(mu_range, gaussian_pdf(mu_range, mu_post, sigma_post), label=(\"N = \" + str(n)))\n",
    "plt.xlim(xlim)\n",
    "plt.axvline(mux, label=\"true mean\",color='k', linestyle='--')\n",
    "plt.xlabel(\"$\\mu$\")\n",
    "plt.ylabel(\"$p(\\mu|x_{1:N})$\")\n",
    "plt.legend()\n",
    "plt.tight_layout()"
   ]
  }
 ],
 "metadata": {
  "kernelspec": {
   "display_name": "Python 3",
   "language": "python",
   "name": "python3"
  },
  "language_info": {
   "codemirror_mode": {
    "name": "ipython",
    "version": 3
   },
   "file_extension": ".py",
   "mimetype": "text/x-python",
   "name": "python",
   "nbconvert_exporter": "python",
   "pygments_lexer": "ipython3",
   "version": "3.6.7"
  }
 },
 "nbformat": 4,
 "nbformat_minor": 2
}
