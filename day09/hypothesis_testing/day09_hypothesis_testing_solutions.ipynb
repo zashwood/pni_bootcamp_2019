{
 "cells": [
  {
   "cell_type": "code",
   "execution_count": 1,
   "metadata": {},
   "outputs": [],
   "source": [
    "### IMPORTS\n",
    "import numpy as np\n",
    "np.random.seed(100)\n",
    "import scipy.stats as stats # has function pearsonr(x,y)\n",
    "import matplotlib.pyplot as plt\n",
    "from sklearn.datasets import load_boston # We will work with the Boston housing data in some of what follows later"
   ]
  },
  {
   "cell_type": "markdown",
   "metadata": {},
   "source": [
    "## Exercise 1: T-tests"
   ]
  },
  {
   "cell_type": "markdown",
   "metadata": {},
   "source": [
    "In this exercise, we will apply a t-test to data generated from normal distributions with different means.  We will investigate if the test is able to detect that the data is generated from two different distributions as a function of both (1) the difference in means for the generating distribution and (2) as a function of the number of samples.   We will also explore applying a t-test to data that was not generated from a normal distribution, and instead was generated from a chi-squared distribution and investigate the same things."
   ]
  },
  {
   "cell_type": "code",
   "execution_count": 2,
   "metadata": {},
   "outputs": [],
   "source": [
    "# Here, we generate data from two normal distributions with the same standard deviation\n",
    "# We would like any statistical test that we run to be able to tell us that the underlying \n",
    "# population means responsible for generating x1 and x2 are different\n",
    "mean1 = 1\n",
    "true_diff_in_means = 0.2\n",
    "mean2 = mean1 + true_diff_in_means\n",
    "\n",
    "x1 = np.random.standard_normal((100,)) + mean1\n",
    "x2 = np.random.standard_normal((100,)) + mean2"
   ]
  },
  {
   "cell_type": "code",
   "execution_count": 3,
   "metadata": {},
   "outputs": [
    {
     "data": {
      "text/plain": [
       "Text(0.5, 0, 'x')"
      ]
     },
     "execution_count": 3,
     "metadata": {},
     "output_type": "execute_result"
    },
    {
     "data": {
      "image/png": "[encoded data removed]",
      "text/plain": [
       "<Figure size 432x288 with 1 Axes>"
      ]
     },
     "metadata": {
      "needs_background": "light"
     },
     "output_type": "display_data"
    }
   ],
   "source": [
    "# Plot the sampled data\n",
    "plt.hist(x1, label = \"x1\")\n",
    "plt.hist(x2, label = \"x2\")\n",
    "plt.legend()\n",
    "plt.ylabel(\"Number of datapoints with value x\")\n",
    "plt.xlabel(\"x\")"
   ]
  },
  {
   "cell_type": "code",
   "execution_count": 4,
   "metadata": {},
   "outputs": [
    {
     "name": "stdout",
     "output_type": "stream",
     "text": [
      "0.10754128553529661\n"
     ]
    }
   ],
   "source": [
    "# Now run a t-test: is the null hypothesis rejected?\n",
    "returned_stat, p_val = stats.ttest_ind(x1, x2)\n",
    "print(p_val)"
   ]
  },
  {
   "cell_type": "code",
   "execution_count": 5,
   "metadata": {},
   "outputs": [],
   "source": [
    "# TODO: explore how the rejection of the null hypothesis varies as a function of \n",
    "# the number of samples and as a function of the difference in generative means. \n",
    "# Produce an image with number of samples on the x-axis and difference in means on the y-axis \n",
    "# and color a pixel based on whether the null hypothesis was rejected for the given value \n",
    "# of the difference and number of samples. It might be good to keep mean1 fixed, and then \n",
    "# just alter the true_diff_in_means parameter in case the rejection rate is affected by the \n",
    "# size of mean1.  Note: the function plt.imshow() is useful for showing images.  "
   ]
  },
  {
   "cell_type": "code",
   "execution_count": 6,
   "metadata": {},
   "outputs": [
    {
     "data": {
      "text/plain": [
       "<matplotlib.colorbar.Colorbar at 0x109a1cf28>"
      ]
     },
     "execution_count": 6,
     "metadata": {},
     "output_type": "execute_result"
    },
    {
     "data": {
      "image/png": "[encoded data removed]",
      "text/plain": [
       "<Figure size 432x288 with 2 Axes>"
      ]
     },
     "metadata": {
      "needs_background": "light"
     },
     "output_type": "display_data"
    }
   ],
   "source": [
    "diffs = [0.1, 0.2, 0.5, 1, 2]\n",
    "num_samples = [10, 20, 50, 100]\n",
    "mean1 = 53\n",
    "arr_to_plot = np.zeros((len(num_samples),len(diffs)))\n",
    "for i, diff in enumerate(diffs):\n",
    "    for j, num_sample in enumerate(num_samples):\n",
    "        mean2 = mean1 + diff\n",
    "        x1 = np.random.standard_normal((num_sample,)) + mean1\n",
    "        x2 = np.random.standard_normal((num_sample,)) + mean2\n",
    "        _, p_val = stats.ttest_ind(x1, x2)\n",
    "        if p_val < 0.05:\n",
    "            arr_to_plot[j][i] = 1\n",
    "plt.imshow(arr_to_plot)\n",
    "plt.xlabel(\"difference in means\")\n",
    "plt.ylabel(\"number of samples\")\n",
    "plt.xticks(np.arange(len(diffs)), diffs)\n",
    "plt.yticks(np.arange(len(num_samples)+1)-0.5, num_samples)\n",
    "plt.title(\"Null rejected?\")\n",
    "plt.colorbar()"
   ]
  },
  {
   "cell_type": "code",
   "execution_count": 7,
   "metadata": {},
   "outputs": [
    {
     "data": {
      "text/plain": [
       "Text(0.5, 0, 'x')"
      ]
     },
     "execution_count": 7,
     "metadata": {},
     "output_type": "execute_result"
    },
    {
     "data": {
      "image/png": "[encoded data removed]",
      "text/plain": [
       "<Figure size 432x288 with 1 Axes>"
      ]
     },
     "metadata": {
      "needs_background": "light"
     },
     "output_type": "display_data"
    }
   ],
   "source": [
    "# Let's now modify the distribution that we sample x1 and x2 from, and instead sample from \n",
    "# the chi-squared distribution \n",
    "mean1 = 53\n",
    "true_diff_in_means = 2\n",
    "mean2 = mean1 + true_diff_in_means\n",
    "x1 = stats.chi2.rvs(df = mean1, size=100)\n",
    "x2 = stats.chi2.rvs(df = mean2, size=100)\n",
    "\n",
    "plt.hist(x1, label = \"x1\")\n",
    "plt.hist(x2, label = \"x2\")\n",
    "plt.legend()\n",
    "plt.ylabel(\"Number of datapoints with value x\")\n",
    "plt.xlabel(\"x\")"
   ]
  },
  {
   "cell_type": "code",
   "execution_count": 8,
   "metadata": {},
   "outputs": [
    {
     "name": "stdout",
     "output_type": "stream",
     "text": [
      "0.09114057190642649\n"
     ]
    }
   ],
   "source": [
    "# Now run a t-test: is the null hypothesis rejected?\n",
    "returned_stat, p_val = stats.ttest_ind(x1, x2)\n",
    "print(p_val)"
   ]
  },
  {
   "cell_type": "code",
   "execution_count": 9,
   "metadata": {},
   "outputs": [],
   "source": [
    "# TODO: do as before, and explore how the rejection of the null hypothesis varies as a \n",
    "# function of the number of samples and as a function of the difference in generative means \n",
    "# but now for data generated from the chi-squared distribution.\n",
    "# Produce an image with number of samples on the x-axis and difference in means on the y-axis \n",
    "# and color a pixel based on whether the null hypothesis was rejected for the given value \n",
    "# of the difference and number of samples. It might be good to keep mean1 fixed, and then \n",
    "# just alter the true_diff_in_means parameter in case the rejection rate is affected by the \n",
    "# size of mean1.  Note: the function plt.imshow() is useful for showing images.  "
   ]
  },
  {
   "cell_type": "code",
   "execution_count": 10,
   "metadata": {},
   "outputs": [
    {
     "data": {
      "text/plain": [
       "<matplotlib.colorbar.Colorbar at 0x11a4fb940>"
      ]
     },
     "execution_count": 10,
     "metadata": {},
     "output_type": "execute_result"
    },
    {
     "data": {
      "image/png": "[encoded data removed]",
      "text/plain": [
       "<Figure size 432x288 with 2 Axes>"
      ]
     },
     "metadata": {
      "needs_background": "light"
     },
     "output_type": "display_data"
    }
   ],
   "source": [
    "diffs = [0.1, 0.2, 0.5, 1, 2]\n",
    "num_samples = [10, 20, 50, 100]\n",
    "mean1 = 53\n",
    "arr_to_plot = np.zeros((len(num_samples),len(diffs)))\n",
    "for i, diff in enumerate(diffs):\n",
    "    for j, num_sample in enumerate(num_samples):\n",
    "        mean2 = mean1 + diff\n",
    "        x1 = stats.chi2.rvs(df = mean1, size=num_sample)\n",
    "        x2 = stats.chi2.rvs(df = mean2, size=num_sample)\n",
    "        _, p_val = stats.ttest_ind(x1, x2)\n",
    "        if p_val < 0.05:\n",
    "            arr_to_plot[j][i] = 1\n",
    "plt.imshow(arr_to_plot)\n",
    "plt.xlabel(\"difference in means\")\n",
    "plt.ylabel(\"number of samples\")\n",
    "plt.xticks(np.arange(len(diffs)), diffs)\n",
    "plt.yticks(np.arange(len(num_samples)+1)-0.5, num_samples)\n",
    "plt.title(\"Null rejected?\")\n",
    "plt.colorbar()"
   ]
  },
  {
   "cell_type": "markdown",
   "metadata": {},
   "source": [
    "Question: Does the t-test always detect a difference in means when the generative distribution has a difference in means?  "
   ]
  },
  {
   "cell_type": "markdown",
   "metadata": {},
   "source": [
    "## Exercise 2: Permutation test"
   ]
  },
  {
   "cell_type": "markdown",
   "metadata": {},
   "source": [
    "In what follows, we would like to investigate the relationship between the per capita crime of a town and  the median value of house price in the town.  We will work with the Boston housing dataset that is documented here (https://scikit-learn.org/stable/datasets/index.html#boston-dataset).  You will write a function to implement a permutation test in order to determine whether the measured correlation value is statistically significant."
   ]
  },
  {
   "cell_type": "code",
   "execution_count": 11,
   "metadata": {},
   "outputs": [],
   "source": [
    "### HELPER FUNCTION\n",
    "def compute_corr(x,y):\n",
    "    \"\"\"\n",
    "    Function to compute the correlation between two vectors, x and y\n",
    "    \n",
    "    :param x: vector of values\n",
    "    :param y: vector of values\n",
    "    :return: Pearson correlation between vectors x and y\n",
    "    \"\"\"\n",
    "    mean_x = np.mean(x)\n",
    "    mean_y = np.mean(y)\n",
    "    var_x = np.var(x)\n",
    "    var_y = np.var(y)\n",
    "    x_recentered = x - mean_x\n",
    "    y_recentered = y - mean_y\n",
    "    corr = 1/x.size * np.dot(x_recentered, y_recentered) / np.sqrt(var_x * var_y)\n",
    "    return corr"
   ]
  },
  {
   "cell_type": "code",
   "execution_count": 12,
   "metadata": {},
   "outputs": [
    {
     "name": "stdout",
     "output_type": "stream",
     "text": [
      "(506, 13)\n"
     ]
    }
   ],
   "source": [
    "# Let's load the data that we will work with: the Boston housing dataset.\n",
    "# This is a commonly used dataset in Machine Learning classes.  You can read more about this\n",
    "# dataset and its attributes here: \n",
    "# https://scikit-learn.org/stable/datasets/index.html#boston-dataset\n",
    "boston = load_boston()\n",
    "print(boston.data.shape)"
   ]
  },
  {
   "cell_type": "code",
   "execution_count": 13,
   "metadata": {},
   "outputs": [
    {
     "data": {
      "text/plain": [
       "array(['CRIM', 'ZN', 'INDUS', 'CHAS', 'NOX', 'RM', 'AGE', 'DIS', 'RAD',\n",
       "       'TAX', 'PTRATIO', 'B', 'LSTAT'], dtype='<U7')"
      ]
     },
     "execution_count": 13,
     "metadata": {},
     "output_type": "execute_result"
    }
   ],
   "source": [
    "# Let's look at the list of predictors we have for predicting house prices:\n",
    "boston.feature_names  "
   ]
  },
  {
   "cell_type": "code",
   "execution_count": 14,
   "metadata": {},
   "outputs": [],
   "source": [
    "# Let's extract out the per capita crime by town:\n",
    "crime = boston.data[:,0]"
   ]
  },
  {
   "cell_type": "code",
   "execution_count": 15,
   "metadata": {},
   "outputs": [],
   "source": [
    "# Median value of owner-occupied homes in $1000’s for a town\n",
    "house_prices = boston.target"
   ]
  },
  {
   "cell_type": "code",
   "execution_count": 16,
   "metadata": {},
   "outputs": [
    {
     "data": {
      "text/plain": [
       "Text(0.5, 1.0, 'Boston house price dataset')"
      ]
     },
     "execution_count": 16,
     "metadata": {},
     "output_type": "execute_result"
    },
    {
     "data": {
      "image/png": "[encoded data removed]",
      "text/plain": [
       "<Figure size 432x288 with 1 Axes>"
      ]
     },
     "metadata": {
      "needs_background": "light"
     },
     "output_type": "display_data"
    }
   ],
   "source": [
    "# Let's now plot this data:\n",
    "plt.scatter(crime, house_prices)\n",
    "plt.ylabel(\"House price\", fontsize = 15)\n",
    "plt.xlabel(\"Crime per capita\", fontsize = 15)\n",
    "plt.title(\"Boston house price dataset\", fontsize = 15)"
   ]
  },
  {
   "cell_type": "code",
   "execution_count": 17,
   "metadata": {},
   "outputs": [
    {
     "name": "stdout",
     "output_type": "stream",
     "text": [
      "-0.38830460858681154\n",
      "-0.38830460858681154\n"
     ]
    }
   ],
   "source": [
    "# Let's use scipy's stats package in order to calculate the correlation\n",
    "# and compare the value they calculate to the one we calculate with our \"compute_corr\" func\n",
    "r_true, pval = stats.pearsonr(crime,house_prices)\n",
    "\n",
    "print(r_true)\n",
    "\n",
    "r_computed = compute_corr(crime,house_prices)\n",
    "print(r_computed)"
   ]
  },
  {
   "cell_type": "code",
   "execution_count": 18,
   "metadata": {},
   "outputs": [],
   "source": [
    "## TODO: Write a function to shuffle the house price values associated with each per capita\n",
    "# crime value\n",
    "\n",
    "def shuffle_data(house_prices):\n",
    "    \"\"\"\n",
    "    Return a vector of shuffled house price data\n",
    "    \n",
    "    :param house_prices: true vector of house price values\n",
    "    :return shuffled_prices: vector of shuffled house price values\n",
    "    \"\"\"\n",
    "    shuffled_idx = np.random.choice(len(house_prices), len(house_prices), replace=False)\n",
    "    shuffled_prices = house_prices[shuffled_idx]\n",
    "    return shuffled_prices"
   ]
  },
  {
   "cell_type": "code",
   "execution_count": 19,
   "metadata": {},
   "outputs": [],
   "source": [
    "## TODO: Implement a permutation test\n",
    "N_permutations = 1000\n",
    "corr_vals = []\n",
    "for i in range(N_permutations):\n",
    "    # TODO: Fill this in; append a correlation value, corr_val, to the corr_vals list\n",
    "    shuffled_prices = shuffle_data(house_prices)\n",
    "    corr_val = compute_corr(crime,shuffled_prices)\n",
    "    corr_vals.append(corr_val)"
   ]
  },
  {
   "cell_type": "code",
   "execution_count": 20,
   "metadata": {},
   "outputs": [
    {
     "data": {
      "text/plain": [
       "<matplotlib.lines.Line2D at 0x109a5bcf8>"
      ]
     },
     "execution_count": 20,
     "metadata": {},
     "output_type": "execute_result"
    },
    {
     "data": {
      "image/png": "[encoded data removed]",
      "text/plain": [
       "<Figure size 432x288 with 1 Axes>"
      ]
     },
     "metadata": {
      "needs_background": "light"
     },
     "output_type": "display_data"
    }
   ],
   "source": [
    "# Plot distribution of correlation values and add a vertical line to show the true correlation\n",
    "# value:\n",
    "plt.hist(corr_vals, bins = 100)\n",
    "plt.axvline(x=r_computed, color = 'r')"
   ]
  },
  {
   "cell_type": "code",
   "execution_count": 21,
   "metadata": {},
   "outputs": [],
   "source": [
    "## TODO: write a function to calculate the P value given the null distribution you distributed\n",
    "## from shuffling the data, and the true correlation value, r_computed\n",
    "def calculate_p_value(corr_vals, r_computed):\n",
    "    \"\"\"\n",
    "    Given the true correlation value for the data, r_computed, calculate a p-value based on \n",
    "    correlation values obtained with shuffling\n",
    "    \n",
    "    :param corr_vals: list of correlation values obtained by shuffling the data\n",
    "    :param r_computed: true correlation value obtained from the data\n",
    "    :return p_val: p value\n",
    "    \"\"\"\n",
    "    ## TODO: FIll this in\n",
    "    # Examine number of samples with abs(r) > r_computed\n",
    "    number_samples_greater = np.sum(np.abs(corr_vals)>np.abs(r_computed))\n",
    "    p_val = number_samples_greater/len(corr_vals)\n",
    "    return p_val"
   ]
  },
  {
   "cell_type": "code",
   "execution_count": 22,
   "metadata": {},
   "outputs": [
    {
     "name": "stdout",
     "output_type": "stream",
     "text": [
      "0.0\n"
     ]
    }
   ],
   "source": [
    "p_val = calculate_p_value(corr_vals, r_computed)\n",
    "print(p_val)"
   ]
  },
  {
   "cell_type": "code",
   "execution_count": 23,
   "metadata": {},
   "outputs": [
    {
     "name": "stdout",
     "output_type": "stream",
     "text": [
      "1.1739870821941207e-19\n"
     ]
    }
   ],
   "source": [
    "# Compare with scipy:\n",
    "r_true, pval_scipy = stats.pearsonr(crime,house_prices)\n",
    "print(pval_scipy)"
   ]
  },
  {
   "cell_type": "markdown",
   "metadata": {},
   "source": [
    "Questions:\n",
    "    1.  Compare the p value that you obtained with your implementation of the permutation test with that that scipy's stats package would return (run ``r_true, pval = stats.pearsonr(crime,house_prices)`` to get scipy's stats p-value).  If there are differences, why do you think this is?\n",
    "    2.  What is the effect of increasing/decreasing the number of permutations that you carry out?  How does the shape of the null distribution change?  How does the retrieved p-value change?  (Try a few values; e.g. 10, 100, 1000, 10000)\n",
    "    3.  State explicitly what the null hypothesis and the alternative hypothesis are when you are carrying out the permutation test on this data\n",
    "    4.  Are you able to reject the null hypothesis?"
   ]
  }
 ],
 "metadata": {
  "kernelspec": {
   "display_name": "Python 3",
   "language": "python",
   "name": "python3"
  },
  "language_info": {
   "codemirror_mode": {
    "name": "ipython",
    "version": 3
   },
   "file_extension": ".py",
   "mimetype": "text/x-python",
   "name": "python",
   "nbconvert_exporter": "python",
   "pygments_lexer": "ipython3",
   "version": "3.6.7"
  }
 },
 "nbformat": 4,
 "nbformat_minor": 2
}
