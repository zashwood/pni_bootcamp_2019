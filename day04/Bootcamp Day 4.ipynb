{
 "cells": [
  {
   "cell_type": "markdown",
   "metadata": {},
   "source": [
    "# PNI Bootcamp Day 4: Principles of \"good\" coding"
   ]
  },
  {
   "cell_type": "markdown",
   "metadata": {},
   "source": [
    "Hi. This notebook contains code and text describing exercises for day 4 of the PNI graduate bootcamp on how to write \"good\" code. \n",
    "\n",
    "It is somewhat intended to be a pedagogical tool, so if you have any questions about what's going on in here, feel free to ask!"
   ]
  },
  {
   "cell_type": "markdown",
   "metadata": {},
   "source": [
    "*We begin with a generically useful import:*"
   ]
  },
  {
   "cell_type": "code",
   "execution_count": 1,
   "metadata": {},
   "outputs": [],
   "source": [
    "import numpy as np"
   ]
  },
  {
   "cell_type": "markdown",
   "metadata": {},
   "source": [
    "### Motivation: The distinction between good and bad code\n",
    "\n",
    "Below I've written two data processing cells that accomplish the same goal (i.e., perform the same analysis) -- one with good style and one with bad style. Note that neither will run since the referenced data file doesn't exist. By looking **only** at the cell below, can you figure out what analysis is being performed?"
   ]
  },
  {
   "cell_type": "code",
   "execution_count": null,
   "metadata": {},
   "outputs": [],
   "source": [
    "mp = np.loadtxt('mp_data_08302019.csv', skiprows=8, usecols=(4))\n",
    "mp = mp[330:50000]\n",
    "for i in range(500, len(mp) - 500):\n",
    "    mp[i] -= np.mean(mp[i - 500 : i + 500])\n",
    "thresh = np.mean(mp) + np.std(mp) * 2.5\n",
    "above_thresh = mp > thresh\n",
    "labs,nlabs = label(above_thresh)\n",
    "idxs = []\n",
    "for l in range(1,nlabs+1): # iterate\n",
    "    idxs2 = np.where(labs==l)[0]\n",
    "    peak_idx = idxs[np.argmax(mp[idxs2])]\n",
    "    idxs.append(peak_idx)\n",
    "avg = 0\n",
    "for i in range(1, len(idxs)):\n",
    "    avg += idxs[i] - idxs[i - 1]\n",
    "avg /= (len(idxs) - 1) * 1000"
   ]
  },
  {
   "cell_type": "markdown",
   "metadata": {},
   "source": [
    "Now what about this block?"
   ]
  },
  {
   "cell_type": "code",
   "execution_count": null,
   "metadata": {},
   "outputs": [],
   "source": [
    "######################## Helper functions ###########################\n",
    "\n",
    "# Load data from file. Skip first 8 header rows, and only return column 4 (membrane potential)\n",
    "def load_data(filename):\n",
    "    return np.loadtxt(filename, skiprows=8, usecols=(4))\n",
    "\n",
    "# Preprocess raw membrane potential data with sliding window mean subtraction. This \n",
    "# accounts for baseline drift in the recording and guarantees that the signal is 0-mean.\n",
    "def preproc_data(memb_pot, window_radius):\n",
    "    for i in range(window_radius, len(memb_pot) - window_radius):\n",
    "        memb_pot[i] -= np.mean(memb_pot[i - window_radius : i + window_radius])\n",
    "    \n",
    "    return memb_pot\n",
    "\n",
    "# Given a preprocessed membrane potential signal and an optional sampling rate, return \n",
    "# the times at which spikes occur in the signal. This is accomplished by splitting the \n",
    "# signal into sections > mean + n_std * std and then returning the peak\n",
    "# index within each section. \n",
    "def detect_peaks(memb_pot, n_std):\n",
    "    # Compute all sections of the signal above the threshold\n",
    "    thresh = np.mean(memb_pot) + np.std(memb_pot) * n_std\n",
    "    above_thresh = memb_pot > thresh    # boolean array\n",
    "    \n",
    "    # split the above_thresh signal into connected segments\n",
    "    labs, nlabs = label(above_thresh)\n",
    "\n",
    "    # iterate through each segment and store idx of each peak\n",
    "    peak_idxs = [] \n",
    "    for l in range(1,nlabs+1):\n",
    "\n",
    "        # find the indices of this segment\n",
    "        idxs = np.where(labs==l)[0]\n",
    "\n",
    "        # extract the signal values at these idxs\n",
    "        vals = memb_pot[idxs]\n",
    "\n",
    "        # select the index corresponding to the peak signal value\n",
    "        peak_idx = idxs[np.argmax(vals)]\n",
    "\n",
    "        # store in our list\n",
    "        peak_idxs.append(peak_idx)\n",
    "    \n",
    "    return peak_idxs\n",
    "\n",
    "# Given idxs of events in a signal and optional sampling rate, return avg time\n",
    "# between those events. If sampling rate is not provided, it is assumed that\n",
    "# sampling rate = 1Hz. IET = Inter-Event Interval\n",
    "def compute_avg_IET(event_idxs, sampling_rate=1):\n",
    "    s = 0\n",
    "    for i in range(1, len(event_idxs)):\n",
    "        s += event_idxs[i] - event_idxs[i - 1]\n",
    "    \n",
    "    s /= (len(event_idxs) - 1) * sampling_rate # If rate not specified, this returns \"time\" in sample space\n",
    "    \n",
    "    return s\n",
    "    \n",
    "######################## Main analysis logic ###########################\n",
    "\n",
    "FILENAME = 'mp_data_08302019.csv'\n",
    "SAMPLING_RATE = 1000\n",
    "START_SAMPLES = 0.33 * SAMPLING_RATE # Ignore first START_SAMPLES data samples\n",
    "END_SAMPLES = 50 * SAMPLING_RATE     # Ignore data after END_SAMPLES data samples\n",
    "WINDOW_RADIUS = 500 # half-width of window for preprocessing\n",
    "\n",
    "# Load raw membrane potential data from FILENAME\n",
    "raw_memb_pot = load_data(FILENAME)\n",
    "\n",
    "# Preprocessing step: subtract the mean in a sliding window of radius 500 \n",
    "# to remove baseline drift\n",
    "preproc_memb_pot = preproc_data(raw_memb_pot[START_SAMPLES, END_SAMPLES], WINDOW_RADIUS)\n",
    "\n",
    "# Extract indices of peaks in the signal (putative action potentials)\n",
    "memb_pot_peak_idxs = detect_peaks(preproc_memb_pot)\n",
    "\n",
    "# Given all of \"spike\" idxs, compute the average time between them \n",
    "avg_interspike_time = compute_avg_IET(memb_pot_peak_idxs, SAMPLING_RATE)"
   ]
  },
  {
   "cell_type": "markdown",
   "metadata": {},
   "source": [
    "### Exercises"
   ]
  },
  {
   "cell_type": "markdown",
   "metadata": {},
   "source": [
    "*Exercise 1: Decomposing language into programmatic structure*"
   ]
  },
  {
   "cell_type": "markdown",
   "metadata": {},
   "source": [
    "*1a.* Given the following text describing how one should play the guitar, write down the **structure** of a program that accepts a sheet music and plays it on the guitar. Essentially, write the \"main script\" portion of a typical modular program, making references to whatever functions you need to accomplish your goal. You do **not** need to actually fill out the details of the functions.\n",
    "\n",
    "1. Load sheet music.\n",
    "2. For every page in the music:\n",
    "    * For every note on the page:\n",
    "        * Play the note"
   ]
  },
  {
   "cell_type": "code",
   "execution_count": null,
   "metadata": {},
   "outputs": [],
   "source": [
    "SONGNAME = 'Julia - The Beatles'\n",
    "\n",
    "sheetmusic = load_sheetmusic(SONGNAME)\n",
    "pages = get_pages(sheetmusic)\n",
    "\n",
    "for page in pages:\n",
    "    for note in page:\n",
    "        play(note)"
   ]
  },
  {
   "cell_type": "markdown",
   "metadata": {},
   "source": [
    "*1b.* Given the following text describing how one should build a bridge, write down the **structure** of a program that accepts a bridge-specification and produces a bridge. Essentially, write the \"main script\" portion of a typical modular program, making references to whatever functions you need to accomplish your goal. You do **not** need to actually fill out the details of the functions.\n",
    "\n",
    "1. Load specification from client.\n",
    "2. Compute list of materials required from specification.\n",
    "3. Compute cost of materials from list.\n",
    "    * If materials are too expensive, lambast your client for their ambitions.\n",
    "    * If not, purchase materials.\n",
    "4. Given materials, build the bridge."
   ]
  },
  {
   "cell_type": "code",
   "execution_count": null,
   "metadata": {},
   "outputs": [],
   "source": [
    "CLIENT_SPEC = 'Princeton Neuroscience Institute 2.0'\n",
    "THRESHOLD = 100\n",
    "\n",
    "blueprint = load_specs(CLIENT_SPEC)\n",
    "materials = derive_materials(blueprint)\n",
    "cost = get_material_cost(materials)\n",
    "if cost > THRESHOLD:\n",
    "    print(THRESHOLD + ' is too much! Go away.')\n",
    "else:\n",
    "    actual_materials = purchase_materials(materials)\n",
    "    building = build_from_materials(actual_materials)\n",
    "    \n",
    "    "
   ]
  },
  {
   "cell_type": "markdown",
   "metadata": {},
   "source": [
    "*Exercise 2: Reusing code and building modular programs*"
   ]
  },
  {
   "cell_type": "markdown",
   "metadata": {},
   "source": [
    "*2a. The fibonacci sequence is a somewhat famous sequence of numbers. It is defined as follows: $fib(0) = 0,\\,fib(1) = 1,\\,fib(n) = fib(n-1) + fib(n-2)$ for integer $n \\geq 2$. The factorial function $n!$ computes the product $n! = n \\cdot (n - 1) \\cdot\\,...\\,\\cdot\\, 2 \\cdot 1$ for positive integer $n$.*\n",
    "\n",
    "*Write a function `fib_over_nfac` that accepts an integer `n` and returns $\\frac{fib(n)}{n!}$. In accordance with the priciples of modular programming, you should accomplish this by writing two helper functions -- one that computes $fib(n)$ and one that computes $n!$*."
   ]
  },
  {
   "cell_type": "code",
   "execution_count": null,
   "metadata": {},
   "outputs": [],
   "source": []
  },
  {
   "cell_type": "markdown",
   "metadata": {},
   "source": [
    "*2b. Write a function `n_choose_k` that accepts two integers `n, k` and returns $\\frac{n!}{k!(n-k)!}$. Note that this corresponds to the number of ways that one can select a subset of $k$ items from a set of $n$ items.*\n",
    "\n",
    "*You should use the factorial helper function you defined above in order to do this.*"
   ]
  },
  {
   "cell_type": "code",
   "execution_count": null,
   "metadata": {},
   "outputs": [],
   "source": []
  },
  {
   "cell_type": "markdown",
   "metadata": {},
   "source": [
    "*Exercise 3: Building a slightly more challenging modular program*"
   ]
  },
  {
   "cell_type": "markdown",
   "metadata": {},
   "source": [
    "*In this exercise, you will write a function `is_contained` that accepts a point `p` and a list of axis-aligned rectangles `rectangles` and returns the indices of the rectangles that contain `p`.* \n",
    "\n",
    "*A point is represented as a tuple `(x, y)` of coordinates. Rectangles will be represented as a tuple of two points `(p1, p2)`, where `p1` is the coordinates of the bottom-left corner and `p2` is the coordinates of the top-right corner.*\n",
    "\n",
    "*Unlike previous examples, I won't tell you explicitly what structure to use. Think about what computations are being carried out here and how you can represent them as functions. Feel free to check with me before you start coding.*"
   ]
  },
  {
   "cell_type": "code",
   "execution_count": null,
   "metadata": {},
   "outputs": [],
   "source": []
  },
  {
   "cell_type": "markdown",
   "metadata": {},
   "source": [
    "*Some example inputs to test your function on*"
   ]
  },
  {
   "cell_type": "code",
   "execution_count": null,
   "metadata": {},
   "outputs": [],
   "source": [
    "rect1 = [(0.5, 0.5), (1, 1)] # Defines a rectangle with bottom left corner at (0.5, 0.5), top right at (1, 1)\n",
    "rect2 = [(-0.5, -0.5), (0.5, 0.5)]\n",
    "rect3 = [(0, 0), (1, 1)]\n",
    "rect4 = [(-1, -1), (0, 0)]\n",
    "\n",
    "rectangles = [rect1, rect2, rect3, rect4]\n",
    "p1 = (0, 0) # The origin\n",
    "p2 = (2, 1)\n",
    "p3 = (-0.5, -0.5)"
   ]
  }
 ],
 "metadata": {
  "kernelspec": {
   "display_name": "Python 3",
   "language": "python",
   "name": "python3"
  },
  "language_info": {
   "codemirror_mode": {
    "name": "ipython",
    "version": 3
   },
   "file_extension": ".py",
   "mimetype": "text/x-python",
   "name": "python",
   "nbconvert_exporter": "python",
   "pygments_lexer": "ipython3",
   "version": "3.6.5"
  }
 },
 "nbformat": 4,
 "nbformat_minor": 2
}
